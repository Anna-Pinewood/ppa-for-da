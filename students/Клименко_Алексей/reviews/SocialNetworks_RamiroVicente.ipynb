{
  "nbformat": 4,
  "nbformat_minor": 0,
  "metadata": {
    "colab": {
      "name": "SocialNetworks_RamiroVicente.ipynb",
      "provenance": [],
      "collapsed_sections": []
    },
    "kernelspec": {
      "name": "python3",
      "display_name": "Python 3"
    },
    "language_info": {
      "name": "python"
    }
  },
  "cells": [
    {
      "cell_type": "markdown",
      "metadata": {
        "id": "dv2ft3bAHjQK"
      },
      "source": [
        "**Анализ социальных сетей**"
      ]
    },
    {
      "cell_type": "markdown",
      "metadata": {
        "id": "2siKrAXQHtjT"
      },
      "source": [
        "В этом примере мы будем использовать NetworkX. NetworkX - это пакет Python для создания, управления и изучения структуры, динамики и функций сложных сетей. Вы можете увидеть полную документацию NetworkX ЗДЕСЬ."
      ]
    },
    {
      "cell_type": "markdown",
      "metadata": {
        "id": "l0I4qjPnBqCj"
      },
      "source": [
        "###*РЕВЬЮ*\n",
        "*На слове \"ЗДЕСЬ\" наверное должна быть ссылка, но её нет.*"
      ]
    },
    {
      "cell_type": "code",
      "metadata": {
        "id": "pKvXKWM2FmTF"
      },
      "source": [
        "# Import Library\n",
        "import networkx as nx"
      ],
      "execution_count": 1,
      "outputs": []
    },
    {
      "cell_type": "markdown",
      "metadata": {
        "id": "kJOmWyV4IJY6"
      },
      "source": [
        "**Импортировать набор данных**\n",
        "Мы будем использовать набор данных Zachary's karate Club Dataset, доступный в NetworkX.\n"
      ]
    },
    {
      "cell_type": "code",
      "metadata": {
        "colab": {
          "base_uri": "https://localhost:8080/"
        },
        "id": "Q7graYVLGPCL",
        "outputId": "82ac45fa-eef8-4e05-e61d-8bc1eaa96221"
      },
      "source": [
        "# Import Dataset\n",
        "G = nx.karate_club_graph()\n",
        "print('#nodes:', len(G.nodes()), 'and', '#edges:', len(G.edges()))"
      ],
      "execution_count": 2,
      "outputs": [
        {
          "output_type": "stream",
          "name": "stdout",
          "text": [
            "#nodes: 34 and #edges: 78\n"
          ]
        }
      ]
    },
    {
      "cell_type": "markdown",
      "metadata": {
        "id": "JS9JWbNsIX2K"
      },
      "source": [
        "Данные были собраны Уэйном Закари у членов университетского клуба карате в 1977 году. Каждый узел представляет члена клуба. Каждое ребро представляет собой ничью между двумя членами клуба. Сеть неориентированная и невзвешенная. Есть 34 члена университетского клуба карате и 78 взаимодействий между членами."
      ]
    },
    {
      "cell_type": "markdown",
      "metadata": {
        "id": "O4vbS87BCDYu"
      },
      "source": [
        "###*РЕВЬЮ*\n",
        "*Каждое ребро представляет собой ничью между двумя членами клуба*\n",
        "*- почему  именно ничью?*"
      ]
    },
    {
      "cell_type": "markdown",
      "metadata": {
        "id": "q6IhD604Iob6"
      },
      "source": [
        "**Показать узлы и края**\n",
        "\n",
        "Документация по рисованию / визуализации: https://networkx.github.io/documentation/stable/reference/drawing.html"
      ]
    },
    {
      "cell_type": "code",
      "metadata": {
        "colab": {
          "base_uri": "https://localhost:8080/"
        },
        "id": "36C0FuqmGWhi",
        "outputId": "c489339f-f48e-4b49-cf06-e77d74eccbab"
      },
      "source": [
        "# Show the nodes\n",
        "nx.nodes(G)"
      ],
      "execution_count": 3,
      "outputs": [
        {
          "output_type": "execute_result",
          "data": {
            "text/plain": [
              "NodeView((0, 1, 2, 3, 4, 5, 6, 7, 8, 9, 10, 11, 12, 13, 14, 15, 16, 17, 18, 19, 20, 21, 22, 23, 24, 25, 26, 27, 28, 29, 30, 31, 32, 33))"
            ]
          },
          "metadata": {},
          "execution_count": 3
        }
      ]
    },
    {
      "cell_type": "code",
      "metadata": {
        "colab": {
          "base_uri": "https://localhost:8080/"
        },
        "id": "9x0TxrrbGWpY",
        "outputId": "75bb546d-e0e2-4aed-fe7a-c6df9b197652"
      },
      "source": [
        "# Show the edges\n",
        "nx.edges(G)"
      ],
      "execution_count": 4,
      "outputs": [
        {
          "output_type": "execute_result",
          "data": {
            "text/plain": [
              "EdgeView([(0, 1), (0, 2), (0, 3), (0, 4), (0, 5), (0, 6), (0, 7), (0, 8), (0, 10), (0, 11), (0, 12), (0, 13), (0, 17), (0, 19), (0, 21), (0, 31), (1, 2), (1, 3), (1, 7), (1, 13), (1, 17), (1, 19), (1, 21), (1, 30), (2, 3), (2, 7), (2, 8), (2, 9), (2, 13), (2, 27), (2, 28), (2, 32), (3, 7), (3, 12), (3, 13), (4, 6), (4, 10), (5, 6), (5, 10), (5, 16), (6, 16), (8, 30), (8, 32), (8, 33), (9, 33), (13, 33), (14, 32), (14, 33), (15, 32), (15, 33), (18, 32), (18, 33), (19, 33), (20, 32), (20, 33), (22, 32), (22, 33), (23, 25), (23, 27), (23, 29), (23, 32), (23, 33), (24, 25), (24, 27), (24, 31), (25, 31), (26, 29), (26, 33), (27, 33), (28, 31), (28, 33), (29, 32), (29, 33), (30, 32), (30, 33), (31, 32), (31, 33), (32, 33)])"
            ]
          },
          "metadata": {},
          "execution_count": 4
        }
      ]
    },
    {
      "cell_type": "markdown",
      "metadata": {
        "id": "EwV6z8KmIsDC"
      },
      "source": [
        ""
      ]
    },
    {
      "cell_type": "code",
      "metadata": {
        "id": "zIhJk0y3FgEA",
        "colab": {
          "base_uri": "https://localhost:8080/",
          "height": 575
        },
        "outputId": "a7f31b1e-a7cd-441e-ae5c-f7147ec9cab5"
      },
      "source": [
        "# Drawing\n",
        "import matplotlib.pyplot as plt\n",
        "layout = nx.fruchterman_reingold_layout(G)\n",
        "plt.figure(figsize=(10,10))\n",
        "plt.axis(\"off\") \n",
        "nx.draw_networkx(G, layout, with_labels=True, node_color = '#FF5733' )\n"
      ],
      "execution_count": 5,
      "outputs": [
        {
          "output_type": "display_data",
          "data": {
            "image/png": "[encoded data removed]",
            "text/plain": [
              "<Figure size 720x720 with 1 Axes>"
            ]
          },
          "metadata": {}
        }
      ]
    },
    {
      "cell_type": "markdown",
      "metadata": {
        "id": "jBF0PXaJJODj"
      },
      "source": [
        "**Плотность графа**\n",
        "\n",
        "Ближе к 0 взаимодействие между участниками каратэ становится более удаленным. Ближе к 1 взаимодействия более плотные"
      ]
    },
    {
      "cell_type": "code",
      "metadata": {
        "id": "PiQEBo-hrF8G",
        "colab": {
          "base_uri": "https://localhost:8080/"
        },
        "outputId": "da51d13d-3567-46b3-8ba2-755824fbc41b"
      },
      "source": [
        "# Graph Density\n",
        "nx.density(G)"
      ],
      "execution_count": 6,
      "outputs": [
        {
          "output_type": "execute_result",
          "data": {
            "text/plain": [
              "0.13903743315508021"
            ]
          },
          "metadata": {},
          "execution_count": 6
        }
      ]
    },
    {
      "cell_type": "markdown",
      "metadata": {
        "id": "pgnj0L--JhyW"
      },
      "source": [
        "**Средняя длина кратчайшего пути**\n",
        "\n",
        "Средняя дистанция среди каратистов.\n",
        "\n",
        "```\n",
        "# Esto tiene formato de código\n",
        "```\n",
        "\n"
      ]
    },
    {
      "cell_type": "code",
      "metadata": {
        "colab": {
          "base_uri": "https://localhost:8080/"
        },
        "id": "WVshKqydGWzJ",
        "outputId": "b7135cfc-d578-4cf4-ba5c-0b36edf09be5"
      },
      "source": [
        "# Average Shortest Path Lenght\n",
        "nx.average_shortest_path_length(G)"
      ],
      "execution_count": 7,
      "outputs": [
        {
          "output_type": "execute_result",
          "data": {
            "text/plain": [
              "2.408199643493761"
            ]
          },
          "metadata": {},
          "execution_count": 7
        }
      ]
    },
    {
      "cell_type": "markdown",
      "metadata": {
        "id": "sGDBHw1xJ0IT"
      },
      "source": [
        "**Диаметр сети**\n",
        "\n",
        "\n",
        "Максимальное расстояние между двумя самыми дальними элементами."
      ]
    },
    {
      "cell_type": "code",
      "metadata": {
        "colab": {
          "base_uri": "https://localhost:8080/"
        },
        "id": "qY9jcjVMGW4o",
        "outputId": "0387a6ed-12c8-4d6b-f0b7-ae2fa8eca3e9"
      },
      "source": [
        "nx.diameter(G)"
      ],
      "execution_count": 8,
      "outputs": [
        {
          "output_type": "execute_result",
          "data": {
            "text/plain": [
              "5"
            ]
          },
          "metadata": {},
          "execution_count": 8
        }
      ]
    },
    {
      "cell_type": "markdown",
      "metadata": {
        "id": "RMQdn_1jKMXL"
      },
      "source": [
        "**Обнаружение сообщества**"
      ]
    },
    {
      "cell_type": "code",
      "metadata": {
        "colab": {
          "base_uri": "https://localhost:8080/"
        },
        "id": "Z0imBsnpGW9k",
        "outputId": "3c3e7667-750e-4227-d093-dfdfdcb262aa"
      },
      "source": [
        "# Community Detection using Modularity\n",
        "from networkx.algorithms.community import greedy_modularity_communities\n",
        "greedy_modularity_communities(G)"
      ],
      "execution_count": 9,
      "outputs": [
        {
          "output_type": "execute_result",
          "data": {
            "text/plain": [
              "[frozenset({8,\n",
              "            14,\n",
              "            15,\n",
              "            18,\n",
              "            20,\n",
              "            22,\n",
              "            23,\n",
              "            24,\n",
              "            25,\n",
              "            26,\n",
              "            27,\n",
              "            28,\n",
              "            29,\n",
              "            30,\n",
              "            31,\n",
              "            32,\n",
              "            33}),\n",
              " frozenset({1, 2, 3, 7, 9, 12, 13, 17, 21}),\n",
              " frozenset({0, 4, 5, 6, 10, 11, 16, 19})]"
            ]
          },
          "metadata": {},
          "execution_count": 9
        }
      ]
    },
    {
      "cell_type": "markdown",
      "metadata": {
        "id": "dMunZ4X8KQ2r"
      },
      "source": [
        "**Подключенный компонент**"
      ]
    },
    {
      "cell_type": "code",
      "metadata": {
        "id": "j9cOnLrCoEz-",
        "colab": {
          "base_uri": "https://localhost:8080/"
        },
        "outputId": "1816e1c7-c005-48e6-abe0-431d7900b078"
      },
      "source": [
        "# Count Number of Connected Components\n",
        "nx.number_connected_components(G)"
      ],
      "execution_count": 10,
      "outputs": [
        {
          "output_type": "execute_result",
          "data": {
            "text/plain": [
              "1"
            ]
          },
          "metadata": {},
          "execution_count": 10
        }
      ]
    },
    {
      "cell_type": "markdown",
      "metadata": {
        "id": "0XJJ4hVqKXz9"
      },
      "source": [
        "**Степень**"
      ]
    },
    {
      "cell_type": "code",
      "metadata": {
        "id": "aBX3PD7I8nIn",
        "colab": {
          "base_uri": "https://localhost:8080/"
        },
        "outputId": "1ee27e06-0325-4165-94a4-f7c8d7455695"
      },
      "source": [
        "# Show node degree\n",
        "nx.degree(G)"
      ],
      "execution_count": 11,
      "outputs": [
        {
          "output_type": "execute_result",
          "data": {
            "text/plain": [
              "DegreeView({0: 16, 1: 9, 2: 10, 3: 6, 4: 3, 5: 4, 6: 4, 7: 4, 8: 5, 9: 2, 10: 3, 11: 1, 12: 2, 13: 5, 14: 2, 15: 2, 16: 2, 17: 2, 18: 2, 19: 3, 20: 2, 21: 2, 22: 2, 23: 5, 24: 3, 25: 3, 26: 2, 27: 4, 28: 3, 29: 4, 30: 4, 31: 6, 32: 12, 33: 17})"
            ]
          },
          "metadata": {},
          "execution_count": 11
        }
      ]
    },
    {
      "cell_type": "code",
      "metadata": {
        "colab": {
          "base_uri": "https://localhost:8080/"
        },
        "id": "aBD7yojHG6bH",
        "outputId": "4c844b6a-9dc7-4d3f-8c01-6fc77254d7fe"
      },
      "source": [
        "# Sorted from the highest Degree\n",
        "sorted(nx.degree(G), key=lambda x: x[1], reverse=True)"
      ],
      "execution_count": 12,
      "outputs": [
        {
          "output_type": "execute_result",
          "data": {
            "text/plain": [
              "[(33, 17),\n",
              " (0, 16),\n",
              " (32, 12),\n",
              " (2, 10),\n",
              " (1, 9),\n",
              " (3, 6),\n",
              " (31, 6),\n",
              " (8, 5),\n",
              " (13, 5),\n",
              " (23, 5),\n",
              " (5, 4),\n",
              " (6, 4),\n",
              " (7, 4),\n",
              " (27, 4),\n",
              " (29, 4),\n",
              " (30, 4),\n",
              " (4, 3),\n",
              " (10, 3),\n",
              " (19, 3),\n",
              " (24, 3),\n",
              " (25, 3),\n",
              " (28, 3),\n",
              " (9, 2),\n",
              " (12, 2),\n",
              " (14, 2),\n",
              " (15, 2),\n",
              " (16, 2),\n",
              " (17, 2),\n",
              " (18, 2),\n",
              " (20, 2),\n",
              " (21, 2),\n",
              " (22, 2),\n",
              " (26, 2),\n",
              " (11, 1)]"
            ]
          },
          "metadata": {},
          "execution_count": 12
        }
      ]
    },
    {
      "cell_type": "markdown",
      "metadata": {
        "id": "0XjxiTpaKgB1"
      },
      "source": [
        "**Центральность посредничества**"
      ]
    },
    {
      "cell_type": "code",
      "metadata": {
        "colab": {
          "base_uri": "https://localhost:8080/"
        },
        "id": "P0sDaygvG6e6",
        "outputId": "cd5a6b20-fc47-433b-ff7e-76fc17685ca8"
      },
      "source": [
        "# Calculate betweeness centrality and sort from the highest value\n",
        "sorted(nx.betweenness_centrality(G, normalized=True).items(), key=lambda x:x[1], reverse=True)[0:10]"
      ],
      "execution_count": 13,
      "outputs": [
        {
          "output_type": "execute_result",
          "data": {
            "text/plain": [
              "[(0, 0.43763528138528146),\n",
              " (33, 0.30407497594997596),\n",
              " (32, 0.145247113997114),\n",
              " (2, 0.14365680615680618),\n",
              " (31, 0.13827561327561325),\n",
              " (8, 0.05592682780182781),\n",
              " (1, 0.053936688311688304),\n",
              " (13, 0.04586339586339586),\n",
              " (19, 0.03247504810004811),\n",
              " (5, 0.02998737373737374)]"
            ]
          },
          "metadata": {},
          "execution_count": 13
        }
      ]
    },
    {
      "cell_type": "markdown",
      "metadata": {
        "id": "07qfnB58KnAD"
      },
      "source": [
        "**Центральность близости**"
      ]
    },
    {
      "cell_type": "code",
      "metadata": {
        "colab": {
          "base_uri": "https://localhost:8080/"
        },
        "id": "milX55uyG6if",
        "outputId": "40521f09-459a-475b-b984-8c69b655733e"
      },
      "source": [
        "# Calculate closeness centrality and sort from the highest value\n",
        "sorted(nx.closeness_centrality(G).items(), key=lambda x:x[1], reverse=True)[0:10]"
      ],
      "execution_count": 14,
      "outputs": [
        {
          "output_type": "execute_result",
          "data": {
            "text/plain": [
              "[(0, 0.5689655172413793),\n",
              " (2, 0.559322033898305),\n",
              " (33, 0.55),\n",
              " (31, 0.5409836065573771),\n",
              " (8, 0.515625),\n",
              " (13, 0.515625),\n",
              " (32, 0.515625),\n",
              " (19, 0.5),\n",
              " (1, 0.4852941176470588),\n",
              " (3, 0.4647887323943662)]"
            ]
          },
          "metadata": {},
          "execution_count": 14
        }
      ]
    },
    {
      "cell_type": "markdown",
      "metadata": {
        "id": "H7WPSd9AKuDk"
      },
      "source": [
        "**Центральность собственного вектора**"
      ]
    },
    {
      "cell_type": "code",
      "metadata": {
        "colab": {
          "base_uri": "https://localhost:8080/"
        },
        "id": "hGjrjXfkG6m_",
        "outputId": "45363046-b13f-48f1-e3af-6ee0e3128a7f"
      },
      "source": [
        "# Calculate eigenvector centrality and sort from the highest value\n",
        "sorted(nx.eigenvector_centrality(G).items(), key=lambda x:x[1], reverse=True)[0:10]"
      ],
      "execution_count": 15,
      "outputs": [
        {
          "output_type": "execute_result",
          "data": {
            "text/plain": [
              "[(33, 0.373371213013235),\n",
              " (0, 0.3554834941851943),\n",
              " (2, 0.31718938996844476),\n",
              " (32, 0.3086510477336959),\n",
              " (1, 0.2659538704545025),\n",
              " (8, 0.2274050914716605),\n",
              " (13, 0.22646969838808148),\n",
              " (3, 0.2111740783205706),\n",
              " (31, 0.19103626979791702),\n",
              " (30, 0.17476027834493085)]"
            ]
          },
          "metadata": {},
          "execution_count": 15
        }
      ]
    },
    {
      "cell_type": "markdown",
      "metadata": {
        "id": "ssZ0UOM3HegT"
      },
      "source": [
        "\n",
        "**Использованная литература:**\n",
        "https://coderoad.ru/42591549/%D0%94%D0%BE%D0%B1%D0%B0%D0%B2%D0%BB%D0%B5%D0%BD%D0%B8%D0%B5 -% D0% B8-% D1% 83% D0% B4% D0% B0% D0% BB% D0% B5% D0% BD% D0% B8% D0% B5-% D1% 80% D0% B5% D0% B1% D1% 80% D0% B0-random-% ​​D0% B2-networkx\n",
        "\n",
        "https://colab.research.google.com/github/rc-dbe/bigdatacertification/blob/master/Social_Network_Analysis.ipynb"
      ]
    },
    {
      "cell_type": "markdown",
      "metadata": {
        "id": "lvVdozenCdmd"
      },
      "source": [
        "#Ревью. Итоги.\n",
        "\n",
        "Минусы:\n",
        "*  Логические ошибки\n",
        "*  Непонятна цель\n",
        "\n",
        "Плюсы:\n",
        "*  Запускается\n",
        "*  Есть список источников\n",
        "*  Есть описание исходных данных\n",
        "*  Есть источники в тексте\n",
        "\n",
        "Итог: Непонятна цель модели, зачем мы проводили все эти операции? Что мы узнали в конце? Возможно, при описании исходных данных были допущены логические ошибки."
      ]
    }
  ]
}