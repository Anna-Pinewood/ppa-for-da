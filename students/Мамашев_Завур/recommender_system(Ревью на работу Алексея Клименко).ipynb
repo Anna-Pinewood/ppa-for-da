{
  "nbformat": 4,
  "nbformat_minor": 0,
  "metadata": {
    "colab": {
      "name": "recommender_system.ipynb",
      "provenance": [],
      "collapsed_sections": [],
      "include_colab_link": true
    },
    "kernelspec": {
      "name": "python3",
      "display_name": "Python 3"
    },
    "language_info": {
      "name": "python"
    }
  },
  "cells": [
    {
      "cell_type": "markdown",
      "metadata": {
        "id": "view-in-github",
        "colab_type": "text"
      },
      "source": [
        "<a href=\"https://colab.research.google.com/github/mash1negun/ppa-for-da/blob/AddingFile/students/%D0%9C%D0%B0%D0%BC%D0%B0%D1%88%D0%B5%D0%B2_%D0%97%D0%B0%D0%B2%D1%83%D1%80/recommender_system(%D0%A0%D0%B5%D0%B2%D1%8C%D1%8E%20%D0%BD%D0%B0%20%D1%80%D0%B0%D0%B1%D0%BE%D1%82%D1%83%20%D0%90%D0%BB%D0%B5%D0%BA%D1%81%D0%B5%D1%8F%20%D0%9A%D0%BB%D0%B8%D0%BC%D0%B5%D0%BD%D0%BA%D0%BE).ipynb\" target=\"_parent\"><img src=\"https://colab.research.google.com/assets/colab-badge.svg\" alt=\"Open In Colab\"/></a>"
      ]
    },
    {
      "cell_type": "markdown",
      "metadata": {
        "id": "vDJXqQj3_AlS"
      },
      "source": [
        "##Библиотека Surprise\n",
        "\n",
        "Библиотека Surprise используется для создания рекомендательных систем. Рекомендательная система (англ. recommender system) - это подкласс системы фильтрации информации, которая стремится предсказать некоторый рейтинг или уровень предпочтения, который пользователь соотнесёт с конкретным элементом (например, товаром, фильмом, книгой и т.д.).\n",
        "\n",
        "**Коллаборативная фильтрация**, совместная фильтрация (англ. collaborative filtering) — метод, использующий известные предпочтения (оценки) группы пользователей для прогнозирования неизвестных предпочтений другого пользователя. Его основное допущение состоит в следующем: те, кто одинаково оценивал какие-либо предметы в прошлом, склонны давать похожие оценки другим предметам и в будущем. Например, с помощью коллаборативной фильтрации музыкальное приложение способно прогнозировать, какая музыка понравится пользователю, имея неполный список его предпочтений (симпатий и антипатий).\n",
        "\n",
        "В данном туториале рассмотрим построение рекомендательной системы основанной на коллаборативной фильтрации.\n"
      ]
    },
    {
      "cell_type": "code",
      "metadata": {
        "colab": {
          "base_uri": "https://localhost:8080/"
        },
        "id": "C3Mxf7ozpMxQ",
        "outputId": "5f7588d3-550c-4b86-927f-891cc0f5607e"
      },
      "source": [
        "! pip install scikit-surprise\n",
        "from surprise import Dataset\n",
        "from surprise import Reader\n",
        "from surprise import accuracy\n",
        "\n",
        "import os\n",
        "import csv\n",
        "\n",
        "# Загрузим датасет с рейтингами фильмов\n",
        "!wget http://files.grouplens.org/datasets/movielens/ml-latest-small.zip\n",
        "!unzip ml-latest-small.zip\n",
        "!ls"
      ],
      "execution_count": 12,
      "outputs": [
        {
          "output_type": "stream",
          "name": "stdout",
          "text": [
            "Requirement already satisfied: scikit-surprise in /usr/local/lib/python3.7/dist-packages (1.1.1)\n",
            "Requirement already satisfied: numpy>=1.11.2 in /usr/local/lib/python3.7/dist-packages (from scikit-surprise) (1.19.5)\n",
            "Requirement already satisfied: scipy>=1.0.0 in /usr/local/lib/python3.7/dist-packages (from scikit-surprise) (1.4.1)\n",
            "Requirement already satisfied: joblib>=0.11 in /usr/local/lib/python3.7/dist-packages (from scikit-surprise) (1.1.0)\n",
            "Requirement already satisfied: six>=1.10.0 in /usr/local/lib/python3.7/dist-packages (from scikit-surprise) (1.15.0)\n",
            "--2021-11-24 22:29:22--  http://files.grouplens.org/datasets/movielens/ml-latest-small.zip\n",
            "Resolving files.grouplens.org (files.grouplens.org)... 128.101.65.152\n",
            "Connecting to files.grouplens.org (files.grouplens.org)|128.101.65.152|:80... connected.\n",
            "HTTP request sent, awaiting response... 200 OK\n",
            "Length: 978202 (955K) [application/zip]\n",
            "Saving to: ‘ml-latest-small.zip.2’\n",
            "\n",
            "ml-latest-small.zip 100%[===================>] 955.28K  4.57MB/s    in 0.2s    \n",
            "\n",
            "2021-11-24 22:29:23 (4.57 MB/s) - ‘ml-latest-small.zip.2’ saved [978202/978202]\n",
            "\n",
            "Archive:  ml-latest-small.zip\n",
            "replace ml-latest-small/links.csv? [y]es, [n]o, [A]ll, [N]one, [r]ename: y\n",
            "  inflating: ml-latest-small/links.csv  \n",
            "replace ml-latest-small/tags.csv? [y]es, [n]o, [A]ll, [N]one, [r]ename: y\n",
            "  inflating: ml-latest-small/tags.csv  \n",
            "replace ml-latest-small/ratings.csv? [y]es, [n]o, [A]ll, [N]one, [r]ename: y\n",
            "  inflating: ml-latest-small/ratings.csv  \n",
            "replace ml-latest-small/README.txt? [y]es, [n]o, [A]ll, [N]one, [r]ename: y\n",
            "  inflating: ml-latest-small/README.txt  \n",
            "replace ml-latest-small/movies.csv? [y]es, [n]o, [A]ll, [N]one, [r]ename: y\n",
            "  inflating: ml-latest-small/movies.csv  \n",
            "ml-latest-small      ml-latest-small.zip.1  sample_data\n",
            "ml-latest-small.zip  ml-latest-small.zip.2\n"
          ]
        }
      ]
    },
    {
      "cell_type": "markdown",
      "metadata": {
        "id": "RyWRKq2My64s"
      },
      "source": [
        "Сформируем датасет"
      ]
    },
    {
      "cell_type": "code",
      "metadata": {
        "id": "IZWRoSkVpnut"
      },
      "source": [
        "def load_dataset():\n",
        "    reader = Reader(line_format='user item rating timestamp', sep=',', skip_lines=1)\n",
        "    ratings_dataset = Dataset.load_from_file('ml-latest-small/ratings.csv', reader=reader)\n",
        "\n",
        "    movieID_to_name = {}\n",
        "    with open('ml-latest-small/movies.csv', newline='', encoding='ISO-8859-1') as csvfile:\n",
        "            movie_reader = csv.reader(csvfile)\n",
        "            next(movie_reader)\n",
        "            for row in movie_reader:\n",
        "                movieID = int(row[0])\n",
        "                movie_name = row[1]\n",
        "                movieID_to_name[movieID] = movie_name\n",
        "    \n",
        "    return (ratings_dataset, movieID_to_name)\n",
        "\n",
        "dataset, movieID_to_name = load_dataset()"
      ],
      "execution_count": 2,
      "outputs": []
    },
    {
      "cell_type": "markdown",
      "metadata": {
        "id": "CCBw5TpExNIf"
      },
      "source": [
        "Небольшая утилита для получения названия фильма"
      ]
    },
    {
      "cell_type": "code",
      "metadata": {
        "id": "EzOZ44TzszN3"
      },
      "source": [
        "def getMovieName(movieID):\n",
        "  if int(movieID) in movieID_to_name:\n",
        "    return movieID_to_name[int(movieID)]\n",
        "  else:\n",
        "      return \"\""
      ],
      "execution_count": 3,
      "outputs": []
    },
    {
      "cell_type": "markdown",
      "metadata": {
        "id": "H5vEf3w8xGfY"
      },
      "source": [
        "Разделим выборку на тренировочную и тестовую"
      ]
    },
    {
      "cell_type": "code",
      "metadata": {
        "id": "Tc6N20hzu3bD"
      },
      "source": [
        "from surprise.model_selection import train_test_split\n",
        "\n",
        "trainset, testset = train_test_split(dataset, test_size=0.25)"
      ],
      "execution_count": 4,
      "outputs": []
    },
    {
      "cell_type": "markdown",
      "metadata": {
        "id": "q4Es_6R8xUZt"
      },
      "source": [
        "Импортируем и обучим модель"
      ]
    },
    {
      "cell_type": "code",
      "metadata": {
        "id": "p0rdKa2arUzG",
        "colab": {
          "base_uri": "https://localhost:8080/"
        },
        "outputId": "3ae7944d-5286-4f4d-cbfb-a02f4a424c49"
      },
      "source": [
        "from surprise import SVD\n",
        "svd = SVD()\n",
        "svd.fit(trainset)"
      ],
      "execution_count": 5,
      "outputs": [
        {
          "output_type": "execute_result",
          "data": {
            "text/plain": [
              "<surprise.prediction_algorithms.matrix_factorization.SVD at 0x7f50e2004790>"
            ]
          },
          "metadata": {},
          "execution_count": 5
        }
      ]
    },
    {
      "cell_type": "markdown",
      "metadata": {
        "id": "jWvcjW4rxt38"
      },
      "source": [
        "Воспользуемся тестовой выборкой и рассчитаем среднеквадратическую ошибку"
      ]
    },
    {
      "cell_type": "code",
      "metadata": {
        "colab": {
          "base_uri": "https://localhost:8080/"
        },
        "id": "Fzqs6Jxu1rhc",
        "outputId": "46d6aa57-59a2-4a0a-c610-81e7d155cdb5"
      },
      "source": [
        "predictions = svd.test(testset)\n",
        "accuracy.rmse(predictions)"
      ],
      "execution_count": 13,
      "outputs": [
        {
          "output_type": "stream",
          "name": "stdout",
          "text": [
            "RMSE: 0.8787\n"
          ]
        },
        {
          "output_type": "execute_result",
          "data": {
            "text/plain": [
              "0.8787301512114029"
            ]
          },
          "metadata": {},
          "execution_count": 13
        }
      ]
    },
    {
      "cell_type": "markdown",
      "metadata": {
        "id": "OkASeV_NyKdn"
      },
      "source": [
        "Порекомендуем пользователю фильм, предположив, что он оценит его больше чем на 4 балла"
      ]
    },
    {
      "cell_type": "code",
      "metadata": {
        "colab": {
          "base_uri": "https://localhost:8080/"
        },
        "id": "peaBTzQovmca",
        "outputId": "d588dcfe-9bca-42c9-fe23-d34b1b8ab096"
      },
      "source": [
        "for prediction in predictions:\n",
        "  if prediction.est >= 4:\n",
        "    print(\"Можем порекомендовать пользователю {name} фильм {movie}\".format(name=prediction.uid, movie=getMovieName(prediction.iid)))\n",
        "    break"
      ],
      "execution_count": 7,
      "outputs": [
        {
          "output_type": "stream",
          "name": "stdout",
          "text": [
            "Можем порекомендовать пользователю 340 фильм Crimson Tide (1995)\n"
          ]
        }
      ]
    },
    {
      "cell_type": "markdown",
      "metadata": {
        "id": "of95J5rkzRdJ"
      },
      "source": [
        "# Резюме\n",
        "В данном туториале была построена и обучена рекомендательная система основанная на коллаборативной фильтрации."
      ]
    },
    {
      "cell_type": "markdown",
      "metadata": {
        "id": "j4Tsxe-DzT2L"
      },
      "source": [
        "# Источники\n",
        "\n",
        "1.  [Surprise’ documentation](https://surprise.readthedocs.io/en/stable/)\n",
        "2.  [Wiki Recommender system](https://en.wikipedia.org/wiki/Recommender_system)\n",
        "3.  [How you can build simple recommender systems with Surprise.](https://towardsdatascience.com/how-you-can-build-simple-recommender-systems-with-surprise-b0d32a8e4802)\n",
        "4.  [Youtube - How To Use The Surprise Library For Recommendation Engines](https://www.youtube.com/watch?v=fEd1p8-3S7w)\n",
        "5.  [Build a Recommendation Engine With Collaborative Filtering](https://realpython.com/build-recommendation-engine-collaborative-filtering/#the-dataset)"
      ]
    },
    {
      "cell_type": "markdown",
      "metadata": {
        "id": "LO_5L0CmEtPm"
      },
      "source": [
        "# Ревью (Мамашев Завур)"
      ]
    },
    {
      "cell_type": "markdown",
      "metadata": {
        "id": "GcA63F5DEu-1"
      },
      "source": [
        "Туториал был пройден, но 13 блок с кодом не работал из-за отсутствия import accuracy."
      ]
    }
  ]
}