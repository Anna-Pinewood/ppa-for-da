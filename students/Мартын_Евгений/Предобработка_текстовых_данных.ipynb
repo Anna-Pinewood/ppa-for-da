{
  "nbformat": 4,
  "nbformat_minor": 0,
  "metadata": {
    "colab": {
      "name": "Предобработка текстовых данных ",
      "provenance": [],
      "collapsed_sections": []
    },
    "kernelspec": {
      "name": "python3",
      "display_name": "Python 3"
    },
    "language_info": {
      "name": "python"
    }
  },
  "cells": [
    {
      "cell_type": "markdown",
      "source": [
        "Установка дополнительных зависимостей:"
      ],
      "metadata": {
        "id": "xETB3XDtwEb2"
      }
    },
    {
      "cell_type": "code",
      "source": [
        "!pip install nltk\n",
        "!pip install contractions \n",
        "!pip install inflect\n",
        "!pip install num2words"
      ],
      "metadata": {
        "colab": {
          "base_uri": "https://localhost:8080/"
        },
        "id": "IVc9eAp_eT37",
        "outputId": "c6ad71d0-084b-43c1-ff00-8e9124e1d323"
      },
      "execution_count": 1,
      "outputs": [
        {
          "output_type": "stream",
          "name": "stdout",
          "text": [
            "Requirement already satisfied: nltk in /usr/local/lib/python3.7/dist-packages (3.2.5)\n",
            "Requirement already satisfied: six in /usr/local/lib/python3.7/dist-packages (from nltk) (1.15.0)\n",
            "Collecting contractions\n",
            "  Downloading contractions-0.1.66-py2.py3-none-any.whl (8.0 kB)\n",
            "Collecting textsearch>=0.0.21\n",
            "  Downloading textsearch-0.0.21-py2.py3-none-any.whl (7.5 kB)\n",
            "Collecting anyascii\n",
            "  Downloading anyascii-0.3.0-py3-none-any.whl (284 kB)\n",
            "\u001b[K     ,████████████████████████████████, 284 kB 9.7 MB/s \n",
            "\u001b[?25hCollecting pyahocorasick\n",
            "  Downloading pyahocorasick-1.4.4-cp37-cp37m-manylinux_2_17_x86_64.manylinux2014_x86_64.whl (106 kB)\n",
            "\u001b[K     ,████████████████████████████████, 106 kB 44.2 MB/s \n",
            "\u001b[?25hInstalling collected packages: pyahocorasick, anyascii, textsearch, contractions\n",
            "Successfully installed anyascii-0.3.0 contractions-0.1.66 pyahocorasick-1.4.4 textsearch-0.0.21\n",
            "Requirement already satisfied: inflect in /usr/local/lib/python3.7/dist-packages (2.1.0)\n",
            "Collecting num2words\n",
            "  Downloading num2words-0.5.10-py3-none-any.whl (101 kB)\n",
            "\u001b[K     ,████████████████████████████████, 101 kB 6.5 MB/s \n",
            "\u001b[?25hRequirement already satisfied: docopt>=0.6.2 in /usr/local/lib/python3.7/dist-packages (from num2words) (0.6.2)\n",
            "Installing collected packages: num2words\n",
            "Successfully installed num2words-0.5.10\n"
          ]
        }
      ]
    },
    {
      "cell_type": "markdown",
      "source": [
        "Импортирование библиотек:"
      ],
      "metadata": {
        "id": "5TFCE5nKwzJ7"
      }
    },
    {
      "cell_type": "code",
      "execution_count": 2,
      "metadata": {
        "colab": {
          "base_uri": "https://localhost:8080/"
        },
        "id": "Sx2bAhRnUGMP",
        "outputId": "31ef413e-14c5-42b4-c6d1-f907fe8f52a6"
      },
      "outputs": [
        {
          "output_type": "stream",
          "name": "stdout",
          "text": [
            "[nltk_data] Downloading collection 'popular'\n",
            "[nltk_data]    , \n",
            "[nltk_data]    , Downloading package cmudict to /root/nltk_data...\n",
            "[nltk_data]    ,   Unzipping corpora/cmudict.zip.\n",
            "[nltk_data]    , Downloading package gazetteers to /root/nltk_data...\n",
            "[nltk_data]    ,   Unzipping corpora/gazetteers.zip.\n",
            "[nltk_data]    , Downloading package genesis to /root/nltk_data...\n",
            "[nltk_data]    ,   Unzipping corpora/genesis.zip.\n",
            "[nltk_data]    , Downloading package gutenberg to /root/nltk_data...\n",
            "[nltk_data]    ,   Unzipping corpora/gutenberg.zip.\n",
            "[nltk_data]    , Downloading package inaugural to /root/nltk_data...\n",
            "[nltk_data]    ,   Unzipping corpora/inaugural.zip.\n",
            "[nltk_data]    , Downloading package movie_reviews to\n",
            "[nltk_data]    ,     /root/nltk_data...\n",
            "[nltk_data]    ,   Unzipping corpora/movie_reviews.zip.\n",
            "[nltk_data]    , Downloading package names to /root/nltk_data...\n",
            "[nltk_data]    ,   Unzipping corpora/names.zip.\n",
            "[nltk_data]    , Downloading package shakespeare to /root/nltk_data...\n",
            "[nltk_data]    ,   Unzipping corpora/shakespeare.zip.\n",
            "[nltk_data]    , Downloading package stopwords to /root/nltk_data...\n",
            "[nltk_data]    ,   Unzipping corpora/stopwords.zip.\n",
            "[nltk_data]    , Downloading package treebank to /root/nltk_data...\n",
            "[nltk_data]    ,   Unzipping corpora/treebank.zip.\n",
            "[nltk_data]    , Downloading package twitter_samples to\n",
            "[nltk_data]    ,     /root/nltk_data...\n",
            "[nltk_data]    ,   Unzipping corpora/twitter_samples.zip.\n",
            "[nltk_data]    , Downloading package omw to /root/nltk_data...\n",
            "[nltk_data]    ,   Unzipping corpora/omw.zip.\n",
            "[nltk_data]    , Downloading package omw-1.4 to /root/nltk_data...\n",
            "[nltk_data]    ,   Unzipping corpora/omw-1.4.zip.\n",
            "[nltk_data]    , Downloading package wordnet to /root/nltk_data...\n",
            "[nltk_data]    ,   Unzipping corpora/wordnet.zip.\n",
            "[nltk_data]    , Downloading package wordnet2021 to /root/nltk_data...\n",
            "[nltk_data]    ,   Unzipping corpora/wordnet2021.zip.\n",
            "[nltk_data]    , Downloading package wordnet31 to /root/nltk_data...\n",
            "[nltk_data]    ,   Unzipping corpora/wordnet31.zip.\n",
            "[nltk_data]    , Downloading package wordnet_ic to /root/nltk_data...\n",
            "[nltk_data]    ,   Unzipping corpora/wordnet_ic.zip.\n",
            "[nltk_data]    , Downloading package words to /root/nltk_data...\n",
            "[nltk_data]    ,   Unzipping corpora/words.zip.\n",
            "[nltk_data]    , Downloading package maxent_ne_chunker to\n",
            "[nltk_data]    ,     /root/nltk_data...\n",
            "[nltk_data]    ,   Unzipping chunkers/maxent_ne_chunker.zip.\n",
            "[nltk_data]    , Downloading package punkt to /root/nltk_data...\n",
            "[nltk_data]    ,   Unzipping tokenizers/punkt.zip.\n",
            "[nltk_data]    , Downloading package snowball_data to\n",
            "[nltk_data]    ,     /root/nltk_data...\n",
            "[nltk_data]    , Downloading package averaged_perceptron_tagger to\n",
            "[nltk_data]    ,     /root/nltk_data...\n",
            "[nltk_data]    ,   Unzipping taggers/averaged_perceptron_tagger.zip.\n",
            "[nltk_data]    , \n",
            "[nltk_data]  Done downloading collection popular\n"
          ]
        },
        {
          "output_type": "execute_result",
          "data": {
            "text/plain": [
              "True"
            ]
          },
          "metadata": {},
          "execution_count": 2
        }
      ],
      "source": [
        "import re, string, unicodedata\n",
        "import nltk\n",
        "import contractions\n",
        "import inflect\n",
        "from bs4 import BeautifulSoup\n",
        "from nltk import word_tokenize, sent_tokenize\n",
        "from nltk.corpus import stopwords\n",
        "from nltk.stem import LancasterStemmer, WordNetLemmatizer\n",
        "from num2words import num2words\n",
        "import nltk\n",
        "nltk.download(\"popular\")\n",
        "# nltk.download(\"punkt\")"
      ]
    },
    {
      "cell_type": "markdown",
      "source": [
        "Токенизация — это самый первый шаг при обработке текста. Заключается в разбиении (разделении) длинных строк текста в более мелкие: абзацы делим на предложения, предложения на слова"
      ],
      "metadata": {
        "id": "4eHjTc6eoUJx"
      }
    },
    {
      "cell_type": "code",
      "source": [
        "text = \"The striped bats are hanging on their feet for best\"\n",
        "words = nltk.word_tokenize(text)\n",
        "words"
      ],
      "metadata": {
        "colab": {
          "base_uri": "https://localhost:8080/"
        },
        "id": "NVEwYi76a4WZ",
        "outputId": "fee06460-6ab8-4160-a4a7-c40b727cc485"
      },
      "execution_count": 4,
      "outputs": [
        {
          "output_type": "execute_result",
          "data": {
            "text/plain": [
              "['The',\n",
              " 'striped',\n",
              " 'bats',\n",
              " 'are',\n",
              " 'hanging',\n",
              " 'on',\n",
              " 'their',\n",
              " 'feet',\n",
              " 'for',\n",
              " 'best']"
            ]
          },
          "metadata": {},
          "execution_count": 4
        }
      ]
    },
    {
      "cell_type": "markdown",
      "source": [
        "**Нормализация**"
      ],
      "metadata": {
        "id": "TL5sazS8ukoz"
      }
    },
    {
      "cell_type": "markdown",
      "source": [
        "Приведение слов к нижнему регистру"
      ],
      "metadata": {
        "id": "XknCi1Vm0Ihe"
      }
    },
    {
      "cell_type": "code",
      "source": [
        "def to_lowercase(words):\n",
        "    new_words = []\n",
        "    for word in words:\n",
        "        new_word = word.lower()\n",
        "        new_words.append(new_word)\n",
        "    return new_words\n",
        "words = to_lowercase(words)\n",
        "words"
      ],
      "metadata": {
        "colab": {
          "base_uri": "https://localhost:8080/"
        },
        "id": "hujthrYouzi8",
        "outputId": "7df64527-31a0-40ac-a512-5246bd1a62e8"
      },
      "execution_count": 5,
      "outputs": [
        {
          "output_type": "execute_result",
          "data": {
            "text/plain": [
              "['the',\n",
              " 'striped',\n",
              " 'bats',\n",
              " 'are',\n",
              " 'hanging',\n",
              " 'on',\n",
              " 'their',\n",
              " 'feet',\n",
              " 'for',\n",
              " 'best']"
            ]
          },
          "metadata": {},
          "execution_count": 5
        }
      ]
    },
    {
      "cell_type": "markdown",
      "source": [
        "Удаленеи знаков препинания"
      ],
      "metadata": {
        "id": "DfgKG57b0Fkt"
      }
    },
    {
      "cell_type": "code",
      "source": [
        "def remove_punctuation(words):\n",
        "    new_words = []\n",
        "    for word in words:\n",
        "        new_word = re.sub(r'[^\\w\\s]', '', word)\n",
        "        if new_word != '':\n",
        "            new_words.append(new_word)\n",
        "    return new_words\n",
        "words = remove_punctuation(words)\n",
        "words"
      ],
      "metadata": {
        "colab": {
          "base_uri": "https://localhost:8080/"
        },
        "id": "uDsgf8KK0P2P",
        "outputId": "b08c3046-8943-48b9-ade3-e5dc3d40b25b"
      },
      "execution_count": 6,
      "outputs": [
        {
          "output_type": "execute_result",
          "data": {
            "text/plain": [
              "['the',\n",
              " 'striped',\n",
              " 'bats',\n",
              " 'are',\n",
              " 'hanging',\n",
              " 'on',\n",
              " 'their',\n",
              " 'feet',\n",
              " 'for',\n",
              " 'best']"
            ]
          },
          "metadata": {},
          "execution_count": 6
        }
      ]
    },
    {
      "cell_type": "markdown",
      "source": [
        "Заменить числовое представление текстовым"
      ],
      "metadata": {
        "id": "lPQPkmzb0oGx"
      }
    },
    {
      "cell_type": "code",
      "source": [
        "def replace_numbers(words):\n",
        "    new_words = []\n",
        "    for word in words:\n",
        "        if word.isdigit():\n",
        "            new_word = num2words(word, lang='ru')\n",
        "            new_words.append(new_word)\n",
        "        else:\n",
        "            new_words.append(word)\n",
        "\n",
        "    return new_words\n",
        "words = replace_numbers(words)\n",
        "words"
      ],
      "metadata": {
        "colab": {
          "base_uri": "https://localhost:8080/"
        },
        "id": "LC3gO9Fo0rx0",
        "outputId": "2b3677be-8a2c-4ff0-c6cc-6b3dfa6f51f8"
      },
      "execution_count": 7,
      "outputs": [
        {
          "output_type": "execute_result",
          "data": {
            "text/plain": [
              "['the',\n",
              " 'striped',\n",
              " 'bats',\n",
              " 'are',\n",
              " 'hanging',\n",
              " 'on',\n",
              " 'their',\n",
              " 'feet',\n",
              " 'for',\n",
              " 'best']"
            ]
          },
          "metadata": {},
          "execution_count": 7
        }
      ]
    },
    {
      "cell_type": "markdown",
      "source": [
        "Стемминг(нахождение основ слова)"
      ],
      "metadata": {
        "id": "rjtqiePd2AJK"
      }
    },
    {
      "cell_type": "code",
      "source": [
        "def stem_words(words):\n",
        "    stemmer = LancasterStemmer()\n",
        "    stems = []\n",
        "    for word in words:\n",
        "        stem = stemmer.stem(word)\n",
        "        stems.append(stem)\n",
        "    return stems\n",
        "words = stem_words(words)\n",
        "words"
      ],
      "metadata": {
        "colab": {
          "base_uri": "https://localhost:8080/"
        },
        "id": "X0NRm_4r2Crb",
        "outputId": "f35990d8-5d3d-4126-d357-de898c78b7cd"
      },
      "execution_count": 8,
      "outputs": [
        {
          "output_type": "execute_result",
          "data": {
            "text/plain": [
              "['the', 'striped', 'bat', 'ar', 'hang', 'on', 'their', 'feet', 'for', 'best']"
            ]
          },
          "metadata": {},
          "execution_count": 8
        }
      ]
    },
    {
      "cell_type": "markdown",
      "source": [
        "Лемматизация глаголов"
      ],
      "metadata": {
        "id": "7Y40_fXj3zmr"
      }
    },
    {
      "cell_type": "code",
      "source": [
        "def lemmatize_verbs(words):\n",
        "    lemmatizer = WordNetLemmatizer()\n",
        "    lemmas = []\n",
        "    for word in words:\n",
        "        lemma = lemmatizer.lemmatize(word, pos='v')\n",
        "        lemmas.append(lemma)\n",
        "    return lemmas\n",
        "words = lemmatize_verbs(words)\n",
        "words"
      ],
      "metadata": {
        "colab": {
          "base_uri": "https://localhost:8080/"
        },
        "id": "2ct57tSa3zyR",
        "outputId": "bdc57cb8-6301-408b-8b68-6ae58830e83a"
      },
      "execution_count": 9,
      "outputs": [
        {
          "output_type": "execute_result",
          "data": {
            "text/plain": [
              "['the', 'strip', 'bat', 'ar', 'hang', 'on', 'their', 'feet', 'for', 'best']"
            ]
          },
          "metadata": {},
          "execution_count": 9
        }
      ]
    }
  ]
}