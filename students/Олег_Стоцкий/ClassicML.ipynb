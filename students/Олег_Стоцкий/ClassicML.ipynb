{
  "nbformat": 4,
  "nbformat_minor": 0,
  "metadata": {
    "colab": {
      "name": "ClassicML.ipynb",
      "provenance": [],
      "collapsed_sections": []
    },
    "kernelspec": {
      "name": "python3",
      "display_name": "Python 3"
    },
    "language_info": {
      "name": "python"
    }
  },
  "cells": [
    {
      "cell_type": "code",
      "execution_count": 22,
      "metadata": {
        "id": "AY7p1fSgKPtl"
      },
      "outputs": [],
      "source": [
        "import pandas as pd \n",
        "import sklearn\n",
        "import numpy as np\n",
        "from sklearn.datasets import fetch_openml\n",
        "from sklearn.model_selection import train_test_split\n",
        "from sklearn.tree import DecisionTreeClassifier\n",
        "from sklearn.metrics import accuracy_score"
      ]
    },
    {
      "cell_type": "markdown",
      "source": [
        "Что такое классические модели обучения?\n",
        "В развитии машинного обучения можно выделить 2 основных вехи - до начала активного использования нейронных сетей и глубого обучения и после.\n",
        "Все, что использовали в первой эпохе, соответственно, называют классическими моделями - сюда входит метод опорных векторов, метод ближайших соседей, логистическая и линейная регрессия и т.д\n",
        "\n",
        "Основным преимуществом этих моделей является высокая степень интерпретируемости результатов по сравнению с моделями глубого обучения, а также меньшие вычислительные затраты. \n",
        "\n",
        "Основным недостатком этих моделей является то, что во многих задачах они проигрывают моделям глубого обучения.\n",
        "\n",
        "Рассмотрим первую и самую простую для интерпретируемости модель - решающее дерево. \n",
        "Решающее дерево - это классическая модель машииного обучения, которая состоит из дерева, в вершинах которого находятся предикаты, принимающие вектор, на котором мы хотим выполнить предсказание, и которые говорят нам в какую ветку нужно идти - если false - влево, если true - вправо. В листьях лежат классы.\n",
        "\n",
        "![decision tree](https://www.researchgate.net/profile/Amir-Akbari-19/publication/348456545/figure/fig1/AS:981743439994883@1611077284634/Schematic-of-a-Decision-Tree-The-figure-shows-an-example-of-a-decision-tree-with-3.png)\n",
        "\n",
        "Будем работать с датасетом iris.\n",
        "\n",
        "Загрузим данные и разобьем их на обучающая и проверочную выборки:"
      ],
      "metadata": {
        "id": "F2-DkJpRLyMR"
      }
    },
    {
      "cell_type": "code",
      "source": [
        "X, y = fetch_openml(\"iris\", version=1, as_frame=True, return_X_y=True)\n",
        "X_train, X_test, y_train, y_test = train_test_split(X, y, stratify=y, test_size=0.2)\n",
        "X_train.head()"
      ],
      "metadata": {
        "colab": {
          "base_uri": "https://localhost:8080/",
          "height": 206
        },
        "id": "5Hnr5qTjKd2H",
        "outputId": "e27db23e-d350-4cf8-bd8b-9e4deca4a8ab"
      },
      "execution_count": 27,
      "outputs": [
        {
          "output_type": "execute_result",
          "data": {
            "text/plain": [
              "     sepallength  sepalwidth  petallength  petalwidth\n",
              "43           5.0         3.5          1.6         0.6\n",
              "30           4.8         3.1          1.6         0.2\n",
              "114          5.8         2.8          5.1         2.4\n",
              "37           4.9         3.1          1.5         0.1\n",
              "23           5.1         3.3          1.7         0.5"
            ],
            "text/html": [
              "\n",
              "  <div id=\"df-b69239a7-dee7-4536-8283-2b8478651d80\">\n",
              "    <div class=\"colab-df-container\">\n",
              "      <div>\n",
              "<style scoped>\n",
              "    .dataframe tbody tr th:only-of-type {\n",
              "        vertical-align: middle;\n",
              "    }\n",
              "\n",
              "    .dataframe tbody tr th {\n",
              "        vertical-align: top;\n",
              "    }\n",
              "\n",
              "    .dataframe thead th {\n",
              "        text-align: right;\n",
              "    }\n",
              "</style>\n",
              "<table border=\"1\" class=\"dataframe\">\n",
              "  <thead>\n",
              "    <tr style=\"text-align: right;\">\n",
              "      <th></th>\n",
              "      <th>sepallength</th>\n",
              "      <th>sepalwidth</th>\n",
              "      <th>petallength</th>\n",
              "      <th>petalwidth</th>\n",
              "    </tr>\n",
              "  </thead>\n",
              "  <tbody>\n",
              "    <tr>\n",
              "      <th>43</th>\n",
              "      <td>5.0</td>\n",
              "      <td>3.5</td>\n",
              "      <td>1.6</td>\n",
              "      <td>0.6</td>\n",
              "    </tr>\n",
              "    <tr>\n",
              "      <th>30</th>\n",
              "      <td>4.8</td>\n",
              "      <td>3.1</td>\n",
              "      <td>1.6</td>\n",
              "      <td>0.2</td>\n",
              "    </tr>\n",
              "    <tr>\n",
              "      <th>114</th>\n",
              "      <td>5.8</td>\n",
              "      <td>2.8</td>\n",
              "      <td>5.1</td>\n",
              "      <td>2.4</td>\n",
              "    </tr>\n",
              "    <tr>\n",
              "      <th>37</th>\n",
              "      <td>4.9</td>\n",
              "      <td>3.1</td>\n",
              "      <td>1.5</td>\n",
              "      <td>0.1</td>\n",
              "    </tr>\n",
              "    <tr>\n",
              "      <th>23</th>\n",
              "      <td>5.1</td>\n",
              "      <td>3.3</td>\n",
              "      <td>1.7</td>\n",
              "      <td>0.5</td>\n",
              "    </tr>\n",
              "  </tbody>\n",
              "</table>\n",
              "</div>\n",
              "      <button class=\"colab-df-convert\" onclick=\"convertToInteractive('df-b69239a7-dee7-4536-8283-2b8478651d80')\"\n",
              "              title=\"Convert this dataframe to an interactive table.\"\n",
              "              style=\"display:none;\">\n",
              "        \n",
              "  <svg xmlns=\"http://www.w3.org/2000/svg\" height=\"24px\"viewBox=\"0 0 24 24\"\n",
              "       width=\"24px\">\n",
              "    <path d=\"M0 0h24v24H0V0z\" fill=\"none\"/>\n",
              "    <path d=\"M18.56 5.44l.94 2.06.94-2.06 2.06-.94-2.06-.94-.94-2.06-.94 2.06-2.06.94zm-11 1L8.5 8.5l.94-2.06 2.06-.94-2.06-.94L8.5 2.5l-.94 2.06-2.06.94zm10 10l.94 2.06.94-2.06 2.06-.94-2.06-.94-.94-2.06-.94 2.06-2.06.94z\"/><path d=\"M17.41 7.96l-1.37-1.37c-.4-.4-.92-.59-1.43-.59-.52 0-1.04.2-1.43.59L10.3 9.45l-7.72 7.72c-.78.78-.78 2.05 0 2.83L4 21.41c.39.39.9.59 1.41.59.51 0 1.02-.2 1.41-.59l7.78-7.78 2.81-2.81c.8-.78.8-2.07 0-2.86zM5.41 20L4 18.59l7.72-7.72 1.47 1.35L5.41 20z\"/>\n",
              "  </svg>\n",
              "      </button>\n",
              "      \n",
              "  <style>\n",
              "    .colab-df-container {\n",
              "      display:flex;\n",
              "      flex-wrap:wrap;\n",
              "      gap: 12px;\n",
              "    }\n",
              "\n",
              "    .colab-df-convert {\n",
              "      background-color: #E8F0FE;\n",
              "      border: none;\n",
              "      border-radius: 50%;\n",
              "      cursor: pointer;\n",
              "      display: none;\n",
              "      fill: #1967D2;\n",
              "      height: 32px;\n",
              "      padding: 0 0 0 0;\n",
              "      width: 32px;\n",
              "    }\n",
              "\n",
              "    .colab-df-convert:hover {\n",
              "      background-color: #E2EBFA;\n",
              "      box-shadow: 0px 1px 2px rgba(60, 64, 67, 0.3), 0px 1px 3px 1px rgba(60, 64, 67, 0.15);\n",
              "      fill: #174EA6;\n",
              "    }\n",
              "\n",
              "    [theme=dark] .colab-df-convert {\n",
              "      background-color: #3B4455;\n",
              "      fill: #D2E3FC;\n",
              "    }\n",
              "\n",
              "    [theme=dark] .colab-df-convert:hover {\n",
              "      background-color: #434B5C;\n",
              "      box-shadow: 0px 1px 3px 1px rgba(0, 0, 0, 0.15);\n",
              "      filter: drop-shadow(0px 1px 2px rgba(0, 0, 0, 0.3));\n",
              "      fill: #FFFFFF;\n",
              "    }\n",
              "  </style>\n",
              "\n",
              "      <script>\n",
              "        const buttonEl =\n",
              "          document.querySelector('#df-b69239a7-dee7-4536-8283-2b8478651d80 button.colab-df-convert');\n",
              "        buttonEl.style.display =\n",
              "          google.colab.kernel.accessAllowed ? 'block' : 'none';\n",
              "\n",
              "        async function convertToInteractive(key) {\n",
              "          const element = document.querySelector('#df-b69239a7-dee7-4536-8283-2b8478651d80');\n",
              "          const dataTable =\n",
              "            await google.colab.kernel.invokeFunction('convertToInteractive',\n",
              "                                                     [key], {});\n",
              "          if (!dataTable) return;\n",
              "\n",
              "          const docLinkHtml = 'Like what you see? Visit the ' +\n",
              "            '<a target=\"_blank\" href=https://colab.research.google.com/notebooks/data_table.ipynb>data table notebook</a>'\n",
              "            + ' to learn more about interactive tables.';\n",
              "          element.innerHTML = '';\n",
              "          dataTable['output_type'] = 'display_data';\n",
              "          await google.colab.output.renderOutput(dataTable, element);\n",
              "          const docLink = document.createElement('div');\n",
              "          docLink.innerHTML = docLinkHtml;\n",
              "          element.appendChild(docLink);\n",
              "        }\n",
              "      </script>\n",
              "    </div>\n",
              "  </div>\n",
              "  "
            ]
          },
          "metadata": {},
          "execution_count": 27
        }
      ]
    },
    {
      "cell_type": "code",
      "source": [
        "y_train.head()"
      ],
      "metadata": {
        "colab": {
          "base_uri": "https://localhost:8080/"
        },
        "id": "0KW2NAM_OuY5",
        "outputId": "a26543c5-98cf-47a4-9632-5503c0021acd"
      },
      "execution_count": 28,
      "outputs": [
        {
          "output_type": "execute_result",
          "data": {
            "text/plain": [
              "43        Iris-setosa\n",
              "30        Iris-setosa\n",
              "114    Iris-virginica\n",
              "37        Iris-setosa\n",
              "23        Iris-setosa\n",
              "Name: class, dtype: category\n",
              "Categories (3, object): ['Iris-setosa', 'Iris-versicolor', 'Iris-virginica']"
            ]
          },
          "metadata": {},
          "execution_count": 28
        }
      ]
    },
    {
      "cell_type": "markdown",
      "source": [
        "Создадим классификатор и обучим его:"
      ],
      "metadata": {
        "id": "Yuuo9fzbMfhE"
      }
    },
    {
      "cell_type": "code",
      "source": [
        "decision_tree_classifier = DecisionTreeClassifier()\n",
        "decision_tree_classifier.fit(X_train, y_train)"
      ],
      "metadata": {
        "colab": {
          "base_uri": "https://localhost:8080/"
        },
        "id": "uldnr1dvMLeE",
        "outputId": "eef0ed4f-f149-4c5c-df17-8e68545358bf"
      },
      "execution_count": 23,
      "outputs": [
        {
          "output_type": "execute_result",
          "data": {
            "text/plain": [
              "DecisionTreeClassifier()"
            ]
          },
          "metadata": {},
          "execution_count": 23
        }
      ]
    },
    {
      "cell_type": "markdown",
      "source": [
        "Найдем предсказания на тестовой выборке и посчитаем точность:"
      ],
      "metadata": {
        "id": "fJrFfSFlNZ13"
      }
    },
    {
      "cell_type": "code",
      "source": [
        "y_pred  = decision_tree_classifier.predict(X_test)\n",
        "accuracy = accuracy_score(y_test, y_pred)\n",
        "accuracy"
      ],
      "metadata": {
        "colab": {
          "base_uri": "https://localhost:8080/"
        },
        "id": "Cx7yazUPNGGn",
        "outputId": "ebafd55f-c540-4233-9909-b0817c60d1dd"
      },
      "execution_count": 25,
      "outputs": [
        {
          "output_type": "execute_result",
          "data": {
            "text/plain": [
              "0.8333333333333334"
            ]
          },
          "metadata": {},
          "execution_count": 25
        }
      ]
    },
    {
      "cell_type": "markdown",
      "source": [
        "Рассмотрим следующую модель, которая является усовершенствованием идеи решающего дерева - случайный лес.\n",
        "\n",
        "Случайный лес - ансамбль решающих деревьев, полученный с помощью следующего алгоритма:\n",
        "\n",
        "trees = list()\n",
        "for i in range(1, n):\n",
        "  X = bootstrap(X_train)\n",
        "  t = train(X)\n",
        "  trees = append(X)\n",
        "\n",
        "где bootstrap - операция получения случайной выборки с возвратом. \n",
        "\n",
        "То есть мы генерируем n случайных подвыборок и обучаем на них n решающих деревьев. \n",
        "\n",
        "Для предсказания на векторе x в качестве классификатора мы делаем следующее:\n",
        "\n",
        "preds = list()\n",
        "for t in trees:\n",
        "  preds = append(preds, t.predict(x))\n",
        "\n",
        "и затем из этого массива предсказаний достаем значение, которое встречается чаще всего.\n",
        "\n",
        "Для предсказания на векторе x в качестве регрессора мы так же накапливаем n предсказаний, а затем считаем их арифметическое среднее.\n",
        "\n",
        "![random forest](https://miro.medium.com/max/1200/0*YEwFetXQGPB8aDFV)\n",
        "\n",
        "Рассмотрим использование на примере датасета iris и сравним точность с decision tree.\n",
        "\n",
        "Обучим модель:"
      ],
      "metadata": {
        "id": "MyjgYNk6OqXy"
      }
    },
    {
      "cell_type": "code",
      "source": [
        "from sklearn.ensemble import RandomForestClassifier\n",
        "\n",
        "random_forest_classifier = RandomForestClassifier()\n",
        "random_forest_classifier.fit(X_train, y_train)"
      ],
      "metadata": {
        "colab": {
          "base_uri": "https://localhost:8080/"
        },
        "id": "vlH-kXZJNp-o",
        "outputId": "485ec3f8-e2ed-4243-aa75-929e6ebf3001"
      },
      "execution_count": 34,
      "outputs": [
        {
          "output_type": "execute_result",
          "data": {
            "text/plain": [
              "RandomForestClassifier()"
            ]
          },
          "metadata": {},
          "execution_count": 34
        }
      ]
    },
    {
      "cell_type": "markdown",
      "source": [
        "Найдем предсказание на тестовой выборке и посчитаем точность:"
      ],
      "metadata": {
        "id": "F_csJAxkU05B"
      }
    },
    {
      "cell_type": "code",
      "source": [
        "y_pred  = random_forest_classifier.predict(X_test)\n",
        "accuracy = accuracy_score(y_test, y_pred)\n",
        "accuracy"
      ],
      "metadata": {
        "colab": {
          "base_uri": "https://localhost:8080/"
        },
        "id": "Idjvmu_pU0HG",
        "outputId": "72c175b8-5a72-4ede-d6cc-31deb193399a"
      },
      "execution_count": 35,
      "outputs": [
        {
          "output_type": "execute_result",
          "data": {
            "text/plain": [
              "0.9333333333333333"
            ]
          },
          "metadata": {},
          "execution_count": 35
        }
      ]
    },
    {
      "cell_type": "markdown",
      "source": [
        "Как можно увидеть, точность случайного леса - 93%, в то время как решающего дерева - 83%. Что дало нам 10% прирост точности."
      ],
      "metadata": {
        "id": "VddcK-rAU88D"
      }
    },
    {
      "cell_type": "markdown",
      "source": [
        "Следующая модель - метод k ближайших соседей. Он основан на том, что мы представляем вектора в некотором метрическом пространстве, и когда хотим найти предсказание для вектора x, находим k векторов, имеющих наименьшее значение метрики, а затем выбираем из них предсказание так же как в случайном лесе - находим класс, который встречается чаще всего, или усредняем значение в случае регрессии.\n",
        "\n",
        "![knn](https://miro.medium.com/max/484/1*B6ADaptU3rJWN1mXwki6eA.jpeg)\n",
        "\n",
        "Обучим модель:\n"
      ],
      "metadata": {
        "id": "7UW6pLZEVK9R"
      }
    },
    {
      "cell_type": "code",
      "source": [
        "from sklearn.neighbors import KNeighborsClassifier\n",
        "\n",
        "knn_classifier = KNeighborsClassifier()\n",
        "knn_classifier.fit(X, y)"
      ],
      "metadata": {
        "colab": {
          "base_uri": "https://localhost:8080/"
        },
        "id": "na8XtihQVF5T",
        "outputId": "f5792d88-b404-453c-906e-aefd6ed2377d"
      },
      "execution_count": 37,
      "outputs": [
        {
          "output_type": "execute_result",
          "data": {
            "text/plain": [
              "KNeighborsClassifier()"
            ]
          },
          "metadata": {},
          "execution_count": 37
        }
      ]
    },
    {
      "cell_type": "markdown",
      "source": [
        "Найдем предсказание на тестовой выборке и посчитаем точность:"
      ],
      "metadata": {
        "id": "PkUURchvWIV9"
      }
    },
    {
      "cell_type": "code",
      "source": [
        "y_pred  = knn_classifier.predict(X_test)\n",
        "accuracy = accuracy_score(y_test, y_pred)\n",
        "accuracy"
      ],
      "metadata": {
        "colab": {
          "base_uri": "https://localhost:8080/"
        },
        "id": "sa6SprDnWFNe",
        "outputId": "1a1b36fa-9e90-420b-d11a-7ee969e466f5"
      },
      "execution_count": 39,
      "outputs": [
        {
          "output_type": "execute_result",
          "data": {
            "text/plain": [
              "0.9666666666666667"
            ]
          },
          "metadata": {},
          "execution_count": 39
        }
      ]
    },
    {
      "cell_type": "markdown",
      "source": [
        "Метод ближайших соседей дал 96% точности, выше любого другого классификатора."
      ],
      "metadata": {
        "id": "NB5hxnuiWOK7"
      }
    },
    {
      "cell_type": "code",
      "source": [
        ""
      ],
      "metadata": {
        "id": "-gZL7gDSWNDD"
      },
      "execution_count": null,
      "outputs": []
    }
  ]
}