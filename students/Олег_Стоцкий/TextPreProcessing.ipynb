{
  "nbformat": 4,
  "nbformat_minor": 0,
  "metadata": {
    "colab": {
      "name": "TextPreProcessing.ipynb",
      "provenance": []
    },
    "kernelspec": {
      "name": "python3",
      "display_name": "Python 3"
    },
    "language_info": {
      "name": "python"
    }
  },
  "cells": [
    {
      "cell_type": "markdown",
      "source": [
        "Предобработка текстовых данных важна для того, чтобы превратить сырые данные в признаки для классификатора, потеряв как можно меньше данных. Можно выделить 2 основные категории способов предобработки:\n",
        "\n",
        "1. Уменьшение возможного пространства векторов\n",
        "Сюда входят такие методы как лемматизация, стемминг, убирание пунктуации, удаление стоп слов, приведение к одному регистру, токенизация.\n",
        "\n",
        "2. Преобразование текста в векторное пространство\n",
        "Сюда входят такие методы как word2vec, метод n gram, glove и другие.\n",
        "\n",
        "Начнем с лемматизации:\n",
        "Лемматизация - процесс приведения словоформы к лемме — её нормальной (словарной) форме. (Википедия)"
      ],
      "metadata": {
        "id": "RKljkjOdXwQC"
      }
    },
    {
      "cell_type": "code",
      "source": [
        "from nltk import word_tokenize      \n",
        "from nltk.stem import WordNetLemmatizer\n",
        "import nltk\n",
        "nltk.download('punkt')\n",
        "nltk.download('wordnet')\n",
        "\n",
        "text = \"Machine learning is the study of computer algorithms that can improve automatically through experience and by the use of data\"\n",
        "lemmatizer = WordNetLemmatizer()\n",
        "lems = [lemmatizer.lemmatize(t) for t in word_tokenize(text)]"
      ],
      "metadata": {
        "colab": {
          "base_uri": "https://localhost:8080/"
        },
        "id": "A5rj4Zc9X8w-",
        "outputId": "00e82cb7-d9a5-450e-b4d1-d6356664977f"
      },
      "execution_count": 9,
      "outputs": [
        {
          "output_type": "stream",
          "name": "stdout",
          "text": [
            "[nltk_data] Downloading package punkt to /root/nltk_data...\n",
            "[nltk_data]   Package punkt is already up-to-date!\n",
            "[nltk_data] Downloading package wordnet to /root/nltk_data...\n",
            "[nltk_data]   Unzipping corpora/wordnet.zip.\n"
          ]
        }
      ]
    },
    {
      "cell_type": "code",
      "source": [
        "lems"
      ],
      "metadata": {
        "colab": {
          "base_uri": "https://localhost:8080/"
        },
        "id": "zkISrsAdY5xD",
        "outputId": "fbfc367c-2e12-45e6-b331-cef719359062"
      },
      "execution_count": 10,
      "outputs": [
        {
          "output_type": "execute_result",
          "data": {
            "text/plain": [
              "['Machine',\n",
              " 'learning',\n",
              " 'is',\n",
              " 'the',\n",
              " 'study',\n",
              " 'of',\n",
              " 'computer',\n",
              " 'algorithm',\n",
              " 'that',\n",
              " 'can',\n",
              " 'improve',\n",
              " 'automatically',\n",
              " 'through',\n",
              " 'experience',\n",
              " 'and',\n",
              " 'by',\n",
              " 'the',\n",
              " 'use',\n",
              " 'of',\n",
              " 'data']"
            ]
          },
          "metadata": {},
          "execution_count": 10
        }
      ]
    },
    {
      "cell_type": "markdown",
      "source": [
        "Еще примеры:"
      ],
      "metadata": {
        "id": "fDNr7shVfFQ1"
      }
    },
    {
      "cell_type": "markdown",
      "source": [
        ""
      ],
      "metadata": {
        "id": "nlwBvyP5elmO"
      }
    },
    {
      "cell_type": "code",
      "source": [
        "lemmatizer.lemmatize('problems')"
      ],
      "metadata": {
        "colab": {
          "base_uri": "https://localhost:8080/",
          "height": 36
        },
        "id": "cX_MinYsZ050",
        "outputId": "f1b83edd-5c75-4995-d140-51ef65cfdb37"
      },
      "execution_count": 13,
      "outputs": [
        {
          "output_type": "execute_result",
          "data": {
            "text/plain": [
              "'problem'"
            ],
            "application/vnd.google.colaboratory.intrinsic+json": {
              "type": "string"
            }
          },
          "metadata": {},
          "execution_count": 13
        }
      ]
    },
    {
      "cell_type": "code",
      "source": [
        "lemmatizer.lemmatize('feet')"
      ],
      "metadata": {
        "colab": {
          "base_uri": "https://localhost:8080/",
          "height": 36
        },
        "id": "iADcHr40fKum",
        "outputId": "31c70d23-e640-478c-aa35-d91f3db0dd86"
      },
      "execution_count": 14,
      "outputs": [
        {
          "output_type": "execute_result",
          "data": {
            "text/plain": [
              "'foot'"
            ],
            "application/vnd.google.colaboratory.intrinsic+json": {
              "type": "string"
            }
          },
          "metadata": {},
          "execution_count": 14
        }
      ]
    },
    {
      "cell_type": "markdown",
      "source": [
        "Рассмотрим следующий способ предобработки - стемминг. \n",
        "\n",
        "Стемминг - это процесс нахождения основы слова для заданного исходного слова. (Википедия)\n",
        "\n",
        "Рассмотрим примеры с библиотекой nltk, которая содержит 2 стеммера - \n",
        "PorterStemmer и LancasterStemmer.\n",
        "\n",
        "Начнем с PorterStemmer:"
      ],
      "metadata": {
        "id": "emEuB5pzfTIV"
      }
    },
    {
      "cell_type": "code",
      "source": [
        "from nltk.stem import PorterStemmer\n",
        "porter = PorterStemmer()"
      ],
      "metadata": {
        "id": "LXXWSiA2fRNK"
      },
      "execution_count": 17,
      "outputs": []
    },
    {
      "cell_type": "code",
      "source": [
        "print(porter.stem(\"working\"))\n",
        "print(porter.stem(\"worked\"))\n",
        "print(porter.stem(\"works\"))\n",
        "print(porter.stem(\"machine\"))\n",
        "print(porter.stem(\"machines\"))\n",
        "print(porter.stem(\"friendship\"))"
      ],
      "metadata": {
        "colab": {
          "base_uri": "https://localhost:8080/"
        },
        "id": "tlApybE2gMWN",
        "outputId": "daeb42cc-e744-41f0-8280-90a722ba4c7b"
      },
      "execution_count": 32,
      "outputs": [
        {
          "output_type": "stream",
          "name": "stdout",
          "text": [
            "work\n",
            "work\n",
            "work\n",
            "machin\n",
            "machin\n",
            "friendship\n"
          ]
        }
      ]
    },
    {
      "cell_type": "markdown",
      "source": [
        "Сравним с LancasterStemmer:"
      ],
      "metadata": {
        "id": "fpGPRKYCgjPm"
      }
    },
    {
      "cell_type": "code",
      "source": [
        "from nltk.stem import LancasterStemmer\n",
        "lancaster = LancasterStemmer()\n",
        "\n",
        "print(lancaster.stem(\"working\"))\n",
        "print(lancaster.stem(\"worked\"))\n",
        "print(lancaster.stem(\"works\"))\n",
        "print(lancaster.stem(\"machine\"))\n",
        "print(lancaster.stem(\"machines\"))\n",
        "print(lancaster.stem(\"friendship\"))"
      ],
      "metadata": {
        "colab": {
          "base_uri": "https://localhost:8080/"
        },
        "id": "ODorPgyzgTD5",
        "outputId": "d998df78-4805-47de-9505-6c2c9d3ffe45"
      },
      "execution_count": 34,
      "outputs": [
        {
          "output_type": "stream",
          "name": "stdout",
          "text": [
            "work\n",
            "work\n",
            "work\n",
            "machin\n",
            "machin\n",
            "friend\n"
          ]
        }
      ]
    },
    {
      "cell_type": "markdown",
      "source": [
        "Рассмотрим методы n gram. Метод n gram берет несколько (n) подряд идущих символов, и создает из них одну \"n грамму\". К примеру, при n = 3 для слова \"привет\" мы получим такие 3-граммы:\n",
        "\n",
        "при,рив,иве,вет\n",
        "\n",
        "Затем их всех полученных n-gramm мы можем создать вектор некоторой размерности (равный количеству различных n-gram) и закировать каждое слово вектором, в котором каждая координата - кол-во раз которое n-грамма встречается в слове.\n",
        "\n",
        "Посмотрим как можно построить n-граммы по словам с помощью ntlk:"
      ],
      "metadata": {
        "id": "xGpauyhDhENA"
      }
    },
    {
      "cell_type": "code",
      "source": [
        "from nltk import ngrams\n",
        "\n",
        "n = 3\n",
        "\n",
        "text = \"Machine learning is the study of computer algorithms that can improve automatically through experience and by the use of data\"\n",
        "\n",
        "n_grams = ngrams(text.split(), n)\n",
        "\n",
        "for grams in n_grams:\n",
        "    print(grams)"
      ],
      "metadata": {
        "colab": {
          "base_uri": "https://localhost:8080/"
        },
        "id": "xrCJgy0dgp6h",
        "outputId": "d038e289-c488-4ae0-ff77-d42c9a5e8d4d"
      },
      "execution_count": 37,
      "outputs": [
        {
          "output_type": "stream",
          "name": "stdout",
          "text": [
            "('Machine', 'learning', 'is')\n",
            "('learning', 'is', 'the')\n",
            "('is', 'the', 'study')\n",
            "('the', 'study', 'of')\n",
            "('study', 'of', 'computer')\n",
            "('of', 'computer', 'algorithms')\n",
            "('computer', 'algorithms', 'that')\n",
            "('algorithms', 'that', 'can')\n",
            "('that', 'can', 'improve')\n",
            "('can', 'improve', 'automatically')\n",
            "('improve', 'automatically', 'through')\n",
            "('automatically', 'through', 'experience')\n",
            "('through', 'experience', 'and')\n",
            "('experience', 'and', 'by')\n",
            "('and', 'by', 'the')\n",
            "('by', 'the', 'use')\n",
            "('the', 'use', 'of')\n",
            "('use', 'of', 'data')\n"
          ]
        }
      ]
    },
    {
      "cell_type": "markdown",
      "source": [
        "По символам:"
      ],
      "metadata": {
        "id": "tPtAsq0tjnKC"
      }
    },
    {
      "cell_type": "code",
      "source": [
        "from nltk import ngrams\n",
        "\n",
        "n = 3\n",
        "\n",
        "text = \"Machine learning is the study of computer algorithms that can improve automatically through experience and by the use of data\"\n",
        "\n",
        "n_grams = ngrams(text, n)\n",
        "\n",
        "for grams in n_grams:\n",
        "    print(grams)"
      ],
      "metadata": {
        "colab": {
          "base_uri": "https://localhost:8080/"
        },
        "id": "gKRTFK0LjWWD",
        "outputId": "7e127d30-4ed6-41f5-84da-9744e55e3dfa"
      },
      "execution_count": 39,
      "outputs": [
        {
          "output_type": "stream",
          "name": "stdout",
          "text": [
            "('M', 'a', 'c')\n",
            "('a', 'c', 'h')\n",
            "('c', 'h', 'i')\n",
            "('h', 'i', 'n')\n",
            "('i', 'n', 'e')\n",
            "('n', 'e', ' ')\n",
            "('e', ' ', 'l')\n",
            "(' ', 'l', 'e')\n",
            "('l', 'e', 'a')\n",
            "('e', 'a', 'r')\n",
            "('a', 'r', 'n')\n",
            "('r', 'n', 'i')\n",
            "('n', 'i', 'n')\n",
            "('i', 'n', 'g')\n",
            "('n', 'g', ' ')\n",
            "('g', ' ', 'i')\n",
            "(' ', 'i', 's')\n",
            "('i', 's', ' ')\n",
            "('s', ' ', 't')\n",
            "(' ', 't', 'h')\n",
            "('t', 'h', 'e')\n",
            "('h', 'e', ' ')\n",
            "('e', ' ', 's')\n",
            "(' ', 's', 't')\n",
            "('s', 't', 'u')\n",
            "('t', 'u', 'd')\n",
            "('u', 'd', 'y')\n",
            "('d', 'y', ' ')\n",
            "('y', ' ', 'o')\n",
            "(' ', 'o', 'f')\n",
            "('o', 'f', ' ')\n",
            "('f', ' ', 'c')\n",
            "(' ', 'c', 'o')\n",
            "('c', 'o', 'm')\n",
            "('o', 'm', 'p')\n",
            "('m', 'p', 'u')\n",
            "('p', 'u', 't')\n",
            "('u', 't', 'e')\n",
            "('t', 'e', 'r')\n",
            "('e', 'r', ' ')\n",
            "('r', ' ', 'a')\n",
            "(' ', 'a', 'l')\n",
            "('a', 'l', 'g')\n",
            "('l', 'g', 'o')\n",
            "('g', 'o', 'r')\n",
            "('o', 'r', 'i')\n",
            "('r', 'i', 't')\n",
            "('i', 't', 'h')\n",
            "('t', 'h', 'm')\n",
            "('h', 'm', 's')\n",
            "('m', 's', ' ')\n",
            "('s', ' ', 't')\n",
            "(' ', 't', 'h')\n",
            "('t', 'h', 'a')\n",
            "('h', 'a', 't')\n",
            "('a', 't', ' ')\n",
            "('t', ' ', 'c')\n",
            "(' ', 'c', 'a')\n",
            "('c', 'a', 'n')\n",
            "('a', 'n', ' ')\n",
            "('n', ' ', 'i')\n",
            "(' ', 'i', 'm')\n",
            "('i', 'm', 'p')\n",
            "('m', 'p', 'r')\n",
            "('p', 'r', 'o')\n",
            "('r', 'o', 'v')\n",
            "('o', 'v', 'e')\n",
            "('v', 'e', ' ')\n",
            "('e', ' ', 'a')\n",
            "(' ', 'a', 'u')\n",
            "('a', 'u', 't')\n",
            "('u', 't', 'o')\n",
            "('t', 'o', 'm')\n",
            "('o', 'm', 'a')\n",
            "('m', 'a', 't')\n",
            "('a', 't', 'i')\n",
            "('t', 'i', 'c')\n",
            "('i', 'c', 'a')\n",
            "('c', 'a', 'l')\n",
            "('a', 'l', 'l')\n",
            "('l', 'l', 'y')\n",
            "('l', 'y', ' ')\n",
            "('y', ' ', 't')\n",
            "(' ', 't', 'h')\n",
            "('t', 'h', 'r')\n",
            "('h', 'r', 'o')\n",
            "('r', 'o', 'u')\n",
            "('o', 'u', 'g')\n",
            "('u', 'g', 'h')\n",
            "('g', 'h', ' ')\n",
            "('h', ' ', 'e')\n",
            "(' ', 'e', 'x')\n",
            "('e', 'x', 'p')\n",
            "('x', 'p', 'e')\n",
            "('p', 'e', 'r')\n",
            "('e', 'r', 'i')\n",
            "('r', 'i', 'e')\n",
            "('i', 'e', 'n')\n",
            "('e', 'n', 'c')\n",
            "('n', 'c', 'e')\n",
            "('c', 'e', ' ')\n",
            "('e', ' ', 'a')\n",
            "(' ', 'a', 'n')\n",
            "('a', 'n', 'd')\n",
            "('n', 'd', ' ')\n",
            "('d', ' ', 'b')\n",
            "(' ', 'b', 'y')\n",
            "('b', 'y', ' ')\n",
            "('y', ' ', 't')\n",
            "(' ', 't', 'h')\n",
            "('t', 'h', 'e')\n",
            "('h', 'e', ' ')\n",
            "('e', ' ', 'u')\n",
            "(' ', 'u', 's')\n",
            "('u', 's', 'e')\n",
            "('s', 'e', ' ')\n",
            "('e', ' ', 'o')\n",
            "(' ', 'o', 'f')\n",
            "('o', 'f', ' ')\n",
            "('f', ' ', 'd')\n",
            "(' ', 'd', 'a')\n",
            "('d', 'a', 't')\n",
            "('a', 't', 'a')\n"
          ]
        }
      ]
    },
    {
      "cell_type": "markdown",
      "source": [
        "Рассмотрим удаление стоп слов и приведение к регистру с помощью ntlk:"
      ],
      "metadata": {
        "id": "xiMvFXGijy7u"
      }
    },
    {
      "cell_type": "code",
      "source": [
        "from nltk.corpus import stopwords\n",
        "nltk.download('stopwords')\n",
        "\n",
        "stop_words = set(stopwords.words('english'))\n",
        "\n",
        "clean_text = [w for w in text.split(' ') if not w.lower() in stop_words]\n",
        "clean_text"
      ],
      "metadata": {
        "colab": {
          "base_uri": "https://localhost:8080/"
        },
        "id": "UXXJd1wajphd",
        "outputId": "a3f5d47b-b2d0-4211-9a89-568bdc60d077"
      },
      "execution_count": 43,
      "outputs": [
        {
          "output_type": "stream",
          "name": "stdout",
          "text": [
            "[nltk_data] Downloading package stopwords to /root/nltk_data...\n",
            "[nltk_data]   Package stopwords is already up-to-date!\n"
          ]
        },
        {
          "output_type": "execute_result",
          "data": {
            "text/plain": [
              "['Machine',\n",
              " 'learning',\n",
              " 'study',\n",
              " 'computer',\n",
              " 'algorithms',\n",
              " 'improve',\n",
              " 'automatically',\n",
              " 'experience',\n",
              " 'use',\n",
              " 'data']"
            ]
          },
          "metadata": {},
          "execution_count": 43
        }
      ]
    },
    {
      "cell_type": "code",
      "source": [
        ""
      ],
      "metadata": {
        "id": "wnbiwSu5j3xK"
      },
      "execution_count": 40,
      "outputs": []
    }
  ]
}