{
  "nbformat": 4,
  "nbformat_minor": 0,
  "metadata": {
    "colab": {
      "name": "визуализация_данных.ipynb",
      "provenance": []
    },
    "kernelspec": {
      "name": "python3",
      "display_name": "Python 3"
    },
    "language_info": {
      "name": "python"
    }
  },
  "cells": [
    {
      "cell_type": "markdown",
      "source": [
        "mathPlotLib - библиотека для языка Python реализующая визуализацию данных.\n",
        "В данном уроке рассмотрим некоторые способы визуализации данных при помощи библиотеки mathPlotLib. "
      ],
      "metadata": {
        "id": "vhlY064SqPLV"
      }
    },
    {
      "cell_type": "markdown",
      "source": [
        "Для подключения библиотеки"
      ],
      "metadata": {
        "id": "1vFL2sbT7Qet"
      }
    },
    {
      "cell_type": "code",
      "source": [
        "import matplotlib as mpl\n",
        "import matplotlib.pyplot as plt\n",
        "plt.rcParams[\"figure.figsize\"] = (15,5)"
      ],
      "metadata": {
        "id": "ct2rF43I7VOK"
      },
      "execution_count": 12,
      "outputs": []
    },
    {
      "cell_type": "markdown",
      "source": [
        "Также воспользуемся библиотекой numpy для генерации данных"
      ],
      "metadata": {
        "id": "QomD1Tu67lKW"
      }
    },
    {
      "cell_type": "code",
      "source": [
        "import numpy as np"
      ],
      "metadata": {
        "id": "HI4aqrLqqObq"
      },
      "execution_count": 13,
      "outputs": []
    },
    {
      "cell_type": "markdown",
      "source": [
        "Следующий код демонстрирует генерацию данных а также отрисовку гистограммы по этим данным"
      ],
      "metadata": {
        "id": "PDCy88bI3wZA"
      }
    },
    {
      "cell_type": "code",
      "source": [
        "np.random.seed(42)\n",
        "x = np.random.normal(size=1000)\n",
        "\n",
        "plt.hist(x, density=True, bins=30)\n",
        "plt.ylabel('Вероятность')\n",
        "plt.xlabel('Значение');"
      ],
      "metadata": {
        "colab": {
          "base_uri": "https://localhost:8080/",
          "height": 334
        },
        "id": "R3EQD65q7IqP",
        "outputId": "8810ad9a-6388-405d-854e-87b2142202d6"
      },
      "execution_count": 14,
      "outputs": [
        {
          "output_type": "display_data",
          "data": {
            "text/plain": [
              "<Figure size 1080x360 with 1 Axes>"
            ],
            "image/png": "[encoded data removed]"
          },
          "metadata": {
            "needs_background": "light"
          }
        }
      ]
    },
    {
      "cell_type": "markdown",
      "source": [
        "Гистограмма может помочь выявить как распределенны данные. Например, на изображении выше видно, что данные распределенны согласно нормальному закону."
      ],
      "metadata": {
        "id": "R74ELfK9mXNB"
      }
    },
    {
      "cell_type": "markdown",
      "source": [
        "Диаграмма рассеяния генерируется следующим образом:"
      ],
      "metadata": {
        "id": "2Fnx44UU29Fd"
      }
    },
    {
      "cell_type": "code",
      "source": [
        "def scatterplot(x_data, y_data, x_label=\"\", y_label=\"\", title=\"\"):\n",
        "\n",
        "    _, ax = plt.subplots()\n",
        "\n",
        "    ax.scatter(x_data, y_data, s = 10, color = \"r\", alpha = 0.75)\n",
        "\n",
        "    ax.set_title(title)\n",
        "    ax.set_xlabel(x_label)\n",
        "    ax.set_ylabel(y_label)"
      ],
      "metadata": {
        "id": "YIrOUIz7gSey"
      },
      "execution_count": 15,
      "outputs": []
    },
    {
      "cell_type": "code",
      "source": [
        "scatterplot([2.50, 1.23, 4.02, 3.25, 5.00, 4.40],[34, 62, 49, 22, 13, 19])"
      ],
      "metadata": {
        "colab": {
          "base_uri": "https://localhost:8080/",
          "height": 320
        },
        "id": "N2ILu-ZIh6lh",
        "outputId": "05dd3b58-a635-4841-ad59-6efada5f6781"
      },
      "execution_count": 16,
      "outputs": [
        {
          "output_type": "display_data",
          "data": {
            "text/plain": [
              "<Figure size 1080x360 with 1 Axes>"
            ],
            "image/png": "[encoded data removed]"
          },
          "metadata": {
            "needs_background": "light"
          }
        }
      ]
    },
    {
      "cell_type": "markdown",
      "source": [
        "Линенйный график строится с помощью метода plot"
      ],
      "metadata": {
        "id": "ZmDOsOc_IROp"
      }
    },
    {
      "cell_type": "code",
      "source": [
        "def lineplot(x_data, y_data, x_label=\"\", y_label=\"\", title=\"\"):\n",
        "    _, ax = plt.subplots()\n",
        "\n",
        "    ax.plot(x_data, y_data, lw = 2, color = 'r', alpha = 1)\n",
        "\n",
        "    ax.set_title(title)\n",
        "    ax.set_xlabel(x_label)\n",
        "    ax.set_ylabel(y_label)\n"
      ],
      "metadata": {
        "id": "c8eslZnN_vss"
      },
      "execution_count": null,
      "outputs": []
    },
    {
      "cell_type": "code",
      "source": [
        "lineplot([1,2,3,4,5,6,7,8,9, 10, 11, 12, 13, 14, 15 ,16, 17, 18, 19], [10, 9, 8, 7, 6, 5, 4, 3, 2])"
      ],
      "metadata": {
        "colab": {
          "base_uri": "https://localhost:8080/",
          "height": 265
        },
        "id": "PtNHdELlAsU6",
        "outputId": "ca31d17e-8fe9-4ee8-d3c6-3485c29beed4"
      },
      "execution_count": null,
      "outputs": [
        {
          "output_type": "display_data",
          "data": {
            "image/png": "[encoded data removed]",
            "text/plain": [
              "<Figure size 432x288 with 1 Axes>"
            ]
          },
          "metadata": {
            "needs_background": "light"
          }
        }
      ]
    },
    {
      "cell_type": "markdown",
      "source": [
        "Ревью Стоцкий Олег: Увеличил размер графиков для большей наглядности"
      ],
      "metadata": {
        "id": "yJp5qLuIA0NV"
      }
    },
    {
      "cell_type": "code",
      "source": [
        ""
      ],
      "metadata": {
        "id": "NUYzi0h8A3bK"
      },
      "execution_count": null,
      "outputs": []
    }
  ]
}