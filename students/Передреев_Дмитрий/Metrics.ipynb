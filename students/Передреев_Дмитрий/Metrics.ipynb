{
  "nbformat": 4,
  "nbformat_minor": 0,
  "metadata": {
    "colab": {
      "name": "Metrics.ipynb",
      "provenance": [],
      "collapsed_sections": []
    },
    "kernelspec": {
      "name": "python3",
      "display_name": "Python 3"
    },
    "language_info": {
      "name": "python"
    }
  },
  "cells": [
    {
      "cell_type": "markdown",
      "metadata": {
        "id": "ahMa0J-ploLq"
      },
      "source": [
        "# Метрики оценки качества моделей регрессии"
      ]
    },
    {
      "cell_type": "markdown",
      "metadata": {
        "id": "tFr8unbG2wKG"
      },
      "source": [
        "## Задача регрессии"
      ]
    },
    {
      "cell_type": "markdown",
      "metadata": {
        "id": "Y1jaUfVF24rG"
      },
      "source": [
        "В задаче регрессии множество допустимых ответов $Y$ - это множество вещественных чисел ($Y=ℝ$). Из-за этого вероятность точного соответствия предсказанного ответа с действительным крайне мала.\n",
        "\n",
        "Для того, чтобы оценить эффективность регрессионной модели, используются метрики, так или иначе основывающиеся на отклонении предсказанных моделью значений от действительных, т.е. на размере ошибок."
      ]
    },
    {
      "cell_type": "markdown",
      "metadata": {
        "id": "YtYmlK9_4uQ2"
      },
      "source": [
        "В большинстве случаев имеет смысл выбирать для модели функцию потерь, соответствующую наиболее важной с точки зрения постановки задачи метрике оценки.\n",
        "\n",
        "Однако, в общем случае функция потерь не обязана быть такой же, как и метрика оценки, или оценка модели может проводиться с использованием нескольких метрик."
      ]
    },
    {
      "cell_type": "markdown",
      "metadata": {
        "id": "SjZEzYzUqxqN"
      },
      "source": [
        "# Метрики оценки / функции потерь для моделей регрессии"
      ]
    },
    {
      "cell_type": "markdown",
      "metadata": {
        "id": "ikiSs4dxq8mx"
      },
      "source": [
        "## Симметричные метрики"
      ]
    },
    {
      "cell_type": "markdown",
      "metadata": {
        "id": "ywUv5yu1rz_L"
      },
      "source": [
        "### MAE"
      ]
    },
    {
      "cell_type": "markdown",
      "metadata": {
        "id": "-NeFV0rx6pQT"
      },
      "source": [
        "Одной из самых простых метрик оценки моделей регрессии является $MAE$ (mean absolute error). $MAE(y,y_{pred})=\\frac{Σ_{i=1}^n|y_i-y_{pred_i}|}{n}$.\n",
        "\n",
        "По сути, $MAE$ представляет собой среднее арифметическое ошибок для каждого предсказания."
      ]
    },
    {
      "cell_type": "code",
      "metadata": {
        "id": "kGBqviKjzSfZ"
      },
      "source": [
        "import math;\n",
        "import matplotlib.pyplot as plt;\n",
        "import numpy as np;"
      ],
      "execution_count": 97,
      "outputs": []
    },
    {
      "cell_type": "code",
      "metadata": {
        "id": "PbaK-LE6x7Le"
      },
      "source": [
        "def absolute_error(target, pred):\n",
        "    return abs(target - pred);"
      ],
      "execution_count": 114,
      "outputs": []
    },
    {
      "cell_type": "markdown",
      "metadata": {
        "id": "Hz-hqMPtr5Vp"
      },
      "source": [
        "### MSE"
      ]
    },
    {
      "cell_type": "markdown",
      "metadata": {
        "id": "UiFcUdB1_jwb"
      },
      "source": [
        "Метрика $MSE$ (mean squared error) очень похожа на $MAE$, но вместо абсолютного значения ошибок усредняются их квадраты.\n",
        "\n",
        "$MSE(y,y_{pred})=\\frac{Σ_{i=1}^n(y_i-y_{pred_i})^2}{n}$.\n",
        "\n",
        "В качестве функции потерь $MSE$ полезнее, чем $MAE$, в тех случаях, когда ошибка, допустим, на 10 единиц гораздо хуже, чем ошибка на 5 единиц (более, чем в 2 раза).\n",
        "\n",
        "В качестве метрики оценки $MSE$ не всегда удобна, т.к. единицы измерения $MSE$ не соответствуют единицам измерения предсказываемых значений. Для интуитивного понимания результата оценки удобнее использовать $RMSE$."
      ]
    },
    {
      "cell_type": "code",
      "metadata": {
        "id": "fRZRHqjoyBJo"
      },
      "source": [
        "def squared_error(target, pred):\n",
        "    return absolute_error(target, pred)**2;"
      ],
      "execution_count": 99,
      "outputs": []
    },
    {
      "cell_type": "code",
      "metadata": {
        "colab": {
          "base_uri": "https://localhost:8080/",
          "height": 295
        },
        "id": "oEbajyO911jO",
        "outputId": "96e5a5b5-f7fc-49b6-bdf1-2be00d66c436"
      },
      "source": [
        "target = np.repeat(0, 1000);\n",
        "pred = np.arange(-10,10, 0.02);\n",
        "\n",
        "loss_mae = [absolute_error(target[i], pred[i]) for i in range(len(pred))];\n",
        "loss_mse = [squared_error(target[i], pred[i]) for i in range(len(pred))];\n",
        "\n",
        "plt.plot(pred, loss_mae, label=\"MAE\");\n",
        "plt.plot(pred, loss_mse, label=\"MSE\");\n",
        "plt.title('Демонстрация MAE и MSE');\n",
        "plt.xlabel('Predicted value');\n",
        "plt.ylabel('Loss');\n",
        "plt.ylim(top=0.5, bottom=0);\n",
        "plt.xlim(left=-0.7, right=0.7);\n",
        "plt.legend();\n",
        "plt.grid();\n",
        "plt.show();"
      ],
      "execution_count": 118,
      "outputs": [
        {
          "output_type": "display_data",
          "data": {
            "image/png": "[encoded data removed]",
            "text/plain": [
              "<Figure size 432x288 with 1 Axes>"
            ]
          },
          "metadata": {
            "needs_background": "light"
          }
        }
      ]
    },
    {
      "cell_type": "markdown",
      "metadata": {
        "id": "W1EGfQi4r77s"
      },
      "source": [
        "### RMSE"
      ]
    },
    {
      "cell_type": "markdown",
      "metadata": {
        "id": "hlVMw6VFBMNs"
      },
      "source": [
        "Метрика $RMSE$ (root mean squared error) - это квадратный корень из $MSE$, который берут для того, чтобы метрика оценки измерялась в тех же единицах, что и предсказываемые значения.\n",
        "\n",
        "$RMSE=\\sqrt{MSE}$."
      ]
    },
    {
      "cell_type": "markdown",
      "metadata": {
        "id": "eGVmlPtHyOZC"
      },
      "source": [
        "Кстати, для многих функций потерь из фреймворка [sklearn](https://scikit-learn.org/stable/modules/generated/sklearn.metrics.mean_squared_error.html#sklearn.metrics.mean_squared_error) есть возможность выставить параметр $squared$, чтобы получить $RMSE$ и подобные метрики."
      ]
    },
    {
      "cell_type": "markdown",
      "metadata": {
        "id": "IN0YDqXxr-E8"
      },
      "source": [
        "### MedAE"
      ]
    },
    {
      "cell_type": "markdown",
      "metadata": {
        "id": "6wXJIWrNCfC7"
      },
      "source": [
        "$MedAE$ (median absolute error) - это устойчивая к выбросам модификация $MAE$. Вместо среднего значения ошибки используется медиана.\n",
        "\n",
        "$MedAE(y,y_{pred})=median(|y_1-y_{pred_1}|, |y_2-y_{pred_2}|...|y_n-y_{pred_n}|)$."
      ]
    },
    {
      "cell_type": "markdown",
      "metadata": {
        "id": "2_anOXVosAto"
      },
      "source": [
        "### MAPE"
      ]
    },
    {
      "cell_type": "markdown",
      "metadata": {
        "id": "lRgN8yCUE4cS"
      },
      "source": [
        "$MAPE$ (mean absolute percentage error) - модификация $MAE$, позволяющая оценить размер ошибки в отношении к размеру предсказываемой величины.\n",
        "\n",
        "$MAPE(y,y_{pred})=\\frac{Σ_{i=1}^n\\frac{|y_i-y_{pred_i}|}{max(ϵ, |y_i|)}}{n}$, где $ϵ$ - небольшая положительная величина, чтобы избежать деления на 0, если $y_i=0$.\n",
        "\n",
        "$MAPE$ можно интерпретировать даже не будучи знакомым с предметной областью и постановкой задачи. (\"результат в среднем отличается от эталона на $n$ процентов\")."
      ]
    },
    {
      "cell_type": "code",
      "metadata": {
        "id": "3T1EtSsmy9ok"
      },
      "source": [
        "def percentage_error(target, pred):\n",
        "    return absolute_error(target, pred) / max(0.001, target);"
      ],
      "execution_count": 100,
      "outputs": []
    },
    {
      "cell_type": "code",
      "metadata": {
        "colab": {
          "base_uri": "https://localhost:8080/"
        },
        "id": "HtC6yk5820qz",
        "outputId": "35da5248-a832-4eab-8257-737452c8dfb9"
      },
      "source": [
        "target = 100;\n",
        "pred = round(np.random.rand() * 100);\n",
        "\n",
        "print(\"Предсказанное значение (\" + str(pred) + \") отличается от эталонного (\" + str(target) + \") на \" + str(round(percentage_error(target, pred) * 100)) + \"%\");"
      ],
      "execution_count": 146,
      "outputs": [
        {
          "output_type": "stream",
          "name": "stdout",
          "text": [
            "Предсказанное значение (90) отличается от эталонного (100) на 10%\n"
          ]
        }
      ]
    },
    {
      "cell_type": "markdown",
      "metadata": {
        "id": "uaiVQ9GpH6oz"
      },
      "source": [
        "## Асимметричные метрики"
      ]
    },
    {
      "cell_type": "markdown",
      "metadata": {
        "id": "1QmVCxQpmPIr"
      },
      "source": [
        "### Mean pinball loss"
      ]
    },
    {
      "cell_type": "markdown",
      "metadata": {
        "id": "-Ho4Js8goPfe"
      },
      "source": [
        "Используется для квантильной регрессии.\n",
        "\n",
        "Квантиль - значение, которое заданная случайная величина не превышает с определенной вероятностью.\n",
        "\n",
        "$pinball(y,y_{pred})=\\frac{Σ_{i=1}^nα*max(y_i-y_{pred_i},0)+(1-α)*max(y_{pred_i}-y_i,0)}{n}$, где параметр $αϵ(0,1)$ - квантиль, который можно настраивать в зависимости от задачи.\n",
        "\n",
        "В зависимости от параметра $α$ pinball loss может сильнее штрафовать за занижение или за превышение предсказаний.\n",
        "\n",
        "При $α=0.5$ pinball loss эквивалентен $MSE$.\n",
        "\n",
        "Квантильная регрессия хорошо показывает себя при работе с данными, которые распределены неравномерно, а также для проверки попадания значений в некоторый интервал."
      ]
    },
    {
      "cell_type": "code",
      "metadata": {
        "id": "zKmu7uIzzHL2"
      },
      "source": [
        "def pinball_error(target, pred, quantile):\n",
        "    return quantile * max(target - pred, 0) + (1 - quantile) * max(pred - target, 0);"
      ],
      "execution_count": 103,
      "outputs": []
    },
    {
      "cell_type": "code",
      "metadata": {
        "colab": {
          "base_uri": "https://localhost:8080/",
          "height": 295
        },
        "id": "ACq-dH1nlhVJ",
        "outputId": "53f1adb4-85c2-4e63-eba0-7ae783befc0c"
      },
      "source": [
        "target = np.repeat(0, 1000);\n",
        "pred = np.arange(-10,10, 0.02);\n",
        "\n",
        "# Можно менять этот параметр в интервале от 0 до 1,\n",
        "# чтобы посмотреть, как будет выглядеть график pinball loss\n",
        "quantile = 0.8;\n",
        "\n",
        "loss_pinball = [pinball_error(target[i], pred[i], quantile) for i in range(len(pred))];\n",
        "\n",
        "plt.plot(pred, loss_pinball);\n",
        "plt.title('Демонстрация pinball loss');\n",
        "plt.xlabel('Predicted value');\n",
        "plt.ylabel('Loss');\n",
        "plt.ylim(top=0.5, bottom=0);\n",
        "plt.xlim(left=-0.7, right=0.7);\n",
        "plt.grid();\n",
        "plt.show();"
      ],
      "execution_count": 112,
      "outputs": [
        {
          "output_type": "display_data",
          "data": {
            "image/png": "[encoded data removed]",
            "text/plain": [
              "<Figure size 432x288 with 1 Axes>"
            ]
          },
          "metadata": {
            "needs_background": "light"
          }
        }
      ]
    },
    {
      "cell_type": "markdown",
      "metadata": {
        "id": "5OE4-Pll-iHU"
      },
      "source": [
        "Попробуем задать распределение [Парето](https://numpy.org/doc/stable/reference/random/generated/numpy.random.pareto.html) с центром в указанной нами прямой.\n",
        "\n",
        "Обучим квантильную модель и модель линейной регрессии с функцией потерь $MSE$ и сравним результаты предсказаний с помощью метрик $MAE$ и $MSE$."
      ]
    },
    {
      "cell_type": "code",
      "metadata": {
        "colab": {
          "base_uri": "https://localhost:8080/",
          "height": 442
        },
        "id": "BsMLqSb5547w",
        "outputId": "7792ec81-8563-4fc8-f28f-02f4b1cb68a0"
      },
      "source": [
        "from sklearn.linear_model import QuantileRegressor, LinearRegression;\n",
        "import sklearn.metrics as metrics;\n",
        "import warnings;\n",
        "warnings.filterwarnings(\"ignore\");\n",
        "\n",
        "plt.figure(figsize=(12, 6))\n",
        "\n",
        "rng = np.random.RandomState(42);\n",
        "x = np.linspace(0, 10, 100);\n",
        "X = x[:, np.newaxis];\n",
        "y_true_mean = 10 + 0.5 * x;\n",
        "\n",
        "a = 3;\n",
        "y_pareto = y_true_mean + 10 * (rng.pareto(a, size=x.shape[0]) - 1 / (a - 1));\n",
        "\n",
        "quantiles = [0.05, 0.5, 0.95];\n",
        "\n",
        "for quantile in quantiles:\n",
        "    model = QuantileRegressor(quantile=quantile, alpha=0);\n",
        "    y_pred = model.fit(X, y_pareto).predict(X);\n",
        "\n",
        "    print(\"Quantile = \" + str(quantile) + \", MAE = \" + str(round(metrics.mean_absolute_error(y_pareto, y_pred), 2)) + \", MSE = \" + str(round(metrics.mean_squared_error(y_pareto, y_pred), 2)));\n",
        "\n",
        "    plt.plot(X, y_pred, label=\"Квантиль: \" + str(quantile));\n",
        "\n",
        "linear_regressor = LinearRegression();\n",
        "y_pred_linear = linear_regressor.fit(X, y_pareto).predict(X);\n",
        "\n",
        "print(\"Linear regression, MAE = \" + str(round(metrics.mean_absolute_error(y_pareto, y_pred_linear), 2)) + \", MSE = \" + str(round(metrics.mean_squared_error(y_pareto, y_pred_linear), 2)));\n",
        "plt.plot(X, y_pred_linear, label=\"Линейная регрессия\");\n",
        "\n",
        "plt.plot(X, y_true_mean, color=\"black\", linestyle=\"dashed\", label=\"Середина распределения\");\n",
        "plt.scatter(x, y_pareto, color=\"black\", alpha=0.5);\n",
        "plt.legend();"
      ],
      "execution_count": 190,
      "outputs": [
        {
          "output_type": "stream",
          "name": "stdout",
          "text": [
            "Quantile = 0.05, MAE = 4.18, MSE = 48.96\n",
            "Quantile = 0.5, MAE = 3.43, MSE = 35.86\n",
            "Quantile = 0.95, MAE = 12.08, MSE = 176.57\n",
            "Linear regression, MAE = 3.86, MSE = 31.5\n"
          ]
        },
        {
          "output_type": "display_data",
          "data": {
            "image/png": "[encoded data removed]",
            "text/plain": [
              "<Figure size 864x432 with 1 Axes>"
            ]
          },
          "metadata": {
            "needs_background": "light"
          }
        }
      ]
    },
    {
      "cell_type": "markdown",
      "metadata": {
        "id": "pUMfNc0OCyVE"
      },
      "source": [
        "Можно заметить, что модель с функцией потерь $MSE$ показывает наилучшие результаты по своей целевой метрике, а по метрике $MAE$ ее обходит квантильная модель с квантилем, равным 0.5. (Потому что в этом случае функция mean pinball loss сводится к $MAE$."
      ]
    },
    {
      "cell_type": "markdown",
      "metadata": {
        "id": "JLgCw4JXmUTd"
      },
      "source": [
        "### MSLE"
      ]
    },
    {
      "cell_type": "markdown",
      "metadata": {
        "id": "P8gsgWx3mbfX"
      },
      "source": [
        "$MSLE$ (mean squared log error) - модификация $MSE$, хорошо показывающая себя при работе с данными, растущими экспоненциально.\n",
        "\n",
        "$MSLE(y,y_{pred})=\\frac{Σ_{i=1}^n(ln(1+y_i)-ln(1+y_{pred_i}))^2}{n}$.\n",
        "\n",
        "Эта метрика асимметрична - она штрафует заниженные предсказания сильнее, чем завышенные.\n",
        "\n",
        "Аналогично с $MSE$ и $RMSE$ можно использовать $RMSLE$, чтобы привести метрику к тем же единицам измерения, что и предсказываемые значения."
      ]
    },
    {
      "cell_type": "code",
      "metadata": {
        "id": "FRxoAbjQzPAe"
      },
      "source": [
        "def log_error(target, pred):\n",
        "    return (math.log(1 + target) - math.log(1 + pred))**2;"
      ],
      "execution_count": 109,
      "outputs": []
    },
    {
      "cell_type": "code",
      "metadata": {
        "colab": {
          "base_uri": "https://localhost:8080/",
          "height": 295
        },
        "id": "R6169ks8s7YI",
        "outputId": "8c73ed8b-bef3-4d1d-a17d-bc8978521ca9"
      },
      "source": [
        "target = np.repeat(5, 1000);\n",
        "pred = np.arange(0,20, 0.02);\n",
        "\n",
        "loss_msle = [log_error(target[i], pred[i]) for i in range(len(pred))];\n",
        "\n",
        "plt.plot(pred, loss_msle);\n",
        "plt.title('Демонстрация log loss');\n",
        "plt.xlabel('Predicted value');\n",
        "plt.ylabel('Loss');\n",
        "plt.ylim(bottom=0);\n",
        "plt.xlim(left=0, right=20);\n",
        "plt.grid();\n",
        "plt.show();"
      ],
      "execution_count": 111,
      "outputs": [
        {
          "output_type": "display_data",
          "data": {
            "image/png": "[encoded data removed]",
            "text/plain": [
              "<Figure size 432x288 with 1 Axes>"
            ]
          },
          "metadata": {
            "needs_background": "light"
          }
        }
      ]
    },
    {
      "cell_type": "markdown",
      "metadata": {
        "id": "NQYGdIgcq1io"
      },
      "source": [
        "# Источники"
      ]
    },
    {
      "cell_type": "markdown",
      "metadata": {
        "id": "yD256aAzq5pe"
      },
      "source": [
        "https://www.tensorflow.org/api_docs/python/tf/keras/metrics\n",
        "\n",
        "https://scikit-learn.org/stable/modules/classes.html#module-sklearn.metrics\n",
        "\n",
        "https://scikit-learn.org/stable/modules/linear_model.html#quantile-regression\n",
        "\n",
        "https://scikit-learn.org/stable/auto_examples/linear_model/plot_quantile_regression.html#sphx-glr-auto-examples-linear-model-plot-quantile-regression-py\n",
        "\n",
        "https://colab.research.google.com/drive/1sMZx6Pv7hSWY6L2xPPpmRGNCsqKEVa4f\n",
        "\n",
        "https://en.wikipedia.org/wiki/Quantile"
      ]
    }
  ]
}