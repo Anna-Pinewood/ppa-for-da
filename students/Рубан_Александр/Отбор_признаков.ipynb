{
  "nbformat": 4,
  "nbformat_minor": 0,
  "metadata": {
    "colab": {
      "name": "Отбор признаков - Рубан.ipynb",
      "provenance": [],
      "collapsed_sections": [],
      "authorship_tag": "ABX9TyMEnr8lxN5/69uTWew51hIq",
      "include_colab_link": true
    },
    "kernelspec": {
      "name": "python3",
      "display_name": "Python 3"
    },
    "language_info": {
      "name": "python"
    }
  },
  "cells": [
    {
      "cell_type": "markdown",
      "metadata": {
        "id": "view-in-github",
        "colab_type": "text"
      },
      "source": [
        "<a href=\"https://colab.research.google.com/github/RubanZ/ppa-for-da/blob/master/students/%D0%A0%D1%83%D0%B1%D0%B0%D0%BD_%D0%90%D0%BB%D0%B5%D0%BA%D1%81%D0%B0%D0%BD%D0%B4%D1%80/%D0%9E%D1%82%D0%B1%D0%BE%D1%80_%D0%BF%D1%80%D0%B8%D0%B7%D0%BD%D0%B0%D0%BA%D0%BE%D0%B2.ipynb\" target=\"_parent\"><img src=\"https://colab.research.google.com/assets/colab-badge.svg\" alt=\"Open In Colab\"/></a>"
      ]
    },
    {
      "cell_type": "markdown",
      "metadata": {
        "id": "JGcIKlu6zabm"
      },
      "source": [
        "#Отбор признаков на примере датасета об сердечно-сосудистых заболеваниях\n",
        "\n",
        "Датасет: https://www.kaggle.com/rishidamarla/heart-disease-prediction\n",
        "\n",
        "\n"
      ]
    },
    {
      "cell_type": "markdown",
      "metadata": {
        "id": "5OlXCHh_zOTF"
      },
      "source": [
        "#Введение\n",
        "Данные могут содержать большой объем признаков. И не всегда весь объем необъодим для выполнения задачи. Критерий отбора признаков включает релевантность для целей анализа данных, качество и технические ограничения, такие как объем данных или тип данных.\n",
        "\n",
        "Удаление избыточных признаков позволяет лучше понять данные, а также сократить время настройки модели, улучшить её точность и облегчить интерпретируемость.\n",
        "\n",
        "Сильно коррелированные друг с другом переменные дают модели одну и ту же информацию, следовательно, для анализа не нужно использовать их все. Если использовать, то модель окажется переобучена (overfit) и предвзята относительно одного отдельного признака.\n",
        "\n"
      ]
    },
    {
      "cell_type": "markdown",
      "metadata": {
        "id": "QmI7pBIy1opk"
      },
      "source": [
        "#Методы фильтрации"
      ]
    },
    {
      "cell_type": "markdown",
      "metadata": {
        "id": "uBD4HlSS4kOF"
      },
      "source": [
        "Установка библиотек"
      ]
    },
    {
      "cell_type": "code",
      "metadata": {
        "colab": {
          "base_uri": "https://localhost:8080/"
        },
        "id": "ZB-PaJLp4RqW",
        "outputId": "c187d083-a0f0-4a72-bda8-f05a3872314e"
      },
      "source": [
        "pip install numpy pandas matplotlib sklearn"
      ],
      "execution_count": 1,
      "outputs": [
        {
          "output_type": "stream",
          "name": "stdout",
          "text": [
            "Requirement already satisfied: numpy in /usr/local/lib/python3.7/dist-packages (1.19.5)\n",
            "Requirement already satisfied: pandas in /usr/local/lib/python3.7/dist-packages (1.1.5)\n",
            "Requirement already satisfied: matplotlib in /usr/local/lib/python3.7/dist-packages (3.2.2)\n",
            "Requirement already satisfied: sklearn in /usr/local/lib/python3.7/dist-packages (0.0)\n",
            "Requirement already satisfied: pytz>=2017.2 in /usr/local/lib/python3.7/dist-packages (from pandas) (2018.9)\n",
            "Requirement already satisfied: python-dateutil>=2.7.3 in /usr/local/lib/python3.7/dist-packages (from pandas) (2.8.2)\n",
            "Requirement already satisfied: six>=1.5 in /usr/local/lib/python3.7/dist-packages (from python-dateutil>=2.7.3->pandas) (1.15.0)\n",
            "Requirement already satisfied: cycler>=0.10 in /usr/local/lib/python3.7/dist-packages (from matplotlib) (0.11.0)\n",
            "Requirement already satisfied: pyparsing!=2.0.4,!=2.1.2,!=2.1.6,>=2.0.1 in /usr/local/lib/python3.7/dist-packages (from matplotlib) (2.4.7)\n",
            "Requirement already satisfied: kiwisolver>=1.0.1 in /usr/local/lib/python3.7/dist-packages (from matplotlib) (1.3.2)\n",
            "Requirement already satisfied: scikit-learn in /usr/local/lib/python3.7/dist-packages (from sklearn) (1.0.1)\n",
            "Requirement already satisfied: scipy>=1.1.0 in /usr/local/lib/python3.7/dist-packages (from scikit-learn->sklearn) (1.4.1)\n",
            "Requirement already satisfied: threadpoolctl>=2.0.0 in /usr/local/lib/python3.7/dist-packages (from scikit-learn->sklearn) (3.0.0)\n",
            "Requirement already satisfied: joblib>=0.11 in /usr/local/lib/python3.7/dist-packages (from scikit-learn->sklearn) (1.1.0)\n"
          ]
        }
      ]
    },
    {
      "cell_type": "markdown",
      "metadata": {
        "id": "ZcXzXpQW4tAA"
      },
      "source": [
        "Импорт библиотек и данных"
      ]
    },
    {
      "cell_type": "code",
      "metadata": {
        "colab": {
          "base_uri": "https://localhost:8080/"
        },
        "id": "zGvQuH_o5aIQ",
        "outputId": "44af05b2-c3cf-4dce-89e2-8d114da3302b"
      },
      "source": [
        "import numpy as np\n",
        "import pandas as pd\n",
        "import matplotlib.pyplot as plt\n",
        "from sklearn.model_selection import train_test_split\n",
        "from sklearn.preprocessing import MinMaxScaler\n",
        "from sklearn.feature_selection import SelectKBest,chi2,RFE, f_classif\n",
        "from sklearn.ensemble import RandomForestClassifier\n",
        "df = pd.read_csv(\"Heart_Disease_Prediction.csv\")\n",
        "\n",
        "print('Размер Dataframe:', df.shape)\n",
        "print(df.head(5))"
      ],
      "execution_count": 21,
      "outputs": [
        {
          "output_type": "stream",
          "name": "stdout",
          "text": [
            "Размер Dataframe: (270, 14)\n",
            "   Age  Sex  Chest pain type  ...  Number of vessels fluro  Thallium  Heart Disease\n",
            "0   70    1                4  ...                        3         3       Presence\n",
            "1   67    0                3  ...                        0         7        Absence\n",
            "2   57    1                2  ...                        0         7       Presence\n",
            "3   64    1                4  ...                        1         7        Absence\n",
            "4   74    0                2  ...                        1         3        Absence\n",
            "\n",
            "[5 rows x 14 columns]\n"
          ]
        }
      ]
    },
    {
      "cell_type": "code",
      "metadata": {
        "colab": {
          "base_uri": "https://localhost:8080/"
        },
        "id": "XO-kgndc5s7l",
        "outputId": "206bd345-977c-43a5-efdb-2146d4caa94b"
      },
      "source": [
        "print('\\n\\nИнформация о Dataframe df.info():')\n",
        "print(df.info())"
      ],
      "execution_count": 22,
      "outputs": [
        {
          "output_type": "stream",
          "name": "stdout",
          "text": [
            "\n",
            "\n",
            "Информация о Dataframe df.info():\n",
            "<class 'pandas.core.frame.DataFrame'>\n",
            "RangeIndex: 270 entries, 0 to 269\n",
            "Data columns (total 14 columns):\n",
            " #   Column                   Non-Null Count  Dtype  \n",
            "---  ------                   --------------  -----  \n",
            " 0   Age                      270 non-null    int64  \n",
            " 1   Sex                      270 non-null    int64  \n",
            " 2   Chest pain type          270 non-null    int64  \n",
            " 3   BP                       270 non-null    int64  \n",
            " 4   Cholesterol              270 non-null    int64  \n",
            " 5   FBS over 120             270 non-null    int64  \n",
            " 6   EKG results              270 non-null    int64  \n",
            " 7   Max HR                   270 non-null    int64  \n",
            " 8   Exercise angina          270 non-null    int64  \n",
            " 9   ST depression            270 non-null    float64\n",
            " 10  Slope of ST              270 non-null    int64  \n",
            " 11  Number of vessels fluro  270 non-null    int64  \n",
            " 12  Thallium                 270 non-null    int64  \n",
            " 13  Heart Disease            270 non-null    object \n",
            "dtypes: float64(1), int64(12), object(1)\n",
            "memory usage: 29.7+ KB\n",
            "None\n"
          ]
        }
      ]
    },
    {
      "cell_type": "code",
      "metadata": {
        "colab": {
          "base_uri": "https://localhost:8080/"
        },
        "id": "KFVNVL7P57Fu",
        "outputId": "52cddb77-de54-4612-e28e-a10dd9a09356"
      },
      "source": [
        "label = df[\"Heart Disease\"]\n",
        "df.drop(\"Heart Disease\", axis=1, inplace=True)\n",
        "print('\\n\\nЗначение метки \"Сердечное заболевание\":')\n",
        "print(label.value_counts())"
      ],
      "execution_count": 23,
      "outputs": [
        {
          "output_type": "stream",
          "name": "stdout",
          "text": [
            "\n",
            "\n",
            "Значение метки \"Сердечное заболевание\":\n",
            "Absence     150\n",
            "Presence    120\n",
            "Name: Heart Disease, dtype: int64\n"
          ]
        }
      ]
    },
    {
      "cell_type": "markdown",
      "metadata": {
        "id": "d-bKBxF3Eji9"
      },
      "source": [
        ""
      ]
    },
    {
      "cell_type": "code",
      "metadata": {
        "colab": {
          "base_uri": "https://localhost:8080/",
          "height": 318
        },
        "id": "uvym7qQf6NTk",
        "outputId": "d57567d2-a6ac-42f4-fce4-d81c68eab5ca"
      },
      "source": [
        "label.value_counts().plot(kind=\"bar\")"
      ],
      "execution_count": 24,
      "outputs": [
        {
          "output_type": "execute_result",
          "data": {
            "text/plain": [
              "<matplotlib.axes._subplots.AxesSubplot at 0x7f791af32210>"
            ]
          },
          "metadata": {},
          "execution_count": 24
        },
        {
          "output_type": "display_data",
          "data": {
            "image/png": "[encoded data removed]",
            "text/plain": [
              "<Figure size 432x288 with 1 Axes>"
            ]
          },
          "metadata": {
            "needs_background": "light"
          }
        }
      ]
    },
    {
      "cell_type": "markdown",
      "metadata": {
        "id": "VK6BzFuC672V"
      },
      "source": [
        "Изменение типов данных для признаков, имеющих категориальный характер. Однако, при печати столбцов (\"Sex\", \"Chest pain type\", \"FBS over 120\", \"EKG results\", \"Exercise angina\", \"Slope of ST\", \"Number of vessels fluro\", \"Thallium\") мы наблюдаем, что они определяются, как данные целого типа и рассматриваются как целые числа"
      ]
    },
    {
      "cell_type": "code",
      "metadata": {
        "id": "MFCqhnsE6b7E"
      },
      "source": [
        "categorical_features = [\"Sex\", \"Chest pain type\", \"FBS over 120\", \"EKG results\", \"Exercise angina\", \"Slope of ST\", \"Number of vessels fluro\", \"Thallium\"]\n",
        "df[categorical_features] = df[categorical_features].astype(\"category\")"
      ],
      "execution_count": 25,
      "outputs": []
    },
    {
      "cell_type": "markdown",
      "metadata": {
        "id": "SWQyxUJP7hKl"
      },
      "source": [
        "Теперь будем масштабировать наши непрерывные функции с помощью MinMaxScaler. Это тип нормализации, когда значения загоняются в диапазоне от 0 до 1, согласно уравнению (X - X.min(axis=0)) / (X.max(axis=0) - X.min(axis=0))"
      ]
    },
    {
      "cell_type": "code",
      "metadata": {
        "id": "Vl0q00xq7cmf"
      },
      "source": [
        "continuous_features = set(df.columns) - set(categorical_features)\n",
        "scaler = MinMaxScaler()\n",
        "df_norm = df.copy()\n",
        "df_norm[list(continuous_features)] = scaler.fit_transform(df[list(continuous_features)])"
      ],
      "execution_count": 26,
      "outputs": []
    },
    {
      "cell_type": "markdown",
      "metadata": {
        "id": "4C-ev6JA72Mj"
      },
      "source": [
        "##Отбор признаков с использованием рекурсивного исключения признаков (RFE)\n",
        "RFE является широко используемой техникой/алгоритмом для выбора точного числа значимых признаков. Иногда метод используется, чтобы объяснить некоторое число «самых важных» признаков, влияющих на результаты; а иногда для уменьшения очень большого числа переменных (около 200-400), и оставляются только те, которые вносят хоть какой-то вклад в модель, а все остальные исключаются. RFE использует ранговую систему. Признакам в наборе данных выставляются ранги. Затем эти ранги используются для рекурсивного исключения признаков в зависимости от коллинеарности между ними и значимости этих признаков в модели."
      ]
    },
    {
      "cell_type": "code",
      "metadata": {
        "colab": {
          "base_uri": "https://localhost:8080/"
        },
        "id": "KfI2GKLO7_as",
        "outputId": "e2c200f9-2fba-4259-e11b-84d10bf3d99e"
      },
      "source": [
        "rfe = RFE(estimator=RandomForestClassifier(), n_features_to_select=5)\n",
        "rfe_norm = df_norm\n",
        "X_new = rfe.fit_transform(rfe_norm, label)\n",
        "X_new"
      ],
      "execution_count": 27,
      "outputs": [
        {
          "output_type": "execute_result",
          "data": {
            "text/plain": [
              "array([[4.        , 0.44748858, 0.29007634, 0.38709677, 3.        ],\n",
              "       [3.        , 1.        , 0.67938931, 0.25806452, 7.        ],\n",
              "       [2.        , 0.30821918, 0.53435115, 0.0483871 , 7.        ],\n",
              "       ...,\n",
              "       [2.        , 0.38356164, 0.6259542 , 0.20967742, 3.        ],\n",
              "       [4.        , 0.15068493, 0.58778626, 0.06451613, 6.        ],\n",
              "       [4.        , 0.3652968 , 0.28244275, 0.24193548, 3.        ]])"
            ]
          },
          "metadata": {},
          "execution_count": 27
        }
      ]
    },
    {
      "cell_type": "markdown",
      "metadata": {
        "id": "Hp7HNh0Q8NUc"
      },
      "source": [
        ""
      ]
    },
    {
      "cell_type": "code",
      "metadata": {
        "colab": {
          "base_uri": "https://localhost:8080/",
          "height": 815
        },
        "id": "FxZvpLbJ9krJ",
        "outputId": "1f69580b-75d7-46b0-afdc-fbdd5b0bba69"
      },
      "source": [
        "clf = RandomForestClassifier()\n",
        "clf.fit(rfe_norm, label)\n",
        "# create a figure to plot a bar, where x axis is features, and Y indicating the importance of each feature\n",
        "plt.figure(figsize=(12,12))\n",
        "plt.bar(rfe_norm.columns, clf.feature_importances_)\n",
        "plt.xticks(rotation=45)"
      ],
      "execution_count": 28,
      "outputs": [
        {
          "output_type": "execute_result",
          "data": {
            "text/plain": [
              "([0, 1, 2, 3, 4, 5, 6, 7, 8, 9, 10, 11, 12],\n",
              " <a list of 13 Text major ticklabel objects>)"
            ]
          },
          "metadata": {},
          "execution_count": 28
        },
        {
          "output_type": "display_data",
          "data": {
            "image/png": "[encoded data removed]",
            "text/plain": [
              "<Figure size 864x864 with 1 Axes>"
            ]
          },
          "metadata": {
            "needs_background": "light"
          }
        }
      ]
    },
    {
      "cell_type": "markdown",
      "metadata": {
        "id": "cS-BwxsA9uep"
      },
      "source": [
        "Гистограмма показывает важность каждого признака (атрибута, измерения, набора данных). В нашем случае Thallium и Number of vessels fluro являются наиболее важными характеристиками, но большинство из них имеют важное значение, и в этом случае в значительной степени стоит передать эти признаки нашей модели машинного обучения."
      ]
    },
    {
      "cell_type": "markdown",
      "metadata": {
        "id": "uPmfcGoLAGgq"
      },
      "source": [
        "#Отбор по методу X^2\n",
        "Отбор признков с помощью хи-квадрат для каждого неотрицательного объекта и класса. Эта оценка может использоваться для выбора функций n_features с наивысшими значениями для тестовой статистики хи-квадрат из X, которая должна содержать только неотрицательные функции, такие как логические значения или частоты (например, количество терминов в классификации документа), относительно классы. Использование этой функции «отсеивает» признаки, которые с наибольшей вероятностью будут независимыми от класса и, следовательно, не имеют отношения к классификации."
      ]
    },
    {
      "cell_type": "code",
      "metadata": {
        "colab": {
          "base_uri": "https://localhost:8080/"
        },
        "id": "u248PtAlASmX",
        "outputId": "8702cec6-a67f-44ca-84ad-fa0c3fcfc223"
      },
      "source": [
        "x2_norm = df_norm\n",
        "X_new = SelectKBest(k=5, score_func=chi2).fit_transform(x2_norm, label)\n",
        "X_new"
      ],
      "execution_count": 29,
      "outputs": [
        {
          "output_type": "execute_result",
          "data": {
            "text/plain": [
              "array([[4.        , 0.        , 0.38709677, 3.        , 3.        ],\n",
              "       [3.        , 0.        , 0.25806452, 0.        , 7.        ],\n",
              "       [2.        , 0.        , 0.0483871 , 0.        , 7.        ],\n",
              "       ...,\n",
              "       [2.        , 0.        , 0.20967742, 0.        , 3.        ],\n",
              "       [4.        , 0.        , 0.06451613, 0.        , 6.        ],\n",
              "       [4.        , 1.        , 0.24193548, 3.        , 3.        ]])"
            ]
          },
          "metadata": {},
          "execution_count": 29
        }
      ]
    },
    {
      "cell_type": "code",
      "metadata": {
        "colab": {
          "base_uri": "https://localhost:8080/",
          "height": 815
        },
        "id": "oR1myzELA4t2",
        "outputId": "902a2e54-6f7b-41aa-ed90-da574f5b62c6"
      },
      "source": [
        "clf = RandomForestClassifier()\n",
        "clf.fit(x2_norm, label)\n",
        "# Вывод\n",
        "plt.figure(figsize=(12,12))\n",
        "plt.bar(x2_norm.columns, clf.feature_importances_)\n",
        "plt.xticks(rotation=45)"
      ],
      "execution_count": 30,
      "outputs": [
        {
          "output_type": "execute_result",
          "data": {
            "text/plain": [
              "([0, 1, 2, 3, 4, 5, 6, 7, 8, 9, 10, 11, 12],\n",
              " <a list of 13 Text major ticklabel objects>)"
            ]
          },
          "metadata": {},
          "execution_count": 30
        },
        {
          "output_type": "display_data",
          "data": {
            "image/png": "[encoded data removed]",
            "text/plain": [
              "<Figure size 864x864 with 1 Axes>"
            ]
          },
          "metadata": {
            "needs_background": "light"
          }
        }
      ]
    },
    {
      "cell_type": "markdown",
      "metadata": {
        "id": "qCthcm46E1g8"
      },
      "source": [
        "В этом случае Chest pain type и Thllium являются наиболее важными характеристиками."
      ]
    },
    {
      "cell_type": "markdown",
      "metadata": {
        "id": "egcIVxD2GZBM"
      },
      "source": [
        "#ANOVA\n",
        "Дисперсионный анализ (ANOVA) может определить, различаются ли средние значения трех или более групп. ANOVA использует F-тесты для статистической проверки равенства средних."
      ]
    },
    {
      "cell_type": "code",
      "metadata": {
        "colab": {
          "base_uri": "https://localhost:8080/"
        },
        "id": "NdcIemb-FjQC",
        "outputId": "dab7e08d-e18a-479c-bb11-05fd10e57071"
      },
      "source": [
        "anova_norm = df_norm\n",
        "X_new = SelectKBest(k=5, score_func=f_classif).fit_transform(anova_norm, label)\n",
        "X_new"
      ],
      "execution_count": 31,
      "outputs": [
        {
          "output_type": "execute_result",
          "data": {
            "text/plain": [
              "array([[0.29007634, 0.        , 0.38709677, 3.        , 3.        ],\n",
              "       [0.67938931, 0.        , 0.25806452, 0.        , 7.        ],\n",
              "       [0.53435115, 0.        , 0.0483871 , 0.        , 7.        ],\n",
              "       ...,\n",
              "       [0.6259542 , 0.        , 0.20967742, 0.        , 3.        ],\n",
              "       [0.58778626, 0.        , 0.06451613, 0.        , 6.        ],\n",
              "       [0.28244275, 1.        , 0.24193548, 3.        , 3.        ]])"
            ]
          },
          "metadata": {},
          "execution_count": 31
        }
      ]
    },
    {
      "cell_type": "code",
      "metadata": {
        "colab": {
          "base_uri": "https://localhost:8080/",
          "height": 815
        },
        "id": "dhFkYtYVGGWB",
        "outputId": "8e0cba9f-abed-45b3-ffe6-5a9f27e8582c"
      },
      "source": [
        "clf = RandomForestClassifier()\n",
        "clf.fit(anova_norm, label)\n",
        "# Вывод\n",
        "plt.figure(figsize=(12,12))\n",
        "plt.bar(anova_norm.columns, clf.feature_importances_)\n",
        "plt.xticks(rotation=45)"
      ],
      "execution_count": 32,
      "outputs": [
        {
          "output_type": "execute_result",
          "data": {
            "text/plain": [
              "([0, 1, 2, 3, 4, 5, 6, 7, 8, 9, 10, 11, 12],\n",
              " <a list of 13 Text major ticklabel objects>)"
            ]
          },
          "metadata": {},
          "execution_count": 32
        },
        {
          "output_type": "display_data",
          "data": {
            "image/png": "[encoded data removed]",
            "text/plain": [
              "<Figure size 864x864 with 1 Axes>"
            ]
          },
          "metadata": {
            "needs_background": "light"
          }
        }
      ]
    },
    {
      "cell_type": "markdown",
      "metadata": {
        "id": "zS1nQ1MvGR-S"
      },
      "source": [
        "В этом случае Chest pain type и Thllium являются наиболее важными характеристиками."
      ]
    },
    {
      "cell_type": "markdown",
      "metadata": {
        "id": "6GFJJZYc-IV6"
      },
      "source": [
        "#Источники:\n",
        "\n",
        "https://habr.com/ru/post/550978/\n",
        "\n",
        "https://tproger.ru/translations/feature-engineering-in-machine-learning/\n",
        "\n",
        "http://www.machinelearning.ru/wiki/index.php?title=CRISP-DM/Data_Preparation\n",
        "\n",
        "https://waksoft.susu.ru/2021/02/09/otbor-priznakov-s-pomoshhyu-scikit-learn-v-python/\n",
        "\n",
        "https://en.wikipedia.org/wiki/Chi-squared_distribution\n",
        "\n",
        "https://blog.minitab.com/en/adventures-in-statistics-2/understanding-analysis-of-variance-anova-and-the-f-test"
      ]
    }
  ]
}