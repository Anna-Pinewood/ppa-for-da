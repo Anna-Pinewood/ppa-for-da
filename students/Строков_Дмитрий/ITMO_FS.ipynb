{
  "nbformat": 4,
  "nbformat_minor": 0,
  "metadata": {
    "colab": {
      "name": "ITMO_FS.ipynb",
      "provenance": [],
      "collapsed_sections": []
    },
    "kernelspec": {
      "name": "python3",
      "display_name": "Python 3"
    },
    "language_info": {
      "name": "python"
    }
  },
  "cells": [
    {
      "cell_type": "markdown",
      "metadata": {
        "id": "OYmEi2rn9Z6U"
      },
      "source": [
        "ITMO_FS разработали студенты и сотрудники лаборатории Машинного обучения Университета ИТМО. Она реализована на Python и совместима со scikit-learn, которая де-факто считается основным инструментом анализа данных. Ее селекторы признаков принимают те же параметры:\n",
        "\n",
        "data: array-like (2-D list, pandas.Dataframe, numpy.array);  \n",
        "targets: array-like (1-D list, pandas.Series, numpy.array).\n",
        "\n",
        "Библиотека поддерживает все классические подходы к отбору признаков — фильтры, обертки и встраиваемые методы. Среди них числятся такие алгоритмы, как фильтры на основе корреляций Спирмена и Пирсона, критерий соответствия (Fit Criterion), QPFS, hill climbing filter и другие.\n",
        "\n",
        "Рассмотрим некоторые методы, которые предоставляет эта библиотека"
      ]
    },
    {
      "cell_type": "code",
      "metadata": {
        "colab": {
          "base_uri": "https://localhost:8080/",
          "height": 763
        },
        "id": "VFxVcdYu9eCX",
        "outputId": "ddd4fb29-b9a2-4a45-92a6-9206eea13907"
      },
      "source": [
        "!pip install ITMO_FS\n",
        "import ITMO_FS \n",
        "import numpy as np"
      ],
      "execution_count": 1,
      "outputs": [
        {
          "output_type": "stream",
          "name": "stdout",
          "text": [
            "Collecting ITMO_FS\n",
            "  Downloading ITMO_FS-0.3.3-py3-none-any.whl (70 kB)\n",
            "\u001b[K     |████████████████████████████████| 70 kB 3.8 MB/s \n",
            "\u001b[?25hCollecting qpsolvers\n",
            "  Downloading qpsolvers-1.7.1-py3-none-any.whl (35 kB)\n",
            "Requirement already satisfied: scikit-learn in /usr/local/lib/python3.7/dist-packages (from ITMO_FS) (1.0.1)\n",
            "Requirement already satisfied: imblearn in /usr/local/lib/python3.7/dist-packages (from ITMO_FS) (0.0)\n",
            "Requirement already satisfied: numpy in /usr/local/lib/python3.7/dist-packages (from ITMO_FS) (1.19.5)\n",
            "Requirement already satisfied: scipy in /usr/local/lib/python3.7/dist-packages (from ITMO_FS) (1.4.1)\n",
            "Requirement already satisfied: imbalanced-learn in /usr/local/lib/python3.7/dist-packages (from imblearn->ITMO_FS) (0.8.1)\n",
            "Requirement already satisfied: joblib>=0.11 in /usr/local/lib/python3.7/dist-packages (from imbalanced-learn->imblearn->ITMO_FS) (1.1.0)\n",
            "Requirement already satisfied: threadpoolctl>=2.0.0 in /usr/local/lib/python3.7/dist-packages (from scikit-learn->ITMO_FS) (3.0.0)\n",
            "Requirement already satisfied: qdldl>=0.1.5 in /usr/local/lib/python3.7/dist-packages (from qpsolvers->ITMO_FS) (0.1.5.post0)\n",
            "Collecting quadprog>=0.1.8\n",
            "  Downloading quadprog-0.1.10.tar.gz (121 kB)\n",
            "\u001b[K     |████████████████████████████████| 121 kB 11.6 MB/s \n",
            "\u001b[?25h  Installing build dependencies ... \u001b[?25l\u001b[?25hdone\n",
            "  Getting requirements to build wheel ... \u001b[?25l\u001b[?25hdone\n",
            "    Preparing wheel metadata ... \u001b[?25l\u001b[?25hdone\n",
            "Requirement already satisfied: Cython>=0.29.22 in /usr/local/lib/python3.7/dist-packages (from qpsolvers->ITMO_FS) (0.29.24)\n",
            "Collecting numpy\n",
            "  Downloading numpy-1.21.4-cp37-cp37m-manylinux_2_12_x86_64.manylinux2010_x86_64.whl (15.7 MB)\n",
            "\u001b[K     |████████████████████████████████| 15.7 MB 60 kB/s \n",
            "\u001b[?25hBuilding wheels for collected packages: quadprog\n",
            "  Building wheel for quadprog (PEP 517) ... \u001b[?25l\u001b[?25hdone\n",
            "  Created wheel for quadprog: filename=quadprog-0.1.10-cp37-cp37m-linux_x86_64.whl size=290739 sha256=513543d138cb869c041c36e76a0312b0ac205e98089ada4583788996cc610cad\n",
            "  Stored in directory: /root/.cache/pip/wheels/e9/af/76/c5335ed32afc1284e6100b86588d1f75f5c4906fa26df6efda\n",
            "Successfully built quadprog\n",
            "Installing collected packages: numpy, quadprog, qpsolvers, ITMO-FS\n",
            "  Attempting uninstall: numpy\n",
            "    Found existing installation: numpy 1.19.5\n",
            "    Uninstalling numpy-1.19.5:\n",
            "      Successfully uninstalled numpy-1.19.5\n",
            "\u001b[31mERROR: pip's dependency resolver does not currently take into account all the packages that are installed. This behaviour is the source of the following dependency conflicts.\n",
            "yellowbrick 1.3.post1 requires numpy<1.20,>=1.16.0, but you have numpy 1.21.4 which is incompatible.\n",
            "datascience 0.10.6 requires folium==0.2.1, but you have folium 0.8.3 which is incompatible.\n",
            "albumentations 0.1.12 requires imgaug<0.2.7,>=0.2.5, but you have imgaug 0.2.9 which is incompatible.\u001b[0m\n",
            "Successfully installed ITMO-FS-0.3.3 numpy-1.21.4 qpsolvers-1.7.1 quadprog-0.1.10\n"
          ]
        },
        {
          "output_type": "display_data",
          "data": {
            "application/vnd.colab-display-data+json": {
              "pip_warning": {
                "packages": [
                  "numpy"
                ]
              }
            }
          },
          "metadata": {}
        }
      ]
    },
    {
      "cell_type": "code",
      "metadata": {
        "id": "Ck-EhjoG-GpD"
      },
      "source": [
        "from sklearn.datasets import make_classification\n",
        "from sklearn.preprocessing import KBinsDiscretizer\n",
        "from ITMO_FS.filters.univariate import select_best_percentage, select_k_best\n",
        "from ITMO_FS.filters.univariate import UnivariateFilter\n",
        "from ITMO_FS.filters.univariate import f_ratio_measure, pearson_corr\n",
        "from ITMO_FS.filters.univariate import VDM\n",
        "from ITMO_FS.filters.multivariate import MRMR\n",
        "from ITMO_FS.filters.multivariate import DISRWithMassive\n",
        "from ITMO_FS.filters.unsupervised.trace_ratio_laplacian import TraceRatioLaplacian\n",
        "\n",
        "x, y = make_classification(1000, 100, n_informative = 10, n_redundant = 30, n_repeated = 10, shuffle = False)"
      ],
      "execution_count": 37,
      "outputs": []
    },
    {
      "cell_type": "markdown",
      "metadata": {
        "id": "9OXblZ1GjA6D"
      },
      "source": [
        "# Univariate filter methods"
      ]
    },
    {
      "cell_type": "markdown",
      "metadata": {
        "id": "iIIHrGWMjEsm"
      },
      "source": [
        "Value Difference Metric"
      ]
    },
    {
      "cell_type": "code",
      "metadata": {
        "colab": {
          "base_uri": "https://localhost:8080/"
        },
        "id": "7egmH3KIi5TI",
        "outputId": "9856cefe-48ae-424b-b684-e4d654c6b2ea"
      },
      "source": [
        "x = np.array([[0, 0, 0, 0],\n",
        "              [1, 0, 1, 1],\n",
        "              [1, 0, 0, 2]])\n",
        "y = np.array([0,\n",
        "              1,\n",
        "              1])\n",
        "vdm = VDM()\n",
        "vdm.run(x, y)"
      ],
      "execution_count": 32,
      "outputs": [
        {
          "output_type": "execute_result",
          "data": {
            "text/plain": [
              "array([[0.        , 4.35355339, 4.        ],\n",
              "       [4.5       , 0.        , 0.5       ],\n",
              "       [4.        , 0.35355339, 0.        ]])"
            ]
          },
          "metadata": {},
          "execution_count": 32
        }
      ]
    },
    {
      "cell_type": "markdown",
      "metadata": {
        "id": "mSSqN755bZ4e"
      },
      "source": [
        "# Measures for univariate filters"
      ]
    },
    {
      "cell_type": "markdown",
      "metadata": {
        "id": "ZaM_BPkobr4K"
      },
      "source": [
        "Для этой группы методов достаточно передать входные данные и их классы. Всего в группе есть 10 методов:\n",
        "\n",
        "\n",
        "1. filters.univariate.**f_ratio_measure**(X, y)\t- Calculates Fisher score for features.\n",
        "2. filters.univariate.**gini_index**(X, y)\t- Gini index is a measure of statistical dispersion.\n",
        "3. filters.univariate.**su_measure**(X, y)\t- SU is a correlation measure between the features and the class calculated, via formula SU(X,Y) = 2 * I(X|Y) / (H(X) + H(Y))\n",
        "4. filters.univariate.**spearman_corr**(X, y)\t- Calculates spearman correlation for each feature.\n",
        "5. filters.univariate.**pearson_corr**(X, y)\t- Calculates pearson correlation for each feature.\n",
        "6. filters.univariate.**fechner_corr**(X, y)\t- Calculates Sample sign correlation (Fechner correlation) for each feature.\n",
        "7. filters.univariate.**kendall_corr**(X, y)\t- Calculates Sample sign correlation (Kendall correlation) for each feature.\n",
        "8. filters.univariate.**reliefF_measure**(X, y[, …])\t- Counts ReliefF measure for each feature\n",
        "9. filters.univariate.**chi2_measure**(X, y)\t- Calculates score for the test chi-squared statistic from X.\n",
        "10. filters.univariate.**information_gain**(X, y)\t- Calculates mutual information for each feature by formula, I(X,Y) = H(X) - H(X|Y)\n",
        "\n"
      ]
    },
    {
      "cell_type": "code",
      "metadata": {
        "colab": {
          "base_uri": "https://localhost:8080/"
        },
        "id": "4UnjdD95anb0",
        "outputId": "927b1f79-bdec-4196-cce5-8153a7029263"
      },
      "source": [
        "scores = f_ratio_measure(x, y)\n",
        "scores1 = pearson_corr(x, y)\n",
        "\n",
        "print(scores)\n",
        "print(scores1)"
      ],
      "execution_count": 19,
      "outputs": [
        {
          "output_type": "stream",
          "name": "stdout",
          "text": [
            "[ 8.05398488e-02  2.13346518e-04  3.25891040e-01  9.49682748e-04\n",
            "  4.32314534e-02  1.18651380e-03  1.90152601e-03  4.01719683e-04\n",
            "  1.11866934e-04  7.57029056e-04  3.78730110e-01  1.00005502e-02\n",
            "  5.65204598e-02  4.57917012e-02  2.80749117e-02  1.91162761e-02\n",
            "  5.70774761e-02  1.35133915e-02  1.06354745e-02  7.35320193e-04\n",
            "  1.65662497e-03  3.60693230e-02  5.46651776e-03  2.42480030e-02\n",
            "  1.27767226e-01  2.25308688e-03  2.56475343e-03  9.54718806e-03\n",
            "  1.51391025e-01  1.78511449e-03  8.57983783e-03  1.37487835e-03\n",
            "  6.05477389e-02  8.90651472e-02  1.62906279e-02  5.50502626e-02\n",
            "  3.42524694e-02  7.11629606e-02  1.76246231e-01  5.23193375e-03\n",
            "  5.65204598e-02  3.25891040e-01  1.00005502e-02  2.13346518e-04\n",
            "  1.11866934e-04  1.11866934e-04  1.78511449e-03  4.57917012e-02\n",
            "  5.70774761e-02  1.65662497e-03  7.27146840e-04  9.35169160e-04\n",
            "  1.62337349e-03  3.39813971e-04  1.23564437e-03  6.16315949e-07\n",
            "  1.49062313e-04  3.58300984e-05  2.24140695e-04  4.56096929e-03\n",
            "  5.52473605e-04  1.31153807e-05  2.45176664e-03  8.18347827e-04\n",
            "  1.00514092e-03  1.69440097e-03  3.87478320e-03  5.13122326e-05\n",
            "  7.46272476e-04  1.28248341e-03  3.04039991e-06  1.10296195e-04\n",
            "  3.73806660e-04  3.02029205e-06  4.56050357e-04  2.09388930e-03\n",
            "  3.50422123e-07  2.57242854e-03  3.15235323e-03  3.80352393e-05\n",
            "  8.17833673e-03  1.07686815e-03  1.73923712e-04  5.65219685e-06\n",
            "  3.04695563e-04  2.30276340e-03  7.68078331e-04 -1.43671791e-03\n",
            "  1.28208896e-04  1.41921142e-03  1.45534452e-03  1.53292613e-04\n",
            "  2.42144562e-03 -3.63562559e-04  4.93534595e-04  1.23687486e-04\n",
            "  3.63933207e-07  4.56494063e-03  4.74579165e-03  3.29026460e-04]\n",
            "[-2.50080215e-01  1.14252352e-02  4.71724671e-01  3.98092294e-02\n",
            "  1.99627366e-01 -3.70010086e-02  3.93309651e-02 -3.11816530e-02\n",
            " -1.05958142e-02 -2.50088412e-02 -4.09393582e-01 -9.67071501e-02\n",
            " -1.77941306e-01 -2.20844765e-01 -1.95980188e-01  1.42028916e-01\n",
            " -2.01335931e-01 -8.04896358e-02 -9.98656798e-02 -2.78693812e-02\n",
            "  3.87007800e-02  2.21644958e-01  1.59971182e-01 -1.64541684e-01\n",
            "  3.52408905e-01 -6.23268843e-02  5.11432657e-02 -1.01813098e-01\n",
            " -4.22819775e-01  3.94899829e-02 -8.60775424e-02 -3.62630022e-02\n",
            "  2.29762296e-01  3.01302290e-01 -1.69282568e-01 -2.68513994e-01\n",
            " -1.62077932e-01 -2.05563937e-01 -2.71142669e-01 -7.12212059e-02\n",
            " -1.77941306e-01  4.71724671e-01 -9.67071501e-02  1.14252352e-02\n",
            " -1.05958142e-02 -1.05958142e-02  3.94899829e-02 -2.20844765e-01\n",
            " -2.01335931e-01  3.87007800e-02 -2.78913259e-02 -2.96557311e-02\n",
            "  4.39668697e-02 -1.77133576e-02  3.72175146e-02  2.45902652e-04\n",
            " -2.08422347e-02  2.30919475e-02 -1.54352487e-02 -6.22957341e-02\n",
            "  2.32965354e-02  3.71840380e-03 -4.72450763e-02  2.88145394e-02\n",
            " -3.82125082e-02  3.78633820e-02  6.19014766e-02  7.39423630e-03\n",
            " -2.75384927e-02 -3.33247843e-02  1.69776598e-03  9.97495082e-03\n",
            "  1.84446157e-02  1.60852539e-03  2.09701231e-02  5.15752546e-02\n",
            " -5.65815694e-04  3.65524294e-02 -5.46249111e-02 -6.49838107e-03\n",
            "  1.88045781e-02 -3.42400066e-02 -1.37527758e-02 -2.50676396e-03\n",
            " -2.33710549e-02 -4.22207060e-02 -2.83511898e-02  2.12671693e-02\n",
            " -1.15942287e-02  3.43610208e-02 -3.57736149e-02  1.18715362e-02\n",
            " -4.80315027e-02  2.62921606e-02  2.53118411e-02  1.10006094e-02\n",
            " -5.85007793e-04  6.63714744e-02 -4.60624588e-02  1.67291778e-02]\n"
          ]
        }
      ]
    },
    {
      "cell_type": "markdown",
      "metadata": {
        "id": "HCKhRGVHb0hM"
      },
      "source": [
        "# Cutting rules for univariate filters"
      ]
    },
    {
      "cell_type": "markdown",
      "metadata": {
        "id": "MN1khlDmem0_"
      },
      "source": [
        "1. filters.univariate.**select_best_by_value**(value)\t\n",
        "2. filters.univariate.**select_worst_by_value**(value)\t\n",
        "3. filters.univariate.**select_k_best**(k)\t\n",
        "4. filters.univariate.**select_k_worst**(k)\t\n",
        "5. filters.univariate.**select_best_percentage**(percent)\t\n",
        "6. filters.univariate.**select_worst_percentage**(percent)\t"
      ]
    },
    {
      "cell_type": "code",
      "metadata": {
        "colab": {
          "base_uri": "https://localhost:8080/"
        },
        "id": "uJdNjdxKaBCT",
        "outputId": "75d91731-25dc-4416-a9a1-a6ec2d9bc7dc"
      },
      "source": [
        "ufilterBest = UnivariateFilter(f_ratio_measure, select_k_best(10))\n",
        "ufilterBest.fit(x, y)\n",
        "\n",
        "ufilterBestPercentage= UnivariateFilter(f_ratio_measure, select_best_percentage(0.1))\n",
        "ufilterBestPercentage.fit(x, y)\n",
        "\n",
        "print(ufilterBest.selected_features)\n",
        "print(ufilterBestPercentage.selected_features)"
      ],
      "execution_count": 25,
      "outputs": [
        {
          "output_type": "stream",
          "name": "stdout",
          "text": [
            "[26, 36, 11, 42, 10, 22, 34, 23, 46, 32]\n",
            "[2, 4, 5, 8, 10, 11, 13, 20, 21, 22, 23, 26, 31, 32, 34, 36, 38, 39, 42, 45, 46, 47, 49]\n"
          ]
        }
      ]
    },
    {
      "cell_type": "markdown",
      "metadata": {
        "id": "xkdDyfEciWkK"
      },
      "source": [
        "# Multivariate filter methods"
      ]
    },
    {
      "cell_type": "markdown",
      "metadata": {
        "id": "ARK_poX_kMmV"
      },
      "source": [
        "Доступны следующие фильтры\n",
        "1. filters.multivariate.**DISRWithMassive**([…]) - Creates DISR (Double Input Symmetric Relevance) feature selection filter based on kASSI criterin for feature selection which aims at maximizing the mutual information avoiding, meanwhile, large multivariate density estimation.\n",
        "2. filters.multivariate.**FCBFDiscreteFilter**() -\tCreates FCBF (Fast Correlation Based filter) feature selection filter based on mutual information criteria for data with discrete features This filter finds best set of features by searching for a feature, which provides the most information about classification problem on given dataset at each step and then eliminating features which are less relevant than redundant\n",
        "3. filters.multivariate.**STIR**([n_features_to_keep]) -\tFeature selection using STIR algorithm.\n",
        "4. filters.multivariate.**TraceRatioFisher**(…) -\tCreates TraceRatio(similarity based) feature selection filter performed in supervised way, i.e fisher version\n",
        "5. filters.multivariate.**MIMAGA**(mim_size, …)\t"
      ]
    },
    {
      "cell_type": "markdown",
      "metadata": {
        "id": "O_zLs-5bjqKP"
      },
      "source": [
        "Пример Double Input Symmetric Relevance"
      ]
    },
    {
      "cell_type": "code",
      "metadata": {
        "colab": {
          "base_uri": "https://localhost:8080/"
        },
        "id": "4BhreAlEjph6",
        "outputId": "1b66f5a3-37ce-43d3-fbbc-7fc97a4389ba"
      },
      "source": [
        "X = np.array([[1, 2, 3, 3, 1],[2, 2, 3, 3, 2], [1, 3, 3, 1, 3],[3, 1, 3, 1, 4],[4, 4, 3, 1, 5]])\n",
        "y = np.array([1, 2, 3, 4, 5])\n",
        "disr = DISRWithMassive(3)\n",
        "print(disr.fit_transform(X, y))"
      ],
      "execution_count": 35,
      "outputs": [
        {
          "output_type": "stream",
          "name": "stdout",
          "text": [
            "[[1 2 1]\n",
            " [2 2 2]\n",
            " [1 3 3]\n",
            " [3 1 4]\n",
            " [4 4 5]]\n"
          ]
        }
      ]
    },
    {
      "cell_type": "markdown",
      "metadata": {
        "id": "9ch0vpi9kot_"
      },
      "source": [
        "# Measures for multivariate filters"
      ]
    },
    {
      "cell_type": "markdown",
      "metadata": {
        "id": "Po0jkk3AkuZC"
      },
      "source": [
        "1. filters.multivariate.**MIM**(selected_features, …)\t- Mutual Information Maximization feature scoring criterion.\n",
        "1. filters.multivariate.**MRMR**(selected_features, …)\t- Minimum-Redundancy Maximum-Relevance feature scoring criterion.\n",
        "1. filters.multivariate.**JMI**(selected_features, …)\t- Joint Mutual Information feature scoring criterion.\n",
        "1. filters.multivariate.**CIFE**(selected_features, …)\t- Conditional Infomax Feature Extraction feature scoring criterion.\n",
        "1. filters.multivariate.**MIFS**(selected_features, …)\t- Mutual Information Feature Selection feature scoring criterion.\n",
        "1. filters.multivariate.**CMIM**(selected_features, …)\t- Conditional Mutual Info Maximisation feature scoring criterion.\n",
        "1. filters.multivariate.**ICAP**(selected_features, …)\t- Interaction Capping feature scoring criterion.\n",
        "1. filters.multivariate.**DCSF**(selected_features, …)\t- Dynamic change of selected feature with the class scoring criterion.\n",
        "1. filters.multivariate.**CFR**(selected_features, …)\t- The criterion of CFR maximizes the correlation and minimizes the redundancy.\n",
        "1. filters.multivariate.**MRI**(selected_features, …)\t- Max-Relevance and Max-Independence feature scoring criteria.\n",
        "1. filters.multivariate.**IWFS**(selected_features, …)\t- Interaction Weight base feature scoring criteria.\n",
        "1. filters.multivariate.**generalizedCriteria**(…)\t- This feature scoring criteria is a linear combination of all relevance, redundancy, conditional dependency Given set of already selected features and set of remaining features on dataset X with labels y selects next feature."
      ]
    },
    {
      "cell_type": "markdown",
      "metadata": {
        "id": "Ha7oNJy6lAej"
      },
      "source": [
        "Пример использования Minimum-Redundancy Maximum-Relevance (MIMR)"
      ]
    },
    {
      "cell_type": "code",
      "metadata": {
        "colab": {
          "base_uri": "https://localhost:8080/"
        },
        "id": "KmxoDaXJiW6m",
        "outputId": "7b911aa2-7add-477f-dcaa-5c5cd1f7f585"
      },
      "source": [
        "est = KBinsDiscretizer(n_bins=10, encode='ordinal')\n",
        "data, target = np.array(x), np.array(y)\n",
        "est.fit(data)\n",
        "data = est.transform(data)\n",
        "selected_features = [1, 2]\n",
        "other_features = [i for i in range(0, data.shape[1]) if i not in selected_features]\n",
        "print(MRMR(np.array(selected_features), np.array(other_features), data, target))"
      ],
      "execution_count": 29,
      "outputs": [
        {
          "output_type": "stream",
          "name": "stdout",
          "text": [
            "[-0.03228359 -0.04376638 -0.06259611 -0.07149853 -0.02633139 -0.05679009\n",
            " -0.06189949 -0.05359309 -0.20235912 -0.08544793 -0.1447178  -0.12556481\n",
            " -0.0462733  -0.06021178 -0.06523317 -0.06859147 -0.11886985 -0.12936973\n",
            " -0.13170482 -0.09606468 -0.13410027 -0.07378414 -0.0897233  -0.04749364\n",
            " -0.20146248 -0.13938036 -0.09502407 -0.024849   -0.1728354  -0.06459796\n",
            " -0.05022433 -0.18661539 -0.04922168 -0.09198459 -0.12394811 -0.18030134\n",
            " -0.10034338 -0.09610374 -0.10034338 -0.13938036 -0.04749364 -0.024849\n",
            " -0.20235912 -0.06859147 -0.20146248 -0.04922168 -1.1639283  -0.06259611\n",
            " -0.03448612 -0.03470784 -0.04285411 -0.04167731 -0.03735661 -0.04291407\n",
            " -0.03899624 -0.03273649 -0.04911312 -0.03423712 -0.02940827 -0.03351563\n",
            " -0.0403405  -0.03889953 -0.03952306 -0.03973018 -0.02569273 -0.03588849\n",
            " -0.04035212 -0.03326063 -0.02973029 -0.03043174 -0.03088164 -0.03391277\n",
            " -0.02536295 -0.04209314 -0.03003628 -0.03181613 -0.03272788 -0.03011073\n",
            " -0.03510675 -0.03092084 -0.04312557 -0.03259453 -0.03473192 -0.03349867\n",
            " -0.04515783 -0.03560807 -0.03630857 -0.03867812 -0.04620758 -0.03974694\n",
            " -0.04147157 -0.03716906 -0.03107024 -0.03307745 -0.04661332 -0.03583093\n",
            " -0.03948932 -0.03228322]\n"
          ]
        }
      ]
    },
    {
      "cell_type": "markdown",
      "metadata": {
        "id": "zgLXKYXylmem"
      },
      "source": [
        "# Unsupervised filter methods"
      ]
    },
    {
      "cell_type": "markdown",
      "metadata": {
        "id": "rjeydSdUltWw"
      },
      "source": [
        "Пример TraceRatio"
      ]
    },
    {
      "cell_type": "code",
      "metadata": {
        "colab": {
          "base_uri": "https://localhost:8080/"
        },
        "id": "CUJ2hBuclRuh",
        "outputId": "38ae6772-c78c-4ca2-fb10-a347552cc362"
      },
      "source": [
        "tracer = TraceRatioLaplacian(10)\n",
        "print(tracer.run(x, y)[0])"
      ],
      "execution_count": 38,
      "outputs": [
        {
          "output_type": "stream",
          "name": "stdout",
          "text": [
            "[11 89 80 76 60 69 67 87  1 20]\n"
          ]
        }
      ]
    },
    {
      "cell_type": "markdown",
      "metadata": {
        "id": "YeBriAIMlxOK"
      },
      "source": [
        "# Sparse filter methods"
      ]
    },
    {
      "cell_type": "markdown",
      "metadata": {
        "id": "ddvLxZZxl08b"
      },
      "source": [
        "1. filters.sparse.**MCFS**(d[, k, p, scheme, sigma]) -\tPerforms the Unsupervised Feature Selection for Multi-Cluster Data algorithm.\n",
        "1. filters.sparse.**NDFS**(p[, c, k, alpha, beta, …]) -\tPerforms the Nonnegative Discriminative Feature Selection algorithm.\n",
        "1. filters.sparse.**RFS**(p[, gamma, …])\t- Performs the Robust Feature Selection via Joint L2,1-Norms Minimization algorithm.\n",
        "1. filters.sparse.**SPEC**(p[, k, gamma, sigma, …]) -\tPerforms the Spectral Feature Selection algorithm.\n",
        "1. filters.sparse.**UDFS**(p[, c, k, gamma, l, …]) -\tPerforms the Unsupervised Discriminative Feature Selection algorithm."
      ]
    },
    {
      "cell_type": "markdown",
      "metadata": {
        "id": "918QZZbgmI-Q"
      },
      "source": [
        "# Ensemble methods"
      ]
    },
    {
      "cell_type": "markdown",
      "metadata": {
        "id": "pQn7lSL4mspS"
      },
      "source": [
        "1. ensembles.measure_based.**WeightBased**(filters)\n",
        "1. ensembles.model_based.**BestSum**(models, …)\n",
        "1. ensembles.ranking_based.**Mixed**(filters) - Performs feature selection based on several filters"
      ]
    },
    {
      "cell_type": "markdown",
      "metadata": {
        "id": "YXzce2EBnCCC"
      },
      "source": [
        "# Embedded methods\n"
      ]
    },
    {
      "cell_type": "markdown",
      "metadata": {
        "id": "S8_TBKB2nDf3"
      },
      "source": [
        "1. embedded.**MOS**([model, loss, seed])\t- Performs Minimizing Overlapping Selection under SMOTE (MOSS) or under No-Sampling (MOSNS) algorithm."
      ]
    },
    {
      "cell_type": "markdown",
      "metadata": {
        "id": "Keym-0L9nLcX"
      },
      "source": [
        "# Hybrid methods"
      ]
    },
    {
      "cell_type": "markdown",
      "metadata": {
        "id": "zj17awItnOKz"
      },
      "source": [
        "1. hybrid.**FilterWrapperHybrid**(filter_, wrapper)\t\n",
        "1. hybrid.**Melif**(filter_ensemble[, scorer, verbose])\t"
      ]
    },
    {
      "cell_type": "markdown",
      "metadata": {
        "id": "W-UqS0hVnVKj"
      },
      "source": [
        "# Wrapper methods"
      ]
    },
    {
      "cell_type": "markdown",
      "metadata": {
        "id": "ykLAXONqnX45"
      },
      "source": [
        "1. wrappers.deterministic.**AddDelWrapper**(…[, …])\t- Creates add-del feature wrapper\n",
        "1. wrappers.deterministic.**BackwardSelection**(…)\t- Backward Selection removes one feature at a time until the number of features to be removed is reached.\n",
        "1. wrappers.deterministic.**RecursiveElimination**(…)\t- Performs a recursive feature elimination until the required number of features is reached.\n",
        "1. wrappers.deterministic.**SequentialForwardSelection**(…)\t- Sequentially Adds Features that Maximises the Classifying function when combined with the features already used TODO add theory about this method\n",
        "1. wrappers.deterministic.**qpfs_wrapper**(X, y, alpha)\t- Performs Quadratic Programming Feature Selection algorithm.\n",
        "1. wrappers.randomized.**HillClimbingWrapper**(…)\t\n",
        "1. wrappers.randomized.**SimulatedAnnealing**(…)\t- Performs feature selection using simulated annealing\n",
        "1. wrappers.randomized.**TPhMGWO**([wolfNumber, …])\t- Performs Grey Wolf optimization with Two-Phase Mutation"
      ]
    },
    {
      "cell_type": "markdown",
      "metadata": {
        "id": "3HfZ_losnsRi"
      },
      "source": [
        "# Источники\n",
        "Описание API - https://itmo-fs.readthedocs.io/en/latest/api.html  \n",
        "Статья на хабре - https://habr.com/ru/company/spbifmo/blog/516194/"
      ]
    }
  ]
}