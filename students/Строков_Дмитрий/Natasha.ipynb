{
  "nbformat": 4,
  "nbformat_minor": 0,
  "metadata": {
    "colab": {
      "name": "Natasha.ipynb",
      "provenance": [],
      "toc_visible": true,
      "include_colab_link": true
    },
    "kernelspec": {
      "name": "python3",
      "display_name": "Python 3"
    },
    "language_info": {
      "name": "python"
    }
  },
  "cells": [
    {
      "cell_type": "markdown",
      "metadata": {
        "id": "view-in-github",
        "colab_type": "text"
      },
      "source": [
        "<a href=\"https://colab.research.google.com/github/RubanZ/ppa-for-da/blob/master/students/%D0%A1%D1%82%D1%80%D0%BE%D0%BA%D0%BE%D0%B2_%D0%94%D0%BC%D0%B8%D1%82%D1%80%D0%B8%D0%B9/Natasha.ipynb\" target=\"_parent\"><img src=\"https://colab.research.google.com/assets/colab-badge.svg\" alt=\"Open In Colab\"/></a>"
      ]
    },
    {
      "cell_type": "markdown",
      "metadata": {
        "id": "LmY3skSUM6o8"
      },
      "source": [
        "# Предобработка текстовых данных с помощью фреймворка Natasha"
      ]
    },
    {
      "cell_type": "markdown",
      "metadata": {
        "id": "esDsQB0cvmBM"
      },
      "source": [
        "Natasha решает базовые задачи NLP (natural language processing) для русского языка: токенизация, сегментация предложений, встраивание слов, морфология, лемматизация, нормализация фраз, синтаксический анализ, работа с NER, извлечение фактов. \n",
        "\n",
        "[Natasha](https://natasha.github.io/ner/) объединяет библиотеки проекта Natasha под одним удобным API:\n",
        "\n",
        "* [Razdel](https://natasha.github.io/razdel/) - токенизация, сегментация предложений для русского языка\n",
        "\n",
        "* [Navec](https://natasha.github.io/navec/) - вектора русских слов\n",
        "\n",
        "* [Slovnet](https://github.com/natasha/slovnet) - библиотека с методами глубокого обучения для русского NLP, компактные модели для русской морфологии, синтаксиса и NER.\n",
        "\n",
        "* [Yargy](https://github.com/natasha/yargy) - извлечение фактов на основе правил, аналогичное синтаксическому анализатору Tomita.\n",
        "\n",
        "Рассмотрим примеры использования"
      ]
    },
    {
      "cell_type": "code",
      "metadata": {
        "colab": {
          "base_uri": "https://localhost:8080/"
        },
        "id": "kEVp8ulQplGO",
        "outputId": "0ac04551-eca4-4062-82fc-23bf002f38e2"
      },
      "source": [
        " !pip install natasha"
      ],
      "execution_count": 1,
      "outputs": [
        {
          "output_type": "stream",
          "name": "stdout",
          "text": [
            "Collecting natasha\n",
            "  Downloading natasha-1.4.0-py3-none-any.whl (34.4 MB)\n",
            "\u001b[K     ,████████████████████████████████, 34.4 MB 149 kB/s \n",
            "\u001b[?25hCollecting slovnet>=0.3.0\n",
            "  Downloading slovnet-0.5.0-py3-none-any.whl (49 kB)\n",
            "\u001b[K     ,████████████████████████████████, 49 kB 6.1 MB/s \n",
            "\u001b[?25hCollecting yargy>=0.14.0\n",
            "  Downloading yargy-0.15.0-py3-none-any.whl (41 kB)\n",
            "\u001b[K     ,████████████████████████████████, 41 kB 112 kB/s \n",
            "\u001b[?25hCollecting razdel>=0.5.0\n",
            "  Downloading razdel-0.5.0-py3-none-any.whl (21 kB)\n",
            "Collecting navec>=0.9.0\n",
            "  Downloading navec-0.10.0-py3-none-any.whl (23 kB)\n",
            "Collecting pymorphy2\n",
            "  Downloading pymorphy2-0.9.1-py3-none-any.whl (55 kB)\n",
            "\u001b[K     ,████████████████████████████████, 55 kB 3.8 MB/s \n",
            "\u001b[?25hCollecting ipymarkup>=0.8.0\n",
            "  Downloading ipymarkup-0.9.0-py3-none-any.whl (14 kB)\n",
            "Collecting intervaltree>=3\n",
            "  Downloading intervaltree-3.1.0.tar.gz (32 kB)\n",
            "Requirement already satisfied: sortedcontainers<3.0,>=2.0 in /usr/local/lib/python3.7/dist-packages (from intervaltree>=3->ipymarkup>=0.8.0->natasha) (2.4.0)\n",
            "Requirement already satisfied: numpy in /usr/local/lib/python3.7/dist-packages (from navec>=0.9.0->natasha) (1.19.5)\n",
            "Collecting dawg-python>=0.7.1\n",
            "  Downloading DAWG_Python-0.7.2-py2.py3-none-any.whl (11 kB)\n",
            "Requirement already satisfied: docopt>=0.6 in /usr/local/lib/python3.7/dist-packages (from pymorphy2->natasha) (0.6.2)\n",
            "Collecting pymorphy2-dicts-ru<3.0,>=2.4\n",
            "  Downloading pymorphy2_dicts_ru-2.4.417127.4579844-py2.py3-none-any.whl (8.2 MB)\n",
            "\u001b[K     ,████████████████████████████████, 8.2 MB 40.7 MB/s \n",
            "\u001b[?25hBuilding wheels for collected packages: intervaltree\n",
            "  Building wheel for intervaltree (setup.py) ... \u001b[?25l\u001b[?25hdone\n",
            "  Created wheel for intervaltree: filename=intervaltree-3.1.0-py2.py3-none-any.whl size=26119 sha256=986ad8dd6e36e4e520cb3c2168d1bdbf595961aef6727aa41a7a7a0e3707eb67\n",
            "  Stored in directory: /root/.cache/pip/wheels/16/85/bd/1001cbb46dcfb71c2001cd7401c6fb250392f22a81ce3722f7\n",
            "Successfully built intervaltree\n",
            "Installing collected packages: pymorphy2-dicts-ru, dawg-python, razdel, pymorphy2, navec, intervaltree, yargy, slovnet, ipymarkup, natasha\n",
            "  Attempting uninstall: intervaltree\n",
            "    Found existing installation: intervaltree 2.1.0\n",
            "    Uninstalling intervaltree-2.1.0:\n",
            "      Successfully uninstalled intervaltree-2.1.0\n",
            "Successfully installed dawg-python-0.7.2 intervaltree-3.1.0 ipymarkup-0.9.0 natasha-1.4.0 navec-0.10.0 pymorphy2-0.9.1 pymorphy2-dicts-ru-2.4.417127.4579844 razdel-0.5.0 slovnet-0.5.0 yargy-0.15.0\n"
          ]
        }
      ]
    },
    {
      "cell_type": "code",
      "metadata": {
        "id": "PM4FX4IaqhKv"
      },
      "source": [
        "from natasha import (\n",
        "    Segmenter,\n",
        "    MorphVocab,\n",
        "    \n",
        "    NewsEmbedding,\n",
        "    NewsMorphTagger,\n",
        "    NewsSyntaxParser,\n",
        "    NewsNERTagger,\n",
        "    \n",
        "    PER,\n",
        "    NamesExtractor,\n",
        "\n",
        "    Doc\n",
        ")"
      ],
      "execution_count": 2,
      "outputs": []
    },
    {
      "cell_type": "code",
      "metadata": {
        "id": "NqLHCMrxqnSI"
      },
      "source": [
        "segmenter = Segmenter()\n",
        "morph_vocab = MorphVocab()\n",
        "\n",
        "emb = NewsEmbedding()\n",
        "morph_tagger = NewsMorphTagger(emb)\n",
        "syntax_parser = NewsSyntaxParser(emb)\n",
        "ner_tagger = NewsNERTagger(emb)\n",
        "\n",
        "names_extractor = NamesExtractor(morph_vocab)\n",
        "\n",
        "text = '''Студенты и сотрудники лаборатории Машинного обучения Университета ИТМО разработали библиотеку для Python, которая решает ключевую задачу машинного обучения.\n",
        "\n",
        "Расскажем, почему появился этот инструмент и что он умеет.\n",
        "Нехватка алгоритмов\n",
        "\n",
        "Одна из ключевых задач машинного обучения — снижение размерности данных. Дата-саентисты сокращают число переменных, вычленяя среди них значения, наибольшим образом влияющие на результат. После этой операции модель машинного обучения требует меньше памяти, работает быстрее и качественнее. Пример ниже показывает, что исключение дублирующих признаков увеличивает точность классификации с 0,903 до 0,943.\n",
        "\n",
        "Существует два подхода к уменьшению размерности — конструирование и выбор признаков. В областях вроде биоинформатики и медицины чаще используют последний, так как он позволяет выделить значимые признаки с сохранением семантики, то есть не меняет исходный смысл признаков. Однако в самых распространенных библиотеках машинного обучения на Python — scikit-learn, pytorch, keras, tensorflow — нет полноценного набора методов выбора признаков.\n",
        "\n",
        "Для решения этой проблемы студенты и аспиранты Университета ИТМО разработали открытую библиотеку — ITMO_FS. Над ней трудится команда под руководством Ивана Сметанникова, доцента факультета информационных технологий и программирования, заместителя заведующего лабораторией Машинного обучения. Ведущий разработчик — Никита Пильненьский, закончивший магистратуру «Машинное обучение и анализ данных». Теперь он поступает в аспирантуру.\n",
        "\n",
        "«За последние несколько лет в нашу лабораторию приходили запросы на решение задач, для которых не подходил стандартный инструментарий. Например, нам требовались ансамблирующие алгоритмы на основе объединения фильтров, или алгоритмы, учитывающие наличие заранее известных (экспертно-размеченных) значимых признаков.\n",
        "\n",
        "Посмотрев на существующие решения, мы пришли к выводу, что они не только не содержат необходимые нам инструменты, но и не являются достаточно гибкими для их возможной мягкой интеграции. В контексте того, что среди таких библиотек конкуренция слаба, мы решили сделать свою библиотеку, исправляющую большинство недостатков».\n",
        "\n",
        "— Иван Сметанников\n",
        "'''\n",
        "doc = Doc(text)"
      ],
      "execution_count": 3,
      "outputs": []
    },
    {
      "cell_type": "markdown",
      "metadata": {
        "id": "ocdnCUWXrD5z"
      },
      "source": [
        "# Разделение"
      ]
    },
    {
      "cell_type": "markdown",
      "metadata": {
        "id": "urLQeWiTrIK8"
      },
      "source": [
        "После сегментации можно работать как с отдельными токенами, так и с целыми предложениями (которые в себе также содержат токены)"
      ]
    },
    {
      "cell_type": "code",
      "metadata": {
        "colab": {
          "base_uri": "https://localhost:8080/"
        },
        "id": "3JWiFLPcqtDp",
        "outputId": "e5689932-00e6-48b7-9e14-98bc415dbb78"
      },
      "source": [
        "doc.segment(segmenter)\n",
        "doc.tokens[:5]"
      ],
      "execution_count": 9,
      "outputs": [
        {
          "output_type": "execute_result",
          "data": {
            "text/plain": [
              "[DocToken(stop=8, text='Студенты'),\n",
              " DocToken(start=9, stop=10, text='и'),\n",
              " DocToken(start=11, stop=21, text='сотрудники'),\n",
              " DocToken(start=22, stop=33, text='лаборатории'),\n",
              " DocToken(start=34, stop=43, text='Машинного')]"
            ]
          },
          "metadata": {},
          "execution_count": 9
        }
      ]
    },
    {
      "cell_type": "code",
      "metadata": {
        "id": "Vb6F0KoA6w3G",
        "outputId": "2d7d7bc3-4df1-4b86-bc59-ca7574ff7c2f",
        "colab": {
          "base_uri": "https://localhost:8080/"
        }
      },
      "source": [
        "doc.sents[:5]"
      ],
      "execution_count": 8,
      "outputs": [
        {
          "output_type": "execute_result",
          "data": {
            "text/plain": [
              "[DocSent(stop=156, text='Студенты и сотрудники лаборатории Машинного обуче..., tokens=[...]),\n",
              " DocSent(start=158, stop=216, text='Расскажем, почему появился этот инструмент и что ..., tokens=[...]),\n",
              " DocSent(start=217, stop=310, text='Нехватка алгоритмов\\n\\nОдна из ключевых задач маш..., tokens=[...]),\n",
              " DocSent(start=311, stop=424, text='Дата-саентисты сокращают число переменных, вычлен..., tokens=[...]),\n",
              " DocSent(start=425, stop=526, text='После этой операции модель машинного обучения тре..., tokens=[...])]"
            ]
          },
          "metadata": {},
          "execution_count": 8
        }
      ]
    },
    {
      "cell_type": "markdown",
      "metadata": {
        "id": "h1pYrG_0rglP"
      },
      "source": [
        "# Морфология"
      ]
    },
    {
      "cell_type": "markdown",
      "metadata": {
        "id": "EMMpCQzTrit_"
      },
      "source": [
        "Библиотека умеет проводить морфологический анализ, можно работать снова с каждым токеном. Также уже есть встроенный \"красивый\" вывод признаков\n",
        "\n",
        "Зависит от шага с разделением и дополняет уже существующую информацию о токенах"
      ]
    },
    {
      "cell_type": "code",
      "metadata": {
        "colab": {
          "base_uri": "https://localhost:8080/"
        },
        "id": "x2q2v7hyrjeA",
        "outputId": "607a518e-a619-4bcc-a72f-068b8dd4a9c0"
      },
      "source": [
        "doc.tag_morph(morph_tagger)\n",
        "doc.tokens[:5]"
      ],
      "execution_count": 11,
      "outputs": [
        {
          "output_type": "execute_result",
          "data": {
            "text/plain": [
              "[DocToken(stop=8, text='Студенты', pos='NOUN', feats=<Anim,Nom,Masc,Plur>),\n",
              " DocToken(start=9, stop=10, text='и', pos='CCONJ'),\n",
              " DocToken(start=11, stop=21, text='сотрудники', pos='NOUN', feats=<Anim,Nom,Masc,Plur>),\n",
              " DocToken(start=22, stop=33, text='лаборатории', pos='NOUN', feats=<Inan,Gen,Fem,Sing>),\n",
              " DocToken(start=34, stop=43, text='Машинного', pos='ADJ', feats=<Gen,Pos,Neut,Sing>)]"
            ]
          },
          "metadata": {},
          "execution_count": 11
        }
      ]
    },
    {
      "cell_type": "code",
      "metadata": {
        "id": "FbdDkKr_7I5M",
        "outputId": "635b3eaf-8b27-4f6b-dea5-7b516d991b27",
        "colab": {
          "base_uri": "https://localhost:8080/"
        }
      },
      "source": [
        "doc.sents[0].morph.print()"
      ],
      "execution_count": 12,
      "outputs": [
        {
          "output_type": "stream",
          "name": "stdout",
          "text": [
            "            Студенты NOUN,Animacy=Anim,Case=Nom,Gender=Masc,Number=Plur\n",
            "                   и CCONJ\n",
            "          сотрудники NOUN,Animacy=Anim,Case=Nom,Gender=Masc,Number=Plur\n",
            "         лаборатории NOUN,Animacy=Inan,Case=Gen,Gender=Fem,Number=Sing\n",
            "           Машинного ADJ,Case=Gen,Degree=Pos,Gender=Neut,Number=Sing\n",
            "            обучения NOUN,Animacy=Inan,Case=Gen,Gender=Neut,Number=Sing\n",
            "        Университета PROPN,Animacy=Inan,Case=Gen,Gender=Masc,Number=Sing\n",
            "                ИТМО PROPN,Animacy=Inan,Case=Gen,Gender=Masc,Number=Sing\n",
            "         разработали VERB,Aspect=Perf,Mood=Ind,Number=Plur,Tense=Past,VerbForm=Fin,Voice=Act\n",
            "          библиотеку NOUN,Animacy=Inan,Case=Acc,Gender=Fem,Number=Sing\n",
            "                 для ADP\n",
            "              Python PROPN,Foreign=Yes\n",
            "                   , PUNCT\n",
            "             которая PRON,Case=Nom,Gender=Fem,Number=Sing\n",
            "              решает VERB,Aspect=Imp,Mood=Ind,Number=Sing,Person=3,Tense=Pres,VerbForm=Fin,Voice=Act\n",
            "            ключевую ADJ,Case=Acc,Degree=Pos,Gender=Fem,Number=Sing\n",
            "              задачу NOUN,Animacy=Inan,Case=Acc,Gender=Fem,Number=Sing\n",
            "           машинного ADJ,Case=Gen,Degree=Pos,Gender=Neut,Number=Sing\n",
            "            обучения NOUN,Animacy=Inan,Case=Gen,Gender=Neut,Number=Sing\n",
            "                   . PUNCT\n"
          ]
        }
      ]
    },
    {
      "cell_type": "markdown",
      "metadata": {
        "id": "V_DLAal4sJFO"
      },
      "source": [
        "# Лемматизация"
      ]
    },
    {
      "cell_type": "markdown",
      "metadata": {
        "id": "4Roov1qssfo_"
      },
      "source": [
        "Зависит от шага с морфологическим разбором и дополняет уже существующую информацию о токенах\n",
        "\n",
        "Выведем первые 15 примеров приведения слова к его нормальной форме"
      ]
    },
    {
      "cell_type": "code",
      "metadata": {
        "colab": {
          "base_uri": "https://localhost:8080/"
        },
        "id": "cxrJaGuxspNo",
        "outputId": "229455a2-c918-41d3-beaf-026ee761f97d"
      },
      "source": [
        "for token in doc.tokens:\n",
        "    token.lemmatize(morph_vocab)\n",
        "    \n",
        "doc.tokens[:5]"
      ],
      "execution_count": 13,
      "outputs": [
        {
          "output_type": "execute_result",
          "data": {
            "text/plain": [
              "[DocToken(stop=8, text='Студенты', pos='NOUN', feats=<Anim,Nom,Masc,Plur>, lemma='студент'),\n",
              " DocToken(start=9, stop=10, text='и', pos='CCONJ', lemma='и'),\n",
              " DocToken(start=11, stop=21, text='сотрудники', pos='NOUN', feats=<Anim,Nom,Masc,Plur>, lemma='сотрудник'),\n",
              " DocToken(start=22, stop=33, text='лаборатории', pos='NOUN', feats=<Inan,Gen,Fem,Sing>, lemma='лаборатория'),\n",
              " DocToken(start=34, stop=43, text='Машинного', pos='ADJ', feats=<Gen,Pos,Neut,Sing>, lemma='машинный')]"
            ]
          },
          "metadata": {},
          "execution_count": 13
        }
      ]
    },
    {
      "cell_type": "code",
      "metadata": {
        "id": "ZEOxvfFg7TVB",
        "outputId": "6ab73d1d-60ef-4655-8660-0cb8f52f4edd",
        "colab": {
          "base_uri": "https://localhost:8080/"
        }
      },
      "source": [
        "{_.text: _.lemma for _ in doc.tokens[:15]}"
      ],
      "execution_count": 14,
      "outputs": [
        {
          "output_type": "execute_result",
          "data": {
            "text/plain": [
              "{',': ',',\n",
              " 'Python': 'python',\n",
              " 'ИТМО': 'итмо',\n",
              " 'Машинного': 'машинный',\n",
              " 'Студенты': 'студент',\n",
              " 'Университета': 'университет',\n",
              " 'библиотеку': 'библиотека',\n",
              " 'для': 'для',\n",
              " 'и': 'и',\n",
              " 'которая': 'который',\n",
              " 'лаборатории': 'лаборатория',\n",
              " 'обучения': 'обучение',\n",
              " 'разработали': 'разработать',\n",
              " 'решает': 'решать',\n",
              " 'сотрудники': 'сотрудник'}"
            ]
          },
          "metadata": {},
          "execution_count": 14
        }
      ]
    },
    {
      "cell_type": "markdown",
      "metadata": {
        "id": "tD8bMbIWtgUa"
      },
      "source": [
        "# Синтаксический разбор"
      ]
    },
    {
      "cell_type": "markdown",
      "metadata": {
        "id": "TBbJIZiytj0g"
      },
      "source": [
        "Зависит от шага с разделением на токены, а именно использует информацию о предложениях"
      ]
    },
    {
      "cell_type": "code",
      "metadata": {
        "colab": {
          "base_uri": "https://localhost:8080/"
        },
        "id": "cG0PwdXqts7O",
        "outputId": "a18dd592-9445-42d1-c7fd-45a7e83013f7"
      },
      "source": [
        "doc.parse_syntax(syntax_parser)\n",
        "doc.tokens[:5]\n"
      ],
      "execution_count": 15,
      "outputs": [
        {
          "output_type": "execute_result",
          "data": {
            "text/plain": [
              "[DocToken(stop=8, text='Студенты', id='1_1', head_id='1_9', rel='nsubj', pos='NOUN', feats=<Anim,Nom,Masc,Plur>, lemma='студент'),\n",
              " DocToken(start=9, stop=10, text='и', id='1_2', head_id='1_3', rel='cc', pos='CCONJ', lemma='и'),\n",
              " DocToken(start=11, stop=21, text='сотрудники', id='1_3', head_id='1_1', rel='conj', pos='NOUN', feats=<Anim,Nom,Masc,Plur>, lemma='сотрудник'),\n",
              " DocToken(start=22, stop=33, text='лаборатории', id='1_4', head_id='1_3', rel='nmod', pos='NOUN', feats=<Inan,Gen,Fem,Sing>, lemma='лаборатория'),\n",
              " DocToken(start=34, stop=43, text='Машинного', id='1_5', head_id='1_6', rel='amod', pos='ADJ', feats=<Gen,Pos,Neut,Sing>, lemma='машинный')]"
            ]
          },
          "metadata": {},
          "execution_count": 15
        }
      ]
    },
    {
      "cell_type": "code",
      "metadata": {
        "id": "TqHSWC7K7cN3",
        "outputId": "3b843960-0d32-47b9-e3bc-10cf091366ca",
        "colab": {
          "base_uri": "https://localhost:8080/"
        }
      },
      "source": [
        "doc.sents[0].syntax.print()"
      ],
      "execution_count": 16,
      "outputs": [
        {
          "output_type": "stream",
          "name": "stdout",
          "text": [
            "  ┌────────► Студенты     nsubj\n",
            "  │       ┌► и            cc\n",
            "  │     ┌─└─ сотрудники   \n",
            "  │ ┌─┌─└──► лаборатории  nmod\n",
            "  │ │ │   ┌► Машинного    amod\n",
            "  │ │ └──►└─ обучения     nmod\n",
            "  │ └────►┌─ Университета nmod\n",
            "  │       └► ИТМО         nmod\n",
            "┌─└───────┌─ разработали  \n",
            "│     ┌─┌─└► библиотеку   obj\n",
            "│     │ │ ┌► для          case\n",
            "│     │ └►└─ Python       nmod\n",
            "│     │ ┌──► ,            punct\n",
            "│     │ │ ┌► которая      nsubj\n",
            "│     └►└─└─ решает       acl:relcl\n",
            "│     │   ┌► ключевую     amod\n",
            "│   ┌─└──►└─ задачу       obj\n",
            "│   │     ┌► машинного    amod\n",
            "│   └────►└─ обучения     nmod\n",
            "└──────────► .            punct\n"
          ]
        }
      ]
    },
    {
      "cell_type": "markdown",
      "metadata": {
        "id": "8b_g6txAt1nl"
      },
      "source": [
        "# Распознование именованных сущностей"
      ]
    },
    {
      "cell_type": "markdown",
      "metadata": {
        "id": "mlNi5eFnt4tE"
      },
      "source": [
        "Зависит от шага с разделением на токены"
      ]
    },
    {
      "cell_type": "code",
      "metadata": {
        "colab": {
          "base_uri": "https://localhost:8080/"
        },
        "id": "P5NwlP6LuB6m",
        "outputId": "699af4c2-e7f0-4f4d-fac2-90c3fdeb7198"
      },
      "source": [
        "doc.tag_ner(ner_tagger)\n",
        "doc.spans[:5]"
      ],
      "execution_count": 17,
      "outputs": [
        {
          "output_type": "execute_result",
          "data": {
            "text/plain": [
              "[DocSpan(start=34, stop=52, type='ORG', text='Машинного обучения', tokens=[...]),\n",
              " DocSpan(start=53, stop=70, type='ORG', text='Университета ИТМО', tokens=[...]),\n",
              " DocSpan(start=1130, stop=1147, type='ORG', text='Университета ИТМО', tokens=[...]),\n",
              " DocSpan(start=1233, stop=1251, type='PER', text='Ивана Сметанникова', tokens=[...]),\n",
              " DocSpan(start=1355, stop=1373, type='ORG', text='Машинного обучения', tokens=[...])]"
            ]
          },
          "metadata": {},
          "execution_count": 17
        }
      ]
    },
    {
      "cell_type": "code",
      "metadata": {
        "id": "3M19i_Ic7iJ0",
        "outputId": "6c7e900b-5eba-4c96-d534-9429a8de3dd7",
        "colab": {
          "base_uri": "https://localhost:8080/"
        }
      },
      "source": [
        "doc.ner.print()"
      ],
      "execution_count": 18,
      "outputs": [
        {
          "output_type": "stream",
          "name": "stdout",
          "text": [
            "Студенты и сотрудники лаборатории Машинного обучения Университета ИТМО\n",
            "                                  ORG─────────────── ORG──────────────\n",
            " разработали библиотеку для Python, которая решает ключевую задачу \n",
            "машинного обучения.\n",
            "Расскажем, почему появился этот инструмент и что он умеет.\n",
            "Нехватка алгоритмов\n",
            "Одна из ключевых задач машинного обучения — снижение размерности \n",
            "данных. Дата-саентисты сокращают число переменных, вычленяя среди них \n",
            "значения, наибольшим образом влияющие на результат. После этой \n",
            "операции модель машинного обучения требует меньше памяти, работает \n",
            "быстрее и качественнее. Пример ниже показывает, что исключение \n",
            "дублирующих признаков увеличивает точность классификации с 0,903 до \n",
            "0,943.\n",
            "Существует два подхода к уменьшению размерности — конструирование и \n",
            "выбор признаков. В областях вроде биоинформатики и медицины чаще \n",
            "используют последний, так как он позволяет выделить значимые признаки \n",
            "с сохранением семантики, то есть не меняет исходный смысл признаков. \n",
            "Однако в самых распространенных библиотеках машинного обучения на \n",
            "Python — scikit-learn, pytorch, keras, tensorflow — нет полноценного \n",
            "набора методов выбора признаков.\n",
            "Для решения этой проблемы студенты и аспиранты Университета ИТМО \n",
            "                                               ORG────────────── \n",
            "разработали открытую библиотеку — ITMO_FS. Над ней трудится команда \n",
            "под руководством Ивана Сметанникова, доцента факультета информационных\n",
            "                 PER───────────────                                   \n",
            " технологий и программирования, заместителя заведующего лабораторией \n",
            "Машинного обучения. Ведущий разработчик — Никита Пильненьский, \n",
            "ORG───────────────                        PER────────────────  \n",
            "закончивший магистратуру «Машинное обучение и анализ данных». Теперь \n",
            "он поступает в аспирантуру.\n",
            "«За последние несколько лет в нашу лабораторию приходили запросы на \n",
            "решение задач, для которых не подходил стандартный инструментарий. \n",
            "Например, нам требовались ансамблирующие алгоритмы на основе \n",
            "объединения фильтров, или алгоритмы, учитывающие наличие заранее \n",
            "известных (экспертно-размеченных) значимых признаков.\n",
            "Посмотрев на существующие решения, мы пришли к выводу, что они не \n",
            "только не содержат необходимые нам инструменты, но и не являются \n",
            "достаточно гибкими для их возможной мягкой интеграции. В контексте \n",
            "того, что среди таких библиотек конкуренция слаба, мы решили сделать \n",
            "свою библиотеку, исправляющую большинство недостатков».\n",
            "— Иван Сметанников\n",
            "  PER─────────────\n"
          ]
        }
      ]
    },
    {
      "cell_type": "markdown",
      "metadata": {
        "id": "nzVMqHm7uOT1"
      },
      "source": [
        "Затем такие сущности можно нормализовать\n"
      ]
    },
    {
      "cell_type": "code",
      "metadata": {
        "colab": {
          "base_uri": "https://localhost:8080/"
        },
        "id": "dMtsX3VEuSZQ",
        "outputId": "1c016f86-6c93-4928-f91b-bc5ffd919f9c"
      },
      "source": [
        "for span in doc.spans:\n",
        "   span.normalize(morph_vocab)\n",
        "doc.spans[:5]"
      ],
      "execution_count": 19,
      "outputs": [
        {
          "output_type": "execute_result",
          "data": {
            "text/plain": [
              "[DocSpan(start=34, stop=52, type='ORG', text='Машинного обучения', tokens=[...], normal='Машинное обучение'),\n",
              " DocSpan(start=53, stop=70, type='ORG', text='Университета ИТМО', tokens=[...], normal='Университет ИТМО'),\n",
              " DocSpan(start=1130, stop=1147, type='ORG', text='Университета ИТМО', tokens=[...], normal='Университет ИТМО'),\n",
              " DocSpan(start=1233, stop=1251, type='PER', text='Ивана Сметанникова', tokens=[...], normal='Иван Сметанников'),\n",
              " DocSpan(start=1355, stop=1373, type='ORG', text='Машинного обучения', tokens=[...], normal='Машинное обучение')]"
            ]
          },
          "metadata": {},
          "execution_count": 19
        }
      ]
    },
    {
      "cell_type": "code",
      "metadata": {
        "id": "Qh6ORKDv7n78",
        "outputId": "65374414-8ea2-4c5a-88a8-1f1c85357db3",
        "colab": {
          "base_uri": "https://localhost:8080/"
        }
      },
      "source": [
        "{_.text: _.normal for _ in doc.spans if _.text != _.normal}"
      ],
      "execution_count": 20,
      "outputs": [
        {
          "output_type": "execute_result",
          "data": {
            "text/plain": [
              "{'Ивана Сметанникова': 'Иван Сметанников',\n",
              " 'Машинного обучения': 'Машинное обучение',\n",
              " 'Университета ИТМО': 'Университет ИТМО'}"
            ]
          },
          "metadata": {},
          "execution_count": 20
        }
      ]
    },
    {
      "cell_type": "markdown",
      "metadata": {
        "id": "KiG6UODBubvP"
      },
      "source": [
        "А также рзделить на составные чати (имя, фамилия и тд)"
      ]
    },
    {
      "cell_type": "code",
      "metadata": {
        "colab": {
          "base_uri": "https://localhost:8080/"
        },
        "id": "bwEtYGQzuhCe",
        "outputId": "b72d3e33-9290-4a26-ba12-843b83956d1f"
      },
      "source": [
        "for span in doc.spans:\n",
        "   if span.type == PER:\n",
        "       span.extract_fact(names_extractor)\n",
        "\n",
        "doc.spans[:5]"
      ],
      "execution_count": 21,
      "outputs": [
        {
          "output_type": "execute_result",
          "data": {
            "text/plain": [
              "[DocSpan(start=34, stop=52, type='ORG', text='Машинного обучения', tokens=[...], normal='Машинное обучение'),\n",
              " DocSpan(start=53, stop=70, type='ORG', text='Университета ИТМО', tokens=[...], normal='Университет ИТМО'),\n",
              " DocSpan(start=1130, stop=1147, type='ORG', text='Университета ИТМО', tokens=[...], normal='Университет ИТМО'),\n",
              " DocSpan(start=1233, stop=1251, type='PER', text='Ивана Сметанникова', tokens=[...], normal='Иван Сметанников', fact=DocFact(slots=[...])),\n",
              " DocSpan(start=1355, stop=1373, type='ORG', text='Машинного обучения', tokens=[...], normal='Машинное обучение')]"
            ]
          },
          "metadata": {},
          "execution_count": 21
        }
      ]
    },
    {
      "cell_type": "code",
      "metadata": {
        "id": "rKL_k62Y7vBk",
        "outputId": "b5ddac15-5733-49d5-f86d-05525d59f442",
        "colab": {
          "base_uri": "https://localhost:8080/"
        }
      },
      "source": [
        "{_.normal: _.fact.as_dict for _ in doc.spans if _.type == PER}"
      ],
      "execution_count": 22,
      "outputs": [
        {
          "output_type": "execute_result",
          "data": {
            "text/plain": [
              "{'Иван Сметанников': {'first': 'Иван', 'last': 'Сметанников'},\n",
              " 'Никита Пильненьский': {'first': 'Никита', 'last': 'Пильненьский'}}"
            ]
          },
          "metadata": {},
          "execution_count": 22
        }
      ]
    },
    {
      "cell_type": "markdown",
      "metadata": {
        "id": "xjsNtbOIK5J5"
      },
      "source": [
        "# Источники\n",
        "\n",
        "https://github.com/natasha\n",
        "\n",
        "https://natasha.github.io"
      ]
    },
    {
      "cell_type": "markdown",
      "metadata": {
        "id": "tFfC8jrKK8PA"
      },
      "source": [
        "# Ревью"
      ]
    },
    {
      "cell_type": "markdown",
      "metadata": {
        "id": "pnPNcKg3LAxp"
      },
      "source": [
        "## Передреев Дмитрий\n",
        "\n",
        "Туториал прошел. Добавил заголовок и ссылки на документацию модулей проекта - в них более подробно разобраны примеры использования"
      ]
    },
    {
      "cell_type": "markdown",
      "metadata": {
        "id": "pVwyCG6e652D"
      },
      "source": [
        "##Рубан Александр\n",
        "Туториал прошел. Изменил ввыод на более читаемый"
      ]
    }
  ]
}