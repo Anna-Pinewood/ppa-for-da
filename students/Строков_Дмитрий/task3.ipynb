{
  "cells": [
    {
      "cell_type": "markdown",
      "metadata": {},
      "source": [
        "Ссылка на вторую часть исследований - https://github.com/foreg/emg"
      ]
    },
    {
      "cell_type": "code",
      "execution_count": null,
      "metadata": {
        "id": "3gp4SBHkB-sz"
      },
      "outputs": [],
      "source": [
        "import numpy as np\n",
        "import pandas as pd\n",
        "import glob\n",
        "import os\n",
        "\n",
        "from sklearn.model_selection import cross_val_score, cross_val_predict, train_test_split \n",
        "from sklearn.model_selection import RepeatedStratifiedKFold\n",
        "from sklearn.linear_model import LogisticRegression\n",
        "from sklearn.metrics import multilabel_confusion_matrix, confusion_matrix, plot_confusion_matrix\n",
        "from collections import Counter\n",
        "from matplotlib import pyplot\n",
        "from sklearn.svm import SVC\n",
        "from sklearn.neighbors import KNeighborsClassifier \n",
        "from sklearn.tree import DecisionTreeClassifier "
      ]
    },
    {
      "cell_type": "code",
      "execution_count": null,
      "metadata": {
        "colab": {
          "base_uri": "https://localhost:8080/"
        },
        "id": "COiDCj1qoHCa",
        "outputId": "23e82adc-f59f-4d10-cffe-bc1ebf7155be"
      },
      "outputs": [
        {
          "data": {
            "text/plain": [
              "['/content/drive/MyDrive/datasets/03/1_raw_data_09-32_11.04.16.txt',\n",
              " '/content/drive/MyDrive/datasets/03/2_raw_data_09-34_11.04.16.txt',\n",
              " '/content/drive/MyDrive/datasets/02/1_raw_data_14-19_22.03.16.txt',\n",
              " '/content/drive/MyDrive/datasets/02/2_raw_data_14-21_22.03.16.txt',\n",
              " '/content/drive/MyDrive/datasets/01/2_raw_data_13-13_22.03.16.txt',\n",
              " '/content/drive/MyDrive/datasets/01/1_raw_data_13-12_22.03.16.txt']"
            ]
          },
          "execution_count": 19,
          "metadata": {
            "tags": []
          },
          "output_type": "execute_result"
        }
      ],
      "source": [
        "all_files = glob.glob(os.path.join('/content/drive/MyDrive/datasets/0[123]', \"*.txt\"))\n",
        "all_files"
      ]
    },
    {
      "cell_type": "code",
      "execution_count": null,
      "metadata": {
        "id": "RASaMnsBC2xG"
      },
      "outputs": [],
      "source": [
        "def get_dataset():\n",
        "\tall_files = glob.glob(os.path.join('/content/drive/MyDrive/datasets/*', \"*.txt\"))\n",
        "\n",
        "\tdata = pd.concat((pd.read_csv(f, sep='\\t') for f in all_files))\n",
        "\tnot_zero_class = (data['class'] != 0) #& (data['class'] != 6)\n",
        "\tdata = data[not_zero_class]\n",
        "\tindices_to_keep = ~data.isin([np.nan, np.inf, -np.inf]).any(1)\n",
        "\tdata = data[indices_to_keep].astype(np.float64)\n",
        "\t# data = data.fillna(data.mean())\n",
        "\n",
        "\tX = np.array([data.channel1, data.channel2, data.channel3, data.channel4, data.channel5, data.channel6, data.channel7, data.channel8]).T\n",
        "\ty = np.array(data['class']).T\n",
        "\tprint(np.unique(y))\n",
        "\treturn X, y"
      ]
    },
    {
      "cell_type": "code",
      "execution_count": null,
      "metadata": {
        "id": "nGtwbCrJC8I1"
      },
      "outputs": [],
      "source": [
        "def get_models():\n",
        "\tmodels = dict()\n",
        "\tfor p in [0.1]:#, 0.001, 0.01, 0.1, 1.0]:\n",
        "\t\tkey = '%.4f' % p\n",
        "\t\tmodels[key] = LogisticRegression(multi_class='multinomial', solver='lbfgs', penalty='l2', C=p)\n",
        "\treturn models"
      ]
    },
    {
      "cell_type": "code",
      "execution_count": null,
      "metadata": {
        "id": "ymiUJb3LC-l8"
      },
      "outputs": [],
      "source": [
        "\r\n",
        "def evaluate_model(model, X_train, y_train, X_test, y_test):\r\n",
        "\t# model = model.fit(X_train, y_train)\r\n",
        "\t# model = SVC(kernel = 'linear', C = 1).fit(X_train, y_train)\r\n",
        "\t# model = KNeighborsClassifier(n_neighbors = 3).fit(X_train, y_train)\r\n",
        "\tmodel = dtree_model = DecisionTreeClassifier(max_depth = 64).fit(X_train, y_train)\r\n",
        "\ty_pred = model.predict(X_test)\r\n",
        "\t\r\n",
        "\taccuracy = model.score(X_test, y_test) \r\n",
        "\tprint(accuracy)\r\n",
        "\tconf_mat = confusion_matrix(y_test, y_pred)\r\n",
        "\tprint(conf_mat)\r\n",
        "\tplot_confusion_matrix(model, X_test, y_test, normalize='true')  "
      ]
    },
    {
      "cell_type": "code",
      "execution_count": null,
      "metadata": {
        "colab": {
          "base_uri": "https://localhost:8080/",
          "height": 639
        },
        "id": "B51q0SnPlZ5p",
        "outputId": "2ba676c3-9b08-4aaa-dd21-6dd8078586a1"
      },
      "outputs": [
        {
          "name": "stdout",
          "output_type": "stream",
          "text": [
            "[1. 2. 3. 4. 5. 6. 7.]\n",
            "Class=1, n=250055 (16.530%)\n",
            "Class=2, n=243193 (16.076%)\n",
            "Class=3, n=249494 (16.493%)\n",
            "Class=4, n=251570 (16.630%)\n",
            "Class=5, n=251733 (16.641%)\n",
            "Class=6, n=253009 (16.725%)\n",
            "Class=7, n=13696 (0.905%)\n"
          ]
        },
        {
          "data": {
            "image/png": "[encoded data removed]",
            "text/plain": [
              "<Figure size 432x288 with 1 Axes>"
            ]
          },
          "metadata": {
            "needs_background": "light",
            "tags": []
          },
          "output_type": "display_data"
        },
        {
          "name": "stdout",
          "output_type": "stream",
          "text": [
            "[[ 2.0e-05  0.0e+00 -3.0e-05 ...  2.0e-05  4.0e-05 -2.0e-05]\n",
            " [ 2.0e-05  0.0e+00 -3.0e-05 ...  2.0e-05  4.0e-05 -2.0e-05]\n",
            " [ 2.0e-05  0.0e+00 -3.0e-05 ...  2.0e-05  4.0e-05 -2.0e-05]\n",
            " ...\n",
            " [-2.7e-04 -6.0e-05  3.0e-05 ...  1.5e-04 -7.0e-05 -1.0e-04]\n",
            " [-2.7e-04 -6.0e-05  3.0e-05 ...  1.5e-04 -7.0e-05 -1.0e-04]\n",
            " [-2.7e-04 -6.0e-05  3.0e-05 ...  1.5e-04 -7.0e-05 -1.0e-04]]\n",
            "[[ 1.0e-04  3.0e-05  2.0e-05 ... -9.0e-05  3.7e-04  5.9e-04]\n",
            " [-9.0e-05  9.0e-05  5.0e-05 ...  3.0e-05 -4.0e-05 -2.4e-04]\n",
            " [ 1.0e-05  1.3e-04  1.3e-04 ...  8.0e-05  9.0e-05  4.0e-05]\n",
            " ...\n",
            " [ 3.0e-05 -1.2e-04 -1.7e-04 ... -8.0e-05 -3.0e-05  2.0e-05]\n",
            " [-2.0e-04 -4.0e-05  0.0e+00 ... -5.0e-05 -3.0e-05 -3.0e-05]\n",
            " [ 1.0e-05  2.0e-05 -4.0e-05 ...  5.0e-05  0.0e+00  1.0e-05]]\n"
          ]
        }
      ],
      "source": [
        "X, y = get_dataset()\n",
        "X_train, X_test, y_train, y_test = train_test_split(X, y, random_state = 0)\n",
        "\n",
        "counter = Counter(y)\n",
        "for k,v in counter.items():\n",
        "\tper = v / len(y) * 100\n",
        "\tprint('Class=%d, n=%d (%.3f%%)' % (k, v, per))\n",
        "# plot the distribution\n",
        "pyplot.bar(counter.keys(), counter.values())\n",
        "pyplot.show()\n",
        "print(X)\n",
        "print(X_train)"
      ]
    },
    {
      "cell_type": "markdown",
      "metadata": {
        "id": "jpmfOikjrAFq"
      },
      "source": [
        "[0. 1. 2. 3. 4. 5. 6. 7.]  \n",
        "Class=0, n=2725157 (64.304%)  \n",
        "Class=1, n=250055 (5.900%)  \n",
        "Class=2, n=243193 (5.739%)  \n",
        "Class=3, n=249494 (5.887%)  \n",
        "Class=4, n=251570 (5.936%)  \n",
        "Class=5, n=251733 (5.940%)  \n",
        "Class=6, n=253009 (5.970%)  \n",
        "Class=7, n=13696 (0.323%)  \n",
        "Total = 4237907  \n",
        "[1. 2. 3. 4. 5. 6. 7.]  \n",
        "Class=1, n=250055 (16.530%)  \n",
        "Class=2, n=243193 (16.076%)  \n",
        "Class=3, n=249494 (16.493%)  \n",
        "Class=4, n=251570 (16.630%)  \n",
        "Class=5, n=251733 (16.641%)  \n",
        "Class=6, n=253009 (16.725%)  \n",
        "Class=7, n=13696 (0.905%)  "
      ]
    },
    {
      "cell_type": "code",
      "execution_count": null,
      "metadata": {
        "colab": {
          "base_uri": "https://localhost:8080/",
          "height": 415
        },
        "id": "-1j9tUkJDBqZ",
        "outputId": "f143044c-1f17-4a24-d615-da7a20634b5f"
      },
      "outputs": [
        {
          "name": "stdout",
          "output_type": "stream",
          "text": [
            "0.9812394893545009\n",
            "[[62132    45    92    56    99    46     2]\n",
            " [   51 59485   392   243   309   360    18]\n",
            " [   83   331 61209    83   214   495    25]\n",
            " [   60   222    96 61352   560   251    22]\n",
            " [  147   277   196   555 61549   193    12]\n",
            " [   43   392   504   281   169 62043    62]\n",
            " [    0    25    23    12    15    34  3323]]\n"
          ]
        },
        {
          "data": {
            "image/png": "[encoded data removed]",
            "text/plain": [
              "<Figure size 432x288 with 2 Axes>"
            ]
          },
          "metadata": {
            "needs_background": "light",
            "tags": []
          },
          "output_type": "display_data"
        }
      ],
      "source": [
        "models = get_models()\n",
        "\n",
        "results, names = list(), list()\n",
        "for name, model in models.items():\n",
        "\t# scores = evaluate_model(model, X, y)\n",
        "\tevaluate_model(model, X_train, y_train, X_test, y_test)\n",
        "\n",
        "\t# results.append(scores)\n",
        "\t# names.append(name)\n",
        "\n",
        "\t# print('>%s %.3f (%.3f)' % (name, np.mean(scores), np.std(scores)))"
      ]
    },
    {
      "cell_type": "markdown",
      "metadata": {
        "id": "kNeVHCF4sr_P"
      },
      "source": [
        "0.966902704475023  \n",
        "[[62042    32    97    66   189    43     3]  \n",
        " [  130 58244   675   456   552   762    39]  \n",
        " [  248   551 60048   173   414   959    47]  \n",
        " [  127   330   114 60522  1020   428    22]  \n",
        " [  317   369   387  1109 60499   227    21]  \n",
        " [  129   529   853   556   265 61093    69]  \n",
        " [   10    24    31    27    25    92  3223]]  "
      ]
    },
    {
      "cell_type": "code",
      "execution_count": null,
      "metadata": {
        "id": "oIdKulrwJC_v"
      },
      "outputs": [],
      "source": []
    }
  ],
  "metadata": {
    "colab": {
      "collapsed_sections": [],
      "name": "Копия Untitled0.ipynb",
      "provenance": []
    },
    "interpreter": {
      "hash": "17c3076f4510d6a34b839f928173861849207af1837995d5aa7be0cf1f5ca722"
    },
    "kernelspec": {
      "display_name": "Python 3.7.2 32-bit",
      "name": "python3"
    },
    "language_info": {
      "name": "python",
      "version": ""
    }
  },
  "nbformat": 4,
  "nbformat_minor": 0
}